{
 "cells": [
  {
   "cell_type": "markdown",
   "id": "9e4ebe25-0ccf-4e3f-8540-4f046d940084",
   "metadata": {},
   "source": [
    "- What is Python?\n",
    "\n",
    "- -->1)python is programming language.python is **_interpreted_ ,_object oriented,high level_** programming language with **dynamic sematics**. \n",
    "\n",
    "- $$interpreted$$==> python is interpreted language.for example suppose if i write 3 lines of code in python, and we get error in 2nd line.so intreted will do the task like -- read the code __LINE-BY-LINE__  and where he found the error interpreted will stop at that position and give error but it will execute upsided lines if they dont have an error.so this is how python works on interpreted \n",
    "- $$__IT MEANS THAT INTERPRETED READS THE CODE LINE BY LINE AND GIVES THE OUTPUT LINE BY LINE__$$"
   ]
  },
  {
   "cell_type": "markdown",
   "id": "46863ed9-f8f2-4dbb-af6e-0b4dd344fca7",
   "metadata": {},
   "source": [
    "$$Compiler$$\n",
    "- were in other language like c,c++,java-->> works on compiler \n",
    "- first we need compile it and then run it \n",
    "- we dont know the error until code runs successfully . suppose if i write a 10 lines of code and i am getting error in five lines.then i have to make it right first and then and can proceed further\n"
   ]
  },
  {
   "cell_type": "markdown",
   "id": "d941919e-226c-47a2-9401-68ab2cdbce44",
   "metadata": {},
   "source": [
    "$$__Object oriented__ $$"
   ]
  },
  {
   "cell_type": "markdown",
   "id": "db69c421-38d3-4d20-b677-01a714d535f0",
   "metadata": {},
   "source": [
    "- python  and java both are object oriented -\n",
    "-  means program made under the object and class \n",
    "- like we wirte code in the form of structure "
   ]
  },
  {
   "cell_type": "markdown",
   "id": "62b27901-7d00-4308-af00-cd3a4844a00b",
   "metadata": {},
   "source": [
    "$$__High level programming language__$$"
   ]
  },
  {
   "cell_type": "markdown",
   "id": "2446c9c9-43e8-4dba-8f37-9b303c359e9b",
   "metadata": {},
   "source": [
    "- meand we use english, hindi, marathi language for communicating with each other\n",
    "- simmilarly we use  programming language to communicate with the pc so for that simply we can write code in python like how we talk in english.\n",
    "- it is easy to write code in python "
   ]
  },
  {
   "cell_type": "markdown",
   "id": "620fa87c-97f6-486c-8d7b-39c7dd83af1d",
   "metadata": {},
   "source": [
    "$$__Dynamic type__$$"
   ]
  },
  {
   "cell_type": "markdown",
   "id": "94dca5e4-0455-4246-bb08-e34505853e8a",
   "metadata": {},
   "source": [
    "- code don't  know the data type until the code runs successfully .\n",
    "- but in other language like c,c++,java first we need to define variable type "
   ]
  },
  {
   "cell_type": "markdown",
   "id": "db7c225e-4f75-40c3-8811-bde32c4f8ee9",
   "metadata": {},
   "source": [
    "- **python syntax are easy compared to other languages**"
   ]
  },
  {
   "cell_type": "markdown",
   "id": "0f0184c1-1961-4dd6-b143-29d15854e43f",
   "metadata": {},
   "source": [
    "$$Hisotory - of - Python $$"
   ]
  },
  {
   "cell_type": "markdown",
   "id": "5b3650bd-73a2-44d8-a2aa-a146cbc08a43",
   "metadata": {},
   "source": [
    "- python was introduced by guido van rossum in 1989\n",
    "- first version of python in 1991.\n",
    "- in 1994,Oython released with new feature which map, filter,lambda.\n",
    "- python2.X also add some more feature which map,filter ,lambda\n",
    "- python2.X also add some more feature like comrehension, garbage collection system\n",
    "- after Python2.X Python3.X releasred in 2008\n"
   ]
  },
  {
   "cell_type": "markdown",
   "id": "6cee73d7-d230-4675-830c-2dcc064db552",
   "metadata": {},
   "source": [
    "$$Features - of -  Python$$"
   ]
  },
  {
   "cell_type": "markdown",
   "id": "7edc1473-d454-439a-a6ae-48da6cafd338",
   "metadata": {},
   "source": [
    "- Easy to learn and implement open source \n",
    "- Board standard library | cross paltform\n",
    "- work on interpreter logic | multi - paradigm language\n",
    "- high level programming\n",
    "- Extended language\n",
    "- Expressive Programming Language | expressive programming language \n",
    "-  GUI programming support"
   ]
  },
  {
   "cell_type": "markdown",
   "id": "27ee1815-30cd-4e22-a0a4-3f9b6a35de72",
   "metadata": {},
   "source": [
    "$$Applications - of - python$$"
   ]
  },
  {
   "cell_type": "markdown",
   "id": "a8426fea-738a-466b-b22c-1b1a78495479",
   "metadata": {},
   "source": [
    "- Network Programming\n",
    "- data Analysis\n",
    "- Robotics\n",
    "- website application development(django library use)\n",
    "- desktop application (tkinter library use)\n",
    "- games development\n",
    "- web scraping\n",
    "- data visualization\n",
    "- scientific calculation\n",
    "- machine learning and artificial intellegience \n",
    "- 3d application development\n",
    "- audio and video software development"
   ]
  },
  {
   "cell_type": "markdown",
   "id": "e1cafa5b-1bdf-4c22-b8c8-92cac9d9b045",
   "metadata": {},
   "source": [
    "$$Companies - using - python$$\n"
   ]
  },
  {
   "cell_type": "markdown",
   "id": "e83a6e3c-4d12-4326-aa22-26aea3b44140",
   "metadata": {},
   "source": [
    "- Google\n",
    "- Netflix --> use for video buffering\n",
    "- Facebook -->> handle the large amount of the data\n",
    "- Dropbox--> make the server site programming\n",
    "- instagram--> use for image and video processing(handle large data)\n",
    "- utorrent -->peer to peer connections\n",
    "- you tube--> recommnedation system\n",
    "- NASA--> use for scientific calculations\n",
    "- Quora --> reading and writing readibility "
   ]
  },
  {
   "cell_type": "code",
   "execution_count": null,
   "id": "be9ce44f-70d8-4064-b631-bb7c478504c7",
   "metadata": {},
   "outputs": [],
   "source": []
  }
 ],
 "metadata": {
  "kernelspec": {
   "display_name": "Python 3 (ipykernel)",
   "language": "python",
   "name": "python3"
  },
  "language_info": {
   "codemirror_mode": {
    "name": "ipython",
    "version": 3
   },
   "file_extension": ".py",
   "mimetype": "text/x-python",
   "name": "python",
   "nbconvert_exporter": "python",
   "pygments_lexer": "ipython3",
   "version": "3.9.12"
  }
 },
 "nbformat": 4,
 "nbformat_minor": 5
}
