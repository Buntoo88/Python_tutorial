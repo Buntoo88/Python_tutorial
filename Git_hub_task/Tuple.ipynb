{
 "cells": [
  {
   "cell_type": "markdown",
   "id": "e584f6ab-2d6e-4183-941b-d3b9436ba449",
   "metadata": {},
   "source": [
    "$$Tuple$$"
   ]
  },
  {
   "cell_type": "markdown",
   "id": "41627de2-5707-4df3-b5f5-4dd59ca22924",
   "metadata": {},
   "source": [
    "$$__Tuple__$$"
   ]
  },
  {
   "cell_type": "markdown",
   "id": "21103884-2969-455d-a1b4-1bf210bf0eb7",
   "metadata": {},
   "source": [
    "**Introduction**\n",
    "- Tuple is a collection which allows us to put many objects in a single object\n",
    "- Same definitions as List\n",
    "\n",
    "**Interview Question**\n",
    "- what is the difference Beteween **Tuple** and **List** is \n",
    "\n",
    "$$LIST$$\n",
    "\n",
    "- **Lists are mutable**\n",
    "- list consume **more memory** \n",
    "- list have **built in method** \n",
    "- unexpected changes and error are more likely to occur \n",
    "- list written under **square bracket []**\n",
    "\n",
    "$$Tuple$$\n",
    "\n",
    "- **Tuples are immutable*\n",
    "- Tuple are consume **less memory** as comapred to list\n",
    "- tuple **does not have any built in** methods\n",
    "- tuple is comma separated **( , )**"
   ]
  },
  {
   "cell_type": "code",
   "execution_count": 1,
   "id": "47e58cf7-999d-4a7f-8923-eeff847a22e5",
   "metadata": {},
   "outputs": [],
   "source": [
    "movies=(\"Tenet\",\"Ice age\",\"gravity\",\"joker\",\"spiderman\")"
   ]
  },
  {
   "cell_type": "code",
   "execution_count": 2,
   "id": "85cf1d2a-3239-4ff9-aff2-f41c3246e13e",
   "metadata": {},
   "outputs": [
    {
     "data": {
      "text/plain": [
       "('Tenet', 'Ice age', 'gravity', 'joker', 'spiderman')"
      ]
     },
     "execution_count": 2,
     "metadata": {},
     "output_type": "execute_result"
    }
   ],
   "source": [
    "movies"
   ]
  },
  {
   "cell_type": "code",
   "execution_count": 3,
   "id": "7afa057d-3e58-443a-a795-53514bcf463d",
   "metadata": {},
   "outputs": [
    {
     "data": {
      "text/plain": [
       "tuple"
      ]
     },
     "execution_count": 3,
     "metadata": {},
     "output_type": "execute_result"
    }
   ],
   "source": [
    "type(movies)"
   ]
  },
  {
   "cell_type": "code",
   "execution_count": 4,
   "id": "b072d809-1f7a-4d36-a1b5-90926f540e5a",
   "metadata": {},
   "outputs": [
    {
     "data": {
      "text/plain": [
       "5"
      ]
     },
     "execution_count": 4,
     "metadata": {},
     "output_type": "execute_result"
    }
   ],
   "source": [
    "len(movies)"
   ]
  },
  {
   "cell_type": "code",
   "execution_count": 5,
   "id": "322fb9b6-73ac-4cef-92ec-e9c7d98c1085",
   "metadata": {},
   "outputs": [],
   "source": [
    "mixed_tuple = (\"blr\",33.6,\"Hyd\",True,40,None)"
   ]
  },
  {
   "cell_type": "code",
   "execution_count": 6,
   "id": "68be625d-3a74-43cf-ab50-218d4c087ed2",
   "metadata": {},
   "outputs": [
    {
     "data": {
      "text/plain": [
       "tuple"
      ]
     },
     "execution_count": 6,
     "metadata": {},
     "output_type": "execute_result"
    }
   ],
   "source": [
    "type(mixed_tuple)"
   ]
  },
  {
   "cell_type": "markdown",
   "id": "2ddceb5c-6d85-4a2b-9b4a-b838303b036c",
   "metadata": {},
   "source": [
    "$$Accessing - elements -  of - a - tuple$$"
   ]
  },
  {
   "cell_type": "code",
   "execution_count": 7,
   "id": "bb896c57-e120-4d98-8406-888d14d5a4cd",
   "metadata": {},
   "outputs": [
    {
     "data": {
      "text/plain": [
       "('Tenet', 'Ice age', 'gravity', 'joker', 'spiderman')"
      ]
     },
     "execution_count": 7,
     "metadata": {},
     "output_type": "execute_result"
    }
   ],
   "source": [
    "movies"
   ]
  },
  {
   "cell_type": "code",
   "execution_count": 8,
   "id": "a6327930-a4de-44b6-9034-b1b1f1b10159",
   "metadata": {},
   "outputs": [
    {
     "data": {
      "text/plain": [
       "'gravity'"
      ]
     },
     "execution_count": 8,
     "metadata": {},
     "output_type": "execute_result"
    }
   ],
   "source": [
    "movies[2]"
   ]
  },
  {
   "cell_type": "code",
   "execution_count": 9,
   "id": "cd1318b2-ac9a-469f-89e1-b745c38cacf2",
   "metadata": {},
   "outputs": [
    {
     "data": {
      "text/plain": [
       "'Tenet'"
      ]
     },
     "execution_count": 9,
     "metadata": {},
     "output_type": "execute_result"
    }
   ],
   "source": [
    "movies[0]"
   ]
  },
  {
   "cell_type": "code",
   "execution_count": 10,
   "id": "1b1b1ecd-aecf-4c4b-aeb4-fe59b5abbdc1",
   "metadata": {},
   "outputs": [
    {
     "data": {
      "text/plain": [
       "'spiderman'"
      ]
     },
     "execution_count": 10,
     "metadata": {},
     "output_type": "execute_result"
    }
   ],
   "source": [
    "movies[-1]"
   ]
  },
  {
   "cell_type": "code",
   "execution_count": 13,
   "id": "ff1b33ee-454b-4841-840e-b21ff728abad",
   "metadata": {},
   "outputs": [
    {
     "ename": "IndexError",
     "evalue": "tuple index out of range",
     "output_type": "error",
     "traceback": [
      "\u001b[1;31m---------------------------------------------------------------------------\u001b[0m",
      "\u001b[1;31mIndexError\u001b[0m                                Traceback (most recent call last)",
      "Cell \u001b[1;32mIn [13], line 1\u001b[0m\n\u001b[1;32m----> 1\u001b[0m \u001b[43mmovies\u001b[49m\u001b[43m[\u001b[49m\u001b[38;5;241;43m8\u001b[39;49m\u001b[43m]\u001b[49m\n",
      "\u001b[1;31mIndexError\u001b[0m: tuple index out of range"
     ]
    }
   ],
   "source": [
    "movies[8]"
   ]
  },
  {
   "cell_type": "markdown",
   "id": "cda38ff9-acd2-49b9-bc8e-97d253edba26",
   "metadata": {},
   "source": [
    "$$Slicing$$"
   ]
  },
  {
   "cell_type": "code",
   "execution_count": 14,
   "id": "4af355eb-651a-4e26-8841-c106d8083ccf",
   "metadata": {},
   "outputs": [
    {
     "data": {
      "text/plain": [
       "('Tenet', 'Ice age', 'gravity', 'joker', 'spiderman')"
      ]
     },
     "execution_count": 14,
     "metadata": {},
     "output_type": "execute_result"
    }
   ],
   "source": [
    "movies"
   ]
  },
  {
   "cell_type": "code",
   "execution_count": 15,
   "id": "ab466419-6516-43ee-92cb-58d53bf30f17",
   "metadata": {},
   "outputs": [
    {
     "data": {
      "text/plain": [
       "('Tenet', 'Ice age', 'gravity')"
      ]
     },
     "execution_count": 15,
     "metadata": {},
     "output_type": "execute_result"
    }
   ],
   "source": [
    "movies[0:3]"
   ]
  },
  {
   "cell_type": "code",
   "execution_count": 16,
   "id": "7d9e1988-4dca-4197-83db-7fd24d3b6437",
   "metadata": {},
   "outputs": [
    {
     "data": {
      "text/plain": [
       "('Tenet', 'Ice age', 'gravity')"
      ]
     },
     "execution_count": 16,
     "metadata": {},
     "output_type": "execute_result"
    }
   ],
   "source": [
    "movies[:3]"
   ]
  },
  {
   "cell_type": "code",
   "execution_count": 18,
   "id": "6e18c153-bb8c-412b-8efd-5de20d9a3831",
   "metadata": {},
   "outputs": [
    {
     "data": {
      "text/plain": [
       "('Ice age', 'gravity')"
      ]
     },
     "execution_count": 18,
     "metadata": {},
     "output_type": "execute_result"
    }
   ],
   "source": [
    "movies[-4:-2]"
   ]
  },
  {
   "cell_type": "markdown",
   "id": "1f699f96-35ae-423a-93b3-848542beb0a5",
   "metadata": {},
   "source": [
    "$$Modifying -  a -  tuple$$"
   ]
  },
  {
   "cell_type": "code",
   "execution_count": 20,
   "id": "2d5c32cb-a5b8-4800-ad0f-96b9c688abea",
   "metadata": {},
   "outputs": [
    {
     "data": {
      "text/plain": [
       "('Tenet', 'Ice age', 'gravity', 'joker', 'spiderman')"
      ]
     },
     "execution_count": 20,
     "metadata": {},
     "output_type": "execute_result"
    }
   ],
   "source": [
    "movies"
   ]
  },
  {
   "cell_type": "code",
   "execution_count": 22,
   "id": "be76a47c-7eb4-47bf-946a-38e1d223d565",
   "metadata": {},
   "outputs": [
    {
     "data": {
      "text/plain": [
       "'spiderman'"
      ]
     },
     "execution_count": 22,
     "metadata": {},
     "output_type": "execute_result"
    }
   ],
   "source": [
    "movies[4]"
   ]
  },
  {
   "cell_type": "code",
   "execution_count": 23,
   "id": "83255395-4bc7-4afa-a73e-43d7178b9bc7",
   "metadata": {},
   "outputs": [
    {
     "ename": "TypeError",
     "evalue": "'tuple' object does not support item assignment",
     "output_type": "error",
     "traceback": [
      "\u001b[1;31m---------------------------------------------------------------------------\u001b[0m",
      "\u001b[1;31mTypeError\u001b[0m                                 Traceback (most recent call last)",
      "Cell \u001b[1;32mIn [23], line 1\u001b[0m\n\u001b[1;32m----> 1\u001b[0m \u001b[43mmovies\u001b[49m\u001b[43m[\u001b[49m\u001b[38;5;241;43m4\u001b[39;49m\u001b[43m]\u001b[49m\u001b[38;5;241m=\u001b[39m\u001b[38;5;124m\"\u001b[39m\u001b[38;5;124mant man\u001b[39m\u001b[38;5;124m\"\u001b[39m\n",
      "\u001b[1;31mTypeError\u001b[0m: 'tuple' object does not support item assignment"
     ]
    }
   ],
   "source": [
    "movies[4]=\"ant man\""
   ]
  },
  {
   "cell_type": "markdown",
   "id": "b4758c99-c3f4-4281-b91e-daf53edb791b",
   "metadata": {},
   "source": [
    "$$Method - of - Tuple$$"
   ]
  },
  {
   "cell_type": "markdown",
   "id": "ac1de7bb-3562-4a0a-b66f-3f640364a10c",
   "metadata": {},
   "source": [
    "- 1. index(elem)\n",
    "- 2. count(elem) "
   ]
  },
  {
   "cell_type": "markdown",
   "id": "4b063772-89f9-4797-8623-923f9fedbac7",
   "metadata": {},
   "source": [
    "- index(elem)--> Returns index of the first occurance of element"
   ]
  },
  {
   "cell_type": "code",
   "execution_count": 37,
   "id": "a78ba105-6d22-467f-9844-563a486f281c",
   "metadata": {},
   "outputs": [
    {
     "data": {
      "text/plain": [
       "10"
      ]
     },
     "execution_count": 37,
     "metadata": {},
     "output_type": "execute_result"
    }
   ],
   "source": [
    "a = (1,2,3,4,5,6,7,8,9,10)\n",
    "len(a)"
   ]
  },
  {
   "cell_type": "code",
   "execution_count": 38,
   "id": "f2f78768-ae25-4173-b0ad-0d9e2539f1b5",
   "metadata": {},
   "outputs": [],
   "source": [
    "movies=(\"golmal\",\"dhamal\",\"yeh_jawani\",\"bhootnath\",\"om_shanti\")"
   ]
  },
  {
   "cell_type": "code",
   "execution_count": 39,
   "id": "06d650c4-57c7-4fb9-b279-bc884ed5e62b",
   "metadata": {},
   "outputs": [
    {
     "data": {
      "text/plain": [
       "('golmal', 'dhamal', 'yeh_jawani', 'bhootnath', 'om_shanti')"
      ]
     },
     "execution_count": 39,
     "metadata": {},
     "output_type": "execute_result"
    }
   ],
   "source": [
    "movies"
   ]
  },
  {
   "cell_type": "code",
   "execution_count": 40,
   "id": "97be5d09-507e-4eb9-9ec7-5015abb6962f",
   "metadata": {},
   "outputs": [
    {
     "data": {
      "text/plain": [
       "5"
      ]
     },
     "execution_count": 40,
     "metadata": {},
     "output_type": "execute_result"
    }
   ],
   "source": [
    "len(movies)"
   ]
  },
  {
   "cell_type": "code",
   "execution_count": 41,
   "id": "1f11f29e-732a-46d4-8743-511d778dd973",
   "metadata": {},
   "outputs": [
    {
     "data": {
      "text/plain": [
       "0"
      ]
     },
     "execution_count": 41,
     "metadata": {},
     "output_type": "execute_result"
    }
   ],
   "source": [
    "movies.index(\"golmal\")"
   ]
  },
  {
   "cell_type": "code",
   "execution_count": 42,
   "id": "c3a108d3-2334-4c9b-89f7-95cf28de1159",
   "metadata": {},
   "outputs": [
    {
     "data": {
      "text/plain": [
       "3"
      ]
     },
     "execution_count": 42,
     "metadata": {},
     "output_type": "execute_result"
    }
   ],
   "source": [
    "movies.index(\"bhootnath\")"
   ]
  },
  {
   "cell_type": "code",
   "execution_count": 43,
   "id": "4ec5add4-0c8e-410c-9c1a-333eb4d7d46d",
   "metadata": {},
   "outputs": [
    {
     "ename": "ValueError",
     "evalue": "tuple.index(x): x not in tuple",
     "output_type": "error",
     "traceback": [
      "\u001b[1;31m---------------------------------------------------------------------------\u001b[0m",
      "\u001b[1;31mValueError\u001b[0m                                Traceback (most recent call last)",
      "Cell \u001b[1;32mIn [43], line 1\u001b[0m\n\u001b[1;32m----> 1\u001b[0m \u001b[43mmovies\u001b[49m\u001b[38;5;241;43m.\u001b[39;49m\u001b[43mindex\u001b[49m\u001b[43m(\u001b[49m\u001b[38;5;124;43m\"\u001b[39;49m\u001b[38;5;124;43mbhootnath1\u001b[39;49m\u001b[38;5;124;43m\"\u001b[39;49m\u001b[43m)\u001b[49m\n",
      "\u001b[1;31mValueError\u001b[0m: tuple.index(x): x not in tuple"
     ]
    }
   ],
   "source": [
    "movies.index(\"bhootnath1\")"
   ]
  },
  {
   "cell_type": "code",
   "execution_count": null,
   "id": "ff0c9901-c916-41aa-b620-0db2c0108929",
   "metadata": {},
   "outputs": [],
   "source": [
    "a"
   ]
  },
  {
   "cell_type": "code",
   "execution_count": 44,
   "id": "4855d143-b253-4594-9e4d-f43337ddcd2b",
   "metadata": {},
   "outputs": [
    {
     "data": {
      "text/plain": [
       "7"
      ]
     },
     "execution_count": 44,
     "metadata": {},
     "output_type": "execute_result"
    }
   ],
   "source": [
    "a.index(8,5)"
   ]
  },
  {
   "cell_type": "markdown",
   "id": "6ee7c6d4-aedb-462a-a0ca-55f0e594d1da",
   "metadata": {},
   "source": [
    "$$count(elem)$$\n",
    "- Returns the number of elem items present in it\n"
   ]
  },
  {
   "cell_type": "code",
   "execution_count": 51,
   "id": "f0005420-6576-4aac-9944-209b17ca4f45",
   "metadata": {},
   "outputs": [
    {
     "data": {
      "text/plain": [
       "1"
      ]
     },
     "execution_count": 51,
     "metadata": {},
     "output_type": "execute_result"
    }
   ],
   "source": [
    "movies.count(\"bhootnath\")"
   ]
  },
  {
   "cell_type": "code",
   "execution_count": 52,
   "id": "1b109c70-06ff-4a7b-a193-782b44593754",
   "metadata": {},
   "outputs": [
    {
     "data": {
      "text/plain": [
       "1"
      ]
     },
     "execution_count": 52,
     "metadata": {},
     "output_type": "execute_result"
    }
   ],
   "source": [
    "movies.count(\"om_shanti\")"
   ]
  },
  {
   "cell_type": "code",
   "execution_count": 54,
   "id": "a053d051-9bd2-4d0c-88b8-aa3488522875",
   "metadata": {},
   "outputs": [
    {
     "data": {
      "text/plain": [
       "(1, 2, 3, 4, 5, 6, 7, 8, 9, 10)"
      ]
     },
     "execution_count": 54,
     "metadata": {},
     "output_type": "execute_result"
    }
   ],
   "source": [
    "a"
   ]
  },
  {
   "cell_type": "code",
   "execution_count": 56,
   "id": "5db286db-fcc0-45eb-9eb3-89184a72eb65",
   "metadata": {},
   "outputs": [
    {
     "data": {
      "text/plain": [
       "1"
      ]
     },
     "execution_count": 56,
     "metadata": {},
     "output_type": "execute_result"
    }
   ],
   "source": [
    "a.count(8)"
   ]
  },
  {
   "cell_type": "markdown",
   "id": "eccab145-5add-473f-ac2e-b61d5ea1bbb6",
   "metadata": {},
   "source": [
    "$$Deleting  - a - Tuple $$"
   ]
  },
  {
   "cell_type": "code",
   "execution_count": 58,
   "id": "2cc14ff8-03e7-426e-88e8-8bb372d5b8af",
   "metadata": {},
   "outputs": [
    {
     "data": {
      "text/plain": [
       "('golmal', 'dhamal', 'yeh_jawani', 'bhootnath', 'om_shanti')"
      ]
     },
     "execution_count": 58,
     "metadata": {},
     "output_type": "execute_result"
    }
   ],
   "source": [
    "movies"
   ]
  },
  {
   "cell_type": "code",
   "execution_count": 59,
   "id": "433d075b-65d8-4630-8875-a85bb33e577a",
   "metadata": {},
   "outputs": [],
   "source": [
    "del movies"
   ]
  },
  {
   "cell_type": "code",
   "execution_count": 60,
   "id": "a060e835-ffe6-4c7a-ad73-0f82754025d8",
   "metadata": {},
   "outputs": [
    {
     "ename": "NameError",
     "evalue": "name 'movies' is not defined",
     "output_type": "error",
     "traceback": [
      "\u001b[1;31m---------------------------------------------------------------------------\u001b[0m",
      "\u001b[1;31mNameError\u001b[0m                                 Traceback (most recent call last)",
      "Cell \u001b[1;32mIn [60], line 1\u001b[0m\n\u001b[1;32m----> 1\u001b[0m \u001b[43mmovies\u001b[49m\n",
      "\u001b[1;31mNameError\u001b[0m: name 'movies' is not defined"
     ]
    }
   ],
   "source": [
    "movies"
   ]
  },
  {
   "cell_type": "markdown",
   "id": "321b7e6e-8dcd-4050-a4bb-62b0cdc1c355",
   "metadata": {},
   "source": [
    "$$Operators - on - Tuple$$"
   ]
  },
  {
   "cell_type": "markdown",
   "id": "38c36e0e-f5f6-44f3-b05f-472112a809e6",
   "metadata": {},
   "source": [
    "- 1. Membership\n",
    "- 2. Arithmetic"
   ]
  },
  {
   "cell_type": "markdown",
   "id": "d3af8e42-67a9-4f2e-bb00-b7594b7ba5d0",
   "metadata": {},
   "source": [
    "- **Membership**\n",
    "- in\n",
    "- not in"
   ]
  },
  {
   "cell_type": "code",
   "execution_count": 61,
   "id": "bcff880f-1e1e-4d6f-89c5-4e9e7725030a",
   "metadata": {},
   "outputs": [
    {
     "data": {
      "text/plain": [
       "(1, 2, 3, 4, 5, 6, 7, 8, 9, 10)"
      ]
     },
     "execution_count": 61,
     "metadata": {},
     "output_type": "execute_result"
    }
   ],
   "source": [
    "a"
   ]
  },
  {
   "cell_type": "code",
   "execution_count": 62,
   "id": "bcdcf614-d765-48d5-ba09-ae782d82a814",
   "metadata": {},
   "outputs": [
    {
     "data": {
      "text/plain": [
       "True"
      ]
     },
     "execution_count": 62,
     "metadata": {},
     "output_type": "execute_result"
    }
   ],
   "source": [
    "5 in a"
   ]
  },
  {
   "cell_type": "code",
   "execution_count": 63,
   "id": "e84c9dd4-8197-4651-b14c-bde58c5cf2d0",
   "metadata": {},
   "outputs": [
    {
     "data": {
      "text/plain": [
       "True"
      ]
     },
     "execution_count": 63,
     "metadata": {},
     "output_type": "execute_result"
    }
   ],
   "source": [
    "8 in a"
   ]
  },
  {
   "cell_type": "code",
   "execution_count": 64,
   "id": "5f3f103c-de1f-4269-8d48-7351037e7c79",
   "metadata": {},
   "outputs": [
    {
     "data": {
      "text/plain": [
       "False"
      ]
     },
     "execution_count": 64,
     "metadata": {},
     "output_type": "execute_result"
    }
   ],
   "source": [
    "4 not in a"
   ]
  },
  {
   "cell_type": "code",
   "execution_count": 65,
   "id": "42456c61-9a6d-444b-8265-d680a059badb",
   "metadata": {},
   "outputs": [
    {
     "data": {
      "text/plain": [
       "False"
      ]
     },
     "execution_count": 65,
     "metadata": {},
     "output_type": "execute_result"
    }
   ],
   "source": [
    "9 not in a"
   ]
  },
  {
   "cell_type": "code",
   "execution_count": 66,
   "id": "3cae7bb3-a2ed-4d66-9531-f05d839b02d6",
   "metadata": {},
   "outputs": [
    {
     "data": {
      "text/plain": [
       "True"
      ]
     },
     "execution_count": 66,
     "metadata": {},
     "output_type": "execute_result"
    }
   ],
   "source": [
    "11 not in a"
   ]
  },
  {
   "cell_type": "markdown",
   "id": "645a6e2d-3c70-46d7-8cd1-ec98b0481211",
   "metadata": {},
   "source": [
    "**Arithmetic**--> \n",
    "   +\n",
    "   *\n"
   ]
  },
  {
   "cell_type": "code",
   "execution_count": 67,
   "id": "691b4ada-dd05-4422-9423-cfd1cd0c41f4",
   "metadata": {},
   "outputs": [
    {
     "data": {
      "text/plain": [
       "(1, 2, 3, 4, 5, 6, 7, 8, 9, 10)"
      ]
     },
     "execution_count": 67,
     "metadata": {},
     "output_type": "execute_result"
    }
   ],
   "source": [
    "a"
   ]
  },
  {
   "cell_type": "code",
   "execution_count": 69,
   "id": "1179ea8f-8317-4bd4-8b07-91523940d5b5",
   "metadata": {},
   "outputs": [],
   "source": [
    "b= (\"A\",\"B\")"
   ]
  },
  {
   "cell_type": "code",
   "execution_count": 70,
   "id": "958a0be4-7e09-4796-9290-42a50af91d3e",
   "metadata": {},
   "outputs": [
    {
     "data": {
      "text/plain": [
       "(1, 2, 3, 4, 5, 6, 7, 8, 9, 10, 'A', 'B')"
      ]
     },
     "execution_count": 70,
     "metadata": {},
     "output_type": "execute_result"
    }
   ],
   "source": [
    "a+b\n"
   ]
  },
  {
   "cell_type": "code",
   "execution_count": 71,
   "id": "cd778a9c-0e70-44a4-a2a6-733f259e8099",
   "metadata": {},
   "outputs": [
    {
     "data": {
      "text/plain": [
       "('A', 'B', 'A', 'B', 'A', 'B', 'A', 'B', 'A', 'B')"
      ]
     },
     "execution_count": 71,
     "metadata": {},
     "output_type": "execute_result"
    }
   ],
   "source": [
    "b*5"
   ]
  },
  {
   "cell_type": "markdown",
   "id": "9d2e9aef-fcd1-4cb4-a97b-3d94d02f40db",
   "metadata": {},
   "source": [
    "$$Nested - Tuple $$"
   ]
  },
  {
   "cell_type": "code",
   "execution_count": 72,
   "id": "55cc8ef8-5f81-42c9-93f0-cb4de230f2bc",
   "metadata": {},
   "outputs": [],
   "source": [
    "nest1 = (\"Monday\",\"Today\",(1,2,3))"
   ]
  },
  {
   "cell_type": "code",
   "execution_count": 74,
   "id": "ee3deeec-b689-4ed2-9fae-f988ebe5c7cc",
   "metadata": {},
   "outputs": [
    {
     "data": {
      "text/plain": [
       "(1, 2, 3)"
      ]
     },
     "execution_count": 74,
     "metadata": {},
     "output_type": "execute_result"
    }
   ],
   "source": [
    " nest1[2]"
   ]
  },
  {
   "cell_type": "code",
   "execution_count": 75,
   "id": "28613dd4-6377-4b0d-9372-2fd8114eb404",
   "metadata": {},
   "outputs": [
    {
     "data": {
      "text/plain": [
       "1"
      ]
     },
     "execution_count": 75,
     "metadata": {},
     "output_type": "execute_result"
    }
   ],
   "source": [
    "nest1[2][0]"
   ]
  },
  {
   "cell_type": "markdown",
   "id": "ab09c08b-8435-42da-845c-5e12140fa85a",
   "metadata": {},
   "source": [
    "- **A matrix can be reprsented using a nested list**"
   ]
  },
  {
   "cell_type": "code",
   "execution_count": 77,
   "id": "6205bbe9-f054-4599-91ef-03aa03844f54",
   "metadata": {},
   "outputs": [],
   "source": [
    "mx=((1,2,3),(4,5,6),(7,8,9))"
   ]
  },
  {
   "cell_type": "code",
   "execution_count": 78,
   "id": "6f4845a4-d7a8-42d2-b3b8-bc94b40157ae",
   "metadata": {},
   "outputs": [
    {
     "data": {
      "text/plain": [
       "((1, 2, 3), (4, 5, 6), (7, 8, 9))"
      ]
     },
     "execution_count": 78,
     "metadata": {},
     "output_type": "execute_result"
    }
   ],
   "source": [
    "mx"
   ]
  },
  {
   "cell_type": "code",
   "execution_count": 79,
   "id": "442ad950-b097-4ce1-b6d0-5b4390d662c6",
   "metadata": {},
   "outputs": [
    {
     "data": {
      "text/plain": [
       "3"
      ]
     },
     "execution_count": 79,
     "metadata": {},
     "output_type": "execute_result"
    }
   ],
   "source": [
    "mx[0][2]"
   ]
  },
  {
   "cell_type": "markdown",
   "id": "f518a91b-a663-4a12-a271-1f25a3f87ef5",
   "metadata": {},
   "source": [
    "$$For-Loop - On - Tuple$$"
   ]
  },
  {
   "cell_type": "code",
   "execution_count": 80,
   "id": "2c382279-d983-4830-ab72-b8462f70b299",
   "metadata": {},
   "outputs": [],
   "source": [
    "movies=( \"Tenet\", \"Ice Age\", \"Gravity\", \"Joker\", \"Spiderman\", \"Avengers\",\"Endgame\")"
   ]
  },
  {
   "cell_type": "code",
   "execution_count": 81,
   "id": "63c26f8a-ad8b-4528-aee7-d9abb3aafe7e",
   "metadata": {},
   "outputs": [
    {
     "name": "stdout",
     "output_type": "stream",
     "text": [
      "tenet\n",
      "__________\n",
      "ice age\n",
      "__________\n",
      "gravity\n",
      "__________\n",
      "joker\n",
      "__________\n",
      "spiderman\n",
      "__________\n",
      "avengers\n",
      "__________\n",
      "endgame\n",
      "__________\n"
     ]
    }
   ],
   "source": [
    "for i in movies:\n",
    "    print(i.lower())\n",
    "    print('_'*10)"
   ]
  }
 ],
 "metadata": {
  "kernelspec": {
   "display_name": "Python 3 (ipykernel)",
   "language": "python",
   "name": "python3"
  },
  "language_info": {
   "codemirror_mode": {
    "name": "ipython",
    "version": 3
   },
   "file_extension": ".py",
   "mimetype": "text/x-python",
   "name": "python",
   "nbconvert_exporter": "python",
   "pygments_lexer": "ipython3",
   "version": "3.9.12"
  }
 },
 "nbformat": 4,
 "nbformat_minor": 5
}
