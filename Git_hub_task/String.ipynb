{
 "cells": [
  {
   "cell_type": "markdown",
   "id": "f3d48f6c-4b09-4325-991e-18f46ee9caec",
   "metadata": {},
   "source": [
    "$$String$$"
   ]
  },
  {
   "cell_type": "markdown",
   "id": "5ee023e4-fb37-41f6-ba75-e28d445685a5",
   "metadata": {},
   "source": [
    "**Introduction**\n"
   ]
  },
  {
   "cell_type": "markdown",
   "id": "7e8d6756-d7de-42ae-a40a-9e6a5f8efb51",
   "metadata": {},
   "source": [
    "- **STRING ARE IMMUTABLE -->CANNOT MODIFY A CHAR IN STRING ,THE ELEMENTS CANNOT BE CHANGED ONCE THEY HAVE BEEN ASSIGNED**\n",
    "- **WE CAN SIMPLY REASSIGN DIFFERENT STRINGS TO THE SAME NAME**\n",
    "- A string is a sequence of characters.\n",
    "- String means plane text i.e(letter ,sentences,word any thing)\\\n",
    "- string are always return under quotes\n",
    "- When string contain numbres, is still a string \n",
    "- we can convert numbers string into a number using int () or float() "
   ]
  },
  {
   "cell_type": "code",
   "execution_count": 2,
   "id": "fca99a7a-a712-416f-9d87-2b016873de88",
   "metadata": {},
   "outputs": [
    {
     "name": "stdout",
     "output_type": "stream",
     "text": [
      "Sudarshan\n",
      "Kulawade\n"
     ]
    }
   ],
   "source": [
    "str1=\"Sudarshan\"\n",
    "str2=\"Kulawade\"\n",
    "print(str1)\n",
    "print(str2)"
   ]
  },
  {
   "cell_type": "code",
   "execution_count": 4,
   "id": "488d8951-dfb0-4cc3-829b-16fffed235a4",
   "metadata": {},
   "outputs": [
    {
     "data": {
      "text/plain": [
       "str"
      ]
     },
     "execution_count": 4,
     "metadata": {},
     "output_type": "execute_result"
    }
   ],
   "source": [
    "type(str1)"
   ]
  },
  {
   "cell_type": "code",
   "execution_count": 9,
   "id": "61859e90-d784-4b8f-b337-77ef9824132c",
   "metadata": {},
   "outputs": [
    {
     "name": "stdout",
     "output_type": "stream",
     "text": [
      "123\n"
     ]
    },
    {
     "data": {
      "text/plain": [
       "str"
      ]
     },
     "execution_count": 9,
     "metadata": {},
     "output_type": "execute_result"
    }
   ],
   "source": [
    "str3=\"123\"\n",
    "print(str3)\n",
    "type(str3)"
   ]
  },
  {
   "cell_type": "markdown",
   "id": "35625711-6f36-4e3d-95d9-82074690e6a1",
   "metadata": {},
   "source": [
    "- String literals can be defined with single quotes or double quotes.\n",
    "- Can use other type of code inside the string "
   ]
  },
  {
   "cell_type": "code",
   "execution_count": 10,
   "id": "ca3efd0e-728d-44d4-9e34-e878b6b18309",
   "metadata": {},
   "outputs": [],
   "source": [
    "bond=\"i am bond'....'james bond\""
   ]
  },
  {
   "cell_type": "code",
   "execution_count": 12,
   "id": "d3e6272a-bade-4e51-9974-e8fbb92a7d97",
   "metadata": {},
   "outputs": [
    {
     "name": "stdout",
     "output_type": "stream",
     "text": [
      "i am bond'....'james bond\n"
     ]
    }
   ],
   "source": [
    "print(bond)"
   ]
  },
  {
   "cell_type": "markdown",
   "id": "29f3bd99-2df9-4011-a0d5-78f59d2450c7",
   "metadata": {},
   "source": [
    "$$Multiline-string$$"
   ]
  },
  {
   "cell_type": "markdown",
   "id": "e4e7198b-8ca4-47f2-b253-a0951bfdb7f7",
   "metadata": {},
   "source": [
    "- multiline strings can be initialized using '''str''' or \"\"\"str\"\"\""
   ]
  },
  {
   "cell_type": "code",
   "execution_count": 13,
   "id": "4d2b7f79-4b8c-4a52-8920-8d9b30b0b175",
   "metadata": {},
   "outputs": [],
   "source": [
    "str1='''i am sudarshan\n",
    "\"from junnar\"\n",
    "\"\"pune\"\"\"\n",
    "'''"
   ]
  },
  {
   "cell_type": "code",
   "execution_count": 14,
   "id": "62485f4b-cd8b-43e1-b7ae-131a7ed9d70b",
   "metadata": {},
   "outputs": [
    {
     "name": "stdout",
     "output_type": "stream",
     "text": [
      "i am sudarshan\n",
      "\"from junnar\"\n",
      "\"\"pune\"\"\"\n",
      "\n"
     ]
    }
   ],
   "source": [
    "print(str1)"
   ]
  },
  {
   "cell_type": "markdown",
   "id": "965c2906-d608-44ec-b746-a9f0b78aab59",
   "metadata": {},
   "source": [
    "$$Keyboard-input$$"
   ]
  },
  {
   "cell_type": "markdown",
   "id": "d22719e9-2bcb-4fb6-b9c1-8027555342fc",
   "metadata": {},
   "source": [
    "- when we take input from user by default it is in the string format"
   ]
  },
  {
   "cell_type": "code",
   "execution_count": 17,
   "id": "e76f3579-4de2-48c8-a6e2-a8662d387e3b",
   "metadata": {},
   "outputs": [
    {
     "name": "stdin",
     "output_type": "stream",
     "text": [
      "Enter you name : sudarshan \n"
     ]
    }
   ],
   "source": [
    "name =input(\"Enter you name :\")"
   ]
  },
  {
   "cell_type": "code",
   "execution_count": 18,
   "id": "4e6fe860-874a-4a60-83e2-0752f487c26d",
   "metadata": {},
   "outputs": [
    {
     "data": {
      "text/plain": [
       "str"
      ]
     },
     "execution_count": 18,
     "metadata": {},
     "output_type": "execute_result"
    }
   ],
   "source": [
    "type (name)"
   ]
  },
  {
   "cell_type": "markdown",
   "id": "0b04fd69-ae7b-40eb-ae8c-6d23b51f2259",
   "metadata": {},
   "source": [
    "- convert it into as per our requirement "
   ]
  },
  {
   "cell_type": "code",
   "execution_count": 27,
   "id": "e06ea591-e8f4-4709-92d8-a02ef9d8fc82",
   "metadata": {},
   "outputs": [
    {
     "name": "stdin",
     "output_type": "stream",
     "text": [
      "enter your mobile number  12154\n"
     ]
    },
    {
     "data": {
      "text/plain": [
       "str"
      ]
     },
     "execution_count": 27,
     "metadata": {},
     "output_type": "execute_result"
    }
   ],
   "source": [
    "number =input(\"enter your mobile number \")\n",
    "\n",
    "type(number)\n"
   ]
  },
  {
   "cell_type": "code",
   "execution_count": 24,
   "id": "a16d1c5a-f38b-4862-b9f0-b446017ec7bb",
   "metadata": {},
   "outputs": [
    {
     "name": "stdin",
     "output_type": "stream",
     "text": [
      "Enter you mobile number  12154\n"
     ]
    },
    {
     "data": {
      "text/plain": [
       "int"
      ]
     },
     "execution_count": 24,
     "metadata": {},
     "output_type": "execute_result"
    }
   ],
   "source": [
    "number2=int(input((\"Enter you mobile number \")))\n",
    "type(number2)"
   ]
  },
  {
   "cell_type": "markdown",
   "id": "7f81a6d1-c7ea-4d5d-ac93-014f441d83ad",
   "metadata": {},
   "source": [
    "- Escape Character"
   ]
  },
  {
   "cell_type": "markdown",
   "id": "085fd51d-befb-4d9e-8af0-edecefe1de9b",
   "metadata": {},
   "source": [
    "- \\n--> new line \n",
    "- Tab --> \\t\n",
    "- an escape character is a backslash \\ followed by the character you want to insert.\n",
    "\n",
    "An example of an illegal character is a double quote inside a string that is surrounded by double quotes:"
   ]
  },
  {
   "cell_type": "code",
   "execution_count": 29,
   "id": "e571b0ff-256a-436e-b213-176f1367d89e",
   "metadata": {},
   "outputs": [],
   "source": [
    "txt = \"We are the so-called\\\"Vikings\\\" from the north.\""
   ]
  },
  {
   "cell_type": "code",
   "execution_count": 30,
   "id": "f90ad6d9-f79d-481a-a831-a316eff5de72",
   "metadata": {},
   "outputs": [
    {
     "name": "stdout",
     "output_type": "stream",
     "text": [
      "We are the so-called \"Vikings\" from the north.\n"
     ]
    }
   ],
   "source": [
    "print(txt)"
   ]
  },
  {
   "cell_type": "markdown",
   "id": "351e1754-8825-4c7a-b3b7-42b9d5ee813a",
   "metadata": {},
   "source": [
    "$$1)-Length$$\n",
    "- Length-- len()-->it will give you the length of the string i.e how many charcaters are in the string \n",
    "- including whitespace (because white space is also character)\n",
    "- that why when we run program white space is calculated"
   ]
  },
  {
   "cell_type": "code",
   "execution_count": 31,
   "id": "1a104885-af3d-47f0-9b13-406b4131640a",
   "metadata": {},
   "outputs": [],
   "source": [
    "str1=\"S.u.d.a.r.s.h.a.n\""
   ]
  },
  {
   "cell_type": "code",
   "execution_count": 32,
   "id": "700d57ab-ae67-4ee4-b661-81fd5b4efeb7",
   "metadata": {},
   "outputs": [
    {
     "name": "stdout",
     "output_type": "stream",
     "text": [
      "17\n"
     ]
    }
   ],
   "source": [
    "print(len(str1))"
   ]
  },
  {
   "cell_type": "markdown",
   "id": "1af6de6d-5761-4193-b658-0da037218942",
   "metadata": {},
   "source": [
    "$$2.upper()$$"
   ]
  },
  {
   "cell_type": "markdown",
   "id": "bbcfbb3b-1e80-4921-81fd-f88893acf147",
   "metadata": {},
   "source": [
    " - upper()--> it will convert string lowercase to uppercase "
   ]
  },
  {
   "cell_type": "code",
   "execution_count": 37,
   "id": "21d6fb3f-4b03-49ed-9140-5769204711c0",
   "metadata": {},
   "outputs": [
    {
     "name": "stdout",
     "output_type": "stream",
     "text": [
      "VOLLEYBALL\n"
     ]
    }
   ],
   "source": [
    "game_name = \"volleyball\"\n",
    "print(game_name.upper())"
   ]
  },
  {
   "cell_type": "markdown",
   "id": "55760b92-a2bf-45eb-aed3-74acbe34b842",
   "metadata": {},
   "source": [
    "$$3).lower()$$"
   ]
  },
  {
   "cell_type": "markdown",
   "id": "858c7d93-c6da-4f78-9a98-6fb4474fae14",
   "metadata": {},
   "source": [
    "- .lower()--> it will convert upper case to lowercase "
   ]
  },
  {
   "cell_type": "code",
   "execution_count": 39,
   "id": "46169302-7054-4a38-8de4-5b44267aaf4a",
   "metadata": {},
   "outputs": [
    {
     "name": "stdout",
     "output_type": "stream",
     "text": [
      "volleyball\n"
     ]
    }
   ],
   "source": [
    "game_name = \"VOLLEYBALL\"\n",
    "print(game_name.lower())"
   ]
  },
  {
   "cell_type": "code",
   "execution_count": 6,
   "id": "02b27e62-cdde-44f9-a3ea-c3b3a5c8340c",
   "metadata": {},
   "outputs": [
    {
     "name": "stdin",
     "output_type": "stream",
     "text": [
      "enter your name Sachin TENDULKAR\n"
     ]
    },
    {
     "name": "stdout",
     "output_type": "stream",
     "text": [
      "sachin tendulkar\n"
     ]
    }
   ],
   "source": [
    "name=input(\"enter your name\")\n",
    "print(name.lower())"
   ]
  },
  {
   "cell_type": "markdown",
   "id": "03759526-8074-424e-abe1-948dd0350f0c",
   "metadata": {},
   "source": [
    "$$4.casefold()$$"
   ]
  },
  {
   "cell_type": "markdown",
   "id": "0d48c47e-e3a8-4e2b-9ded-2ee4d58fc76a",
   "metadata": {},
   "source": [
    "- casefold()--> Similarly we have another function for converting **UPPERCASE TO LOWER CASE**"
   ]
  },
  {
   "cell_type": "markdown",
   "id": "540ed280-6739-402b-a3c1-1df69a01ca54",
   "metadata": {},
   "source": [
    "$$5.)swapcase()$$"
   ]
  },
  {
   "cell_type": "markdown",
   "id": "bed7939a-b9f4-43d6-b75d-f4a05eda4f37",
   "metadata": {},
   "source": [
    "- .swapcase() - Swaps cases,it will convert lower case to upper and upper case to lower [vice versa]"
   ]
  },
  {
   "cell_type": "code",
   "execution_count": 9,
   "id": "6d784e19-fe02-4d1d-8762-7c2450de4806",
   "metadata": {},
   "outputs": [
    {
     "name": "stdout",
     "output_type": "stream",
     "text": [
      "SHANKARRAO bUtte paTIL Junnar\n"
     ]
    }
   ],
   "source": [
    "school_name =(\"shankarrao BuTTE PAtil jUNNAR\")\n",
    "print(school_name.swapcase())"
   ]
  },
  {
   "cell_type": "markdown",
   "id": "66a2b576-5acb-451f-ba38-341d53104205",
   "metadata": {},
   "source": [
    "$$6) .isupper()$$"
   ]
  },
  {
   "cell_type": "markdown",
   "id": "c0343962-4fb6-499a-9cc3-0839659eec8b",
   "metadata": {},
   "source": [
    "- isupper() - Returns True if all characters in the string are upper case"
   ]
  },
  {
   "cell_type": "code",
   "execution_count": 11,
   "id": "9b7ef9f0-3a16-4e77-a96c-54a0e0457b27",
   "metadata": {},
   "outputs": [
    {
     "name": "stdout",
     "output_type": "stream",
     "text": [
      "False\n"
     ]
    }
   ],
   "source": [
    "p=\"Mumbai\"\n",
    "print(p.isupper())"
   ]
  },
  {
   "cell_type": "code",
   "execution_count": 12,
   "id": "928f35e0-5035-4e51-8604-30a552d9af5e",
   "metadata": {},
   "outputs": [
    {
     "name": "stdout",
     "output_type": "stream",
     "text": [
      "True\n"
     ]
    }
   ],
   "source": [
    "p=\"PUNE\"\n",
    "print(p.isupper())"
   ]
  },
  {
   "cell_type": "markdown",
   "id": "073bf906-cf0f-4aed-bc65-bb69c61e0bd5",
   "metadata": {},
   "source": [
    "$$7). islower()$$"
   ]
  },
  {
   "cell_type": "markdown",
   "id": "4cefa659-a626-42d1-a8a6-a2550566fffb",
   "metadata": {},
   "source": [
    "- islower() - Returns True if all characters in the string are lower case.\n"
   ]
  },
  {
   "cell_type": "code",
   "execution_count": 15,
   "id": "d6c10445-6f5d-41f9-ba4a-7e15349396bd",
   "metadata": {},
   "outputs": [
    {
     "name": "stdout",
     "output_type": "stream",
     "text": [
      "True\n"
     ]
    }
   ],
   "source": [
    "p=\"mumbai\"\n",
    "print(p.islower())"
   ]
  },
  {
   "cell_type": "code",
   "execution_count": 17,
   "id": "fb12599b-3fd4-464c-bfc2-477951c487a1",
   "metadata": {},
   "outputs": [
    {
     "name": "stdout",
     "output_type": "stream",
     "text": [
      "False\n"
     ]
    }
   ],
   "source": [
    "m=\"PUne\"\n",
    "print(m.islower())"
   ]
  },
  {
   "cell_type": "markdown",
   "id": "6cefb12c-e16e-45dd-a1da-426dfdc8557d",
   "metadata": {},
   "source": [
    "**Find and Replace**"
   ]
  },
  {
   "cell_type": "markdown",
   "id": "f7bf8a06-d7bc-4e0b-a484-438f121667e5",
   "metadata": {},
   "source": [
    "- search for a string and replce with another substring using replace()\n",
    "- Syntax --> S.replace(old ,new[,count])\n",
    "- replace all occurence of the substring \n",
    "- Return the string after the replcaemnet"
   ]
  },
  {
   "cell_type": "markdown",
   "id": "670d7476-aeff-4726-8bc6-b440dfe87b73",
   "metadata": {},
   "source": [
    "$$8).replace()$$"
   ]
  },
  {
   "cell_type": "markdown",
   "id": "367bd725-5da6-4f0f-a4cc-982bce2f5cee",
   "metadata": {},
   "source": [
    "- it will replace old value by new valuein the string"
   ]
  },
  {
   "cell_type": "code",
   "execution_count": 21,
   "id": "b1def4db-0efa-4ebd-ba9c-5e3e84d833ff",
   "metadata": {},
   "outputs": [
    {
     "data": {
      "text/plain": [
       "'Hello India '"
      ]
     },
     "execution_count": 21,
     "metadata": {},
     "output_type": "execute_result"
    }
   ],
   "source": [
    "h=\"Hello World \"\n",
    "h.replace(\"World\",\"India\")"
   ]
  },
  {
   "cell_type": "code",
   "execution_count": 24,
   "id": "ddae20a3-140b-4214-9445-882538ed9cdb",
   "metadata": {},
   "outputs": [
    {
     "data": {
      "text/plain": [
       "'Hello World '"
      ]
     },
     "execution_count": 24,
     "metadata": {},
     "output_type": "execute_result"
    }
   ],
   "source": [
    "h"
   ]
  },
  {
   "cell_type": "code",
   "execution_count": 33,
   "id": "d831e116-d13d-4eb0-ab56-7046cad02860",
   "metadata": {},
   "outputs": [
    {
     "data": {
      "text/plain": [
       "'HeLLo World '"
      ]
     },
     "execution_count": 33,
     "metadata": {},
     "output_type": "execute_result"
    }
   ],
   "source": [
    " h.replace('l','L',2) # here first 2 l, by L repalce "
   ]
  },
  {
   "cell_type": "code",
   "execution_count": 34,
   "id": "01c2c582-5f51-4057-8230-1525838ca0f8",
   "metadata": {},
   "outputs": [
    {
     "data": {
      "text/plain": [
       "'HeLLo WorLd '"
      ]
     },
     "execution_count": 34,
     "metadata": {},
     "output_type": "execute_result"
    }
   ],
   "source": [
    "h.replace('l','L') # it will replace all the l,by L"
   ]
  },
  {
   "cell_type": "code",
   "execution_count": 35,
   "id": "4d815c6e-8b7d-4b03-be52-79fbf3ea4dd6",
   "metadata": {},
   "outputs": [
    {
     "data": {
      "text/plain": [
       "'HeLLo World '"
      ]
     },
     "execution_count": 35,
     "metadata": {},
     "output_type": "execute_result"
    }
   ],
   "source": [
    "h.replace('l','L',2)"
   ]
  },
  {
   "cell_type": "markdown",
   "id": "06392526-96aa-4ba7-95e6-edd672d74f57",
   "metadata": {},
   "source": [
    "$$9).find()$$"
   ]
  },
  {
   "cell_type": "markdown",
   "id": "66ef1cb9-e2a3-4936-bd77-ba88177365d1",
   "metadata": {},
   "source": [
    "- .find()--> it will **return the idnex of first ooccureance** of specified value\n",
    "- if it does not foud that value in the string then **it will return -1**"
   ]
  },
  {
   "cell_type": "code",
   "execution_count": 38,
   "id": "a42e3133-d6db-40b9-bfe8-0a181e53c0ef",
   "metadata": {},
   "outputs": [
    {
     "name": "stdout",
     "output_type": "stream",
     "text": [
      "5\n"
     ]
    }
   ],
   "source": [
    "x=\"python\"\n",
    "print(x.find(\"n\"))"
   ]
  },
  {
   "cell_type": "code",
   "execution_count": 39,
   "id": "399b8a12-d933-41a4-8426-2367ae3fec6e",
   "metadata": {},
   "outputs": [
    {
     "name": "stdout",
     "output_type": "stream",
     "text": [
      "-1\n"
     ]
    }
   ],
   "source": [
    "x=\"sudarshan\"\n",
    "print(x.find(\"z\"))"
   ]
  },
  {
   "cell_type": "markdown",
   "id": "2d777835-2e01-4fde-ab72-3466a8ae7ca9",
   "metadata": {},
   "source": [
    "$$10) **rfind()**$$"
   ]
  },
  {
   "cell_type": "markdown",
   "id": "98a670bd-8335-46fc-aabb-22b3e8aec1eb",
   "metadata": {},
   "source": [
    "- it searches the string of a specified value and returns the  **last position** where it is found\n",
    "- if it dows not foud that value in the string then **it will return -1**"
   ]
  },
  {
   "cell_type": "code",
   "execution_count": 47,
   "id": "a595a594-d1aa-4cd6-8dc7-ac4e730999c0",
   "metadata": {},
   "outputs": [
    {
     "name": "stdout",
     "output_type": "stream",
     "text": [
      "35\n"
     ]
    }
   ],
   "source": [
    "t=\"python is booming lang in this world\"\n",
    "print(t.rfind(\"d\"))"
   ]
  },
  {
   "cell_type": "code",
   "execution_count": 53,
   "id": "f0ba4bdd-6611-4ef3-aa0e-960638cf5397",
   "metadata": {},
   "outputs": [
    {
     "name": "stdout",
     "output_type": "stream",
     "text": [
      "18\n"
     ]
    }
   ],
   "source": [
    "print(t.rfind(\"lang\"))"
   ]
  },
  {
   "cell_type": "markdown",
   "id": "56b8ee95-5848-4ca7-8341-81b0aa8b7458",
   "metadata": {},
   "source": [
    "$$11).capitalize()$$"
   ]
  },
  {
   "cell_type": "markdown",
   "id": "06f7b5d5-3537-4909-a496-678906f45901",
   "metadata": {},
   "source": [
    "- .capitalize()-->it will capitalize **only the first letter** of the word or sentence"
   ]
  },
  {
   "cell_type": "code",
   "execution_count": 55,
   "id": "b7f53caa-cd89-47a4-ac48-79842f5c4b7c",
   "metadata": {},
   "outputs": [
    {
     "name": "stdout",
     "output_type": "stream",
     "text": [
      "Pune is a district\n"
     ]
    }
   ],
   "source": [
    "v=\"pune is a district\"\n",
    "print(v.capitalize())"
   ]
  },
  {
   "cell_type": "code",
   "execution_count": 56,
   "id": "438aede0-3267-42ac-ba16-e79040d59c7c",
   "metadata": {},
   "outputs": [
    {
     "name": "stdout",
     "output_type": "stream",
     "text": [
      "Sudarsha rajendra kulawade\n"
     ]
    }
   ],
   "source": [
    "v1=\"sudarsha rajendra kulawade\"\n",
    "print(v1.capitalize())"
   ]
  },
  {
   "cell_type": "markdown",
   "id": "efaa8f50-98c7-4c31-9403-252eab54839b",
   "metadata": {},
   "source": [
    "$$12).title()$$"
   ]
  },
  {
   "cell_type": "markdown",
   "id": "4f7ef492-9b9f-4bea-bc0b-d5c01d73c549",
   "metadata": {},
   "source": [
    "- it will capitalize the **first letter of every word** in the sentence "
   ]
  },
  {
   "cell_type": "code",
   "execution_count": 58,
   "id": "a142f4c2-5ee9-46e8-8c69-5f1a3efb00c4",
   "metadata": {},
   "outputs": [
    {
     "data": {
      "text/plain": [
       "'Sudarshan Rajendra Kulawade'"
      ]
     },
     "execution_count": 58,
     "metadata": {},
     "output_type": "execute_result"
    }
   ],
   "source": [
    "a=\"sudarshan rajendra kulawade\"\n",
    "a.title()"
   ]
  },
  {
   "cell_type": "markdown",
   "id": "cfbc23ee-483c-43e6-9620-0b54151a1f4d",
   "metadata": {},
   "source": [
    "$$13).index()$$"
   ]
  },
  {
   "cell_type": "markdown",
   "id": "ac0e558b-ba6c-4c7c-b8a1-284761750afe",
   "metadata": {},
   "source": [
    "- index start from 0 (zero)\n",
    "- trying to access a character out of index range will raise an **IndexError**\n",
    "- The index must be an intger. we cannot use float or other types , this will result into **TypeError**\n",
    "- python allows negative indexing for its sequence for indexing from the end \n",
    "- the index of  -1 refers to the last item ,-2 to the second last item and so on."
   ]
  },
  {
   "cell_type": "markdown",
   "id": "0d900fd4-770a-4ed7-a997-c2d796fd89a9",
   "metadata": {},
   "source": [
    "- search the string for specified value and returns the position of where it was found\n",
    "- if we the value in the string whic is not present in the given string it will give **error-->ValueError: substring not found**\n",
    "\n"
   ]
  },
  {
   "cell_type": "code",
   "execution_count": 66,
   "id": "b6e46da0-0a3b-49b5-8989-5c0f25c797d3",
   "metadata": {},
   "outputs": [
    {
     "data": {
      "text/plain": [
       "0"
      ]
     },
     "execution_count": 66,
     "metadata": {},
     "output_type": "execute_result"
    }
   ],
   "source": [
    "x=\"pune\"\n",
    "x.index(\"p\")"
   ]
  },
  {
   "cell_type": "markdown",
   "id": "a90edb1f-b38d-4d05-af73-53bd001df97c",
   "metadata": {},
   "source": [
    "- **it will go with the first occurance of the letter**\n",
    "- **it will tell you where the index start**"
   ]
  },
  {
   "cell_type": "code",
   "execution_count": 69,
   "id": "be9d1c8b-13bc-4595-bb50-1cc167a04f52",
   "metadata": {},
   "outputs": [
    {
     "name": "stdout",
     "output_type": "stream",
     "text": [
      "0\n"
     ]
    }
   ],
   "source": [
    "e1=\"python grows rapidly  in the world , python is the best choice\"\n",
    "print(e1.index(\"python\"))  ## we will get output as  0"
   ]
  },
  {
   "cell_type": "code",
   "execution_count": null,
   "id": "30d7ccc6-1018-4e71-b812-776f4794a8e5",
   "metadata": {},
   "outputs": [],
   "source": [
    "e=\"essential\"\n",
    "e.index(\"s\") "
   ]
  },
  {
   "cell_type": "markdown",
   "id": "b6504cf2-2273-48ab-8a0d-7317f3ab8b3c",
   "metadata": {},
   "source": [
    "$$13).count()$$"
   ]
  },
  {
   "cell_type": "markdown",
   "id": "95f18920-d2ae-405a-a870-8bb91b743c0d",
   "metadata": {},
   "source": [
    "- **it will count how many times letter or word occurs in the string**"
   ]
  },
  {
   "cell_type": "code",
   "execution_count": 73,
   "id": "f42b4119-ffbf-4c8b-b0e8-bc7328e2a1ae",
   "metadata": {},
   "outputs": [
    {
     "name": "stdout",
     "output_type": "stream",
     "text": [
      "4\n",
      "6\n"
     ]
    }
   ],
   "source": [
    "v=\"he is in india working in It\"\n",
    "print(v.count(\"in\"))\n",
    "print(v.count(\"i\"))"
   ]
  },
  {
   "cell_type": "markdown",
   "id": "ecf73436-5179-40f1-8f70-5d9f73a5ff66",
   "metadata": {},
   "source": [
    "$$14).split() _ _imp_ _$$"
   ]
  },
  {
   "cell_type": "markdown",
   "id": "6f8a2a95-72af-4ec0-be6a-b07c7426819a",
   "metadata": {},
   "source": [
    "-  it will convert __sentence__ into **list of the word**\n",
    "- but cannot apply on single word "
   ]
  },
  {
   "cell_type": "code",
   "execution_count": 76,
   "id": "95497a76-d849-4896-854b-de90da84cfe3",
   "metadata": {},
   "outputs": [
    {
     "name": "stdout",
     "output_type": "stream",
     "text": [
      "['pune', 'is', 'historical', 'city']\n"
     ]
    }
   ],
   "source": [
    "s=\"pune is historical city\"\n",
    "print(s.split())"
   ]
  },
  {
   "cell_type": "code",
   "execution_count": 78,
   "id": "2e9f37ad-6b06-468f-83a9-83fc191a40fd",
   "metadata": {},
   "outputs": [
    {
     "data": {
      "text/plain": [
       "['i', 'am', 'from', 'junnar']"
      ]
     },
     "execution_count": 78,
     "metadata": {},
     "output_type": "execute_result"
    }
   ],
   "source": [
    "s1=\"i am from junnar\"\n",
    "s1.split(\" \")"
   ]
  },
  {
   "cell_type": "code",
   "execution_count": 79,
   "id": "07c2a96f-a9ae-4012-a680-54d0f70edf15",
   "metadata": {},
   "outputs": [
    {
     "data": {
      "text/plain": [
       "['i am ', ' pune']"
      ]
     },
     "execution_count": 79,
     "metadata": {},
     "output_type": "execute_result"
    }
   ],
   "source": [
    "s2=\"i am from pune\"\n",
    "s2.split(\"from\")"
   ]
  },
  {
   "cell_type": "code",
   "execution_count": 83,
   "id": "d0d879e8-a620-4054-a8b4-778bfef3c636",
   "metadata": {},
   "outputs": [
    {
     "data": {
      "text/plain": [
       "['sudarshankulawade61', 'gmail.com']"
      ]
     },
     "execution_count": 83,
     "metadata": {},
     "output_type": "execute_result"
    }
   ],
   "source": [
    "email=\"sudarshankulawade61@gmail.com\"\n",
    "email.split(\"@\")"
   ]
  },
  {
   "cell_type": "markdown",
   "id": "5448773c-9d06-41a5-9792-6f76e849697d",
   "metadata": {},
   "source": [
    "$$15).join$$"
   ]
  },
  {
   "cell_type": "markdown",
   "id": "9ba165ed-e3f8-4455-a9af-23b4bb2b3e3c",
   "metadata": {},
   "source": [
    "- it will join splitting list\n",
    "-  Joins the elements of an iterable to the end of the string."
   ]
  },
  {
   "cell_type": "code",
   "execution_count": 97,
   "id": "dae7f050-3b42-4a14-a3b1-32769dbfe736",
   "metadata": {},
   "outputs": [
    {
     "name": "stdout",
     "output_type": "stream",
     "text": [
      "John#Peter#Vicky\n"
     ]
    }
   ],
   "source": [
    "myTuple = (\"John\", \"Peter\", \"Vicky\")\n",
    "\n",
    "x = \"#\".join(myTuple)\n",
    "\n",
    "print(x)\n",
    "\n"
   ]
  },
  {
   "cell_type": "code",
   "execution_count": 98,
   "id": "befdcbf6-9ff1-4222-829a-00c75f7f7bd4",
   "metadata": {},
   "outputs": [
    {
     "name": "stdout",
     "output_type": "stream",
     "text": [
      "S*u*d*a*r*s*h*a*n*k*u*l*a*w*a*d*e*@*6*1*g*m*a*i*l*.*c*o*m\n"
     ]
    }
   ],
   "source": [
    "email=\"Sudarshankulawade@61gmail.com\"\n",
    "email1=\"*\".join(email)\n",
    "print(email1)"
   ]
  },
  {
   "cell_type": "markdown",
   "id": "2be7e000-60c0-4f9c-afd6-4785239524a0",
   "metadata": {},
   "source": [
    "$$16).strip()$$"
   ]
  },
  {
   "cell_type": "markdown",
   "id": "df860e40-b9c9-4447-a932-167e51c8a80f",
   "metadata": {},
   "source": [
    "$$Removing Whitespaces$$\n",
    "- **strip()**-->it will remove white sapce around the string but not inside the sttring \n",
    "- **lstrip**--> remove white space at the beginning of the left side\n",
    "- **rstrip()**--> remove white space around the end of the right side "
   ]
  },
  {
   "cell_type": "code",
   "execution_count": 106,
   "id": "41ec4d80-4dad-45d0-82c5-d83d164a7c6a",
   "metadata": {},
   "outputs": [
    {
     "name": "stdout",
     "output_type": "stream",
     "text": [
      "bunty doesnt share food!!!!         \n",
      "      bunty doesnt share food!!!!\n",
      "bunty doesnt share food!!!!\n"
     ]
    }
   ],
   "source": [
    "j=\"      bunty doesnt share food!!!!         \"\n",
    "\n",
    "print(j.lstrip()) #remove white  space at the beginning of the string\n",
    "print(j.rstrip()) #remove white  space at the ending of the string\n",
    "print(j.strip()) #remove whote space frm bothe right side and left side\n",
    "\n"
   ]
  },
  {
   "cell_type": "markdown",
   "id": "6962c820-65e2-44bd-9fa0-3012c7c32119",
   "metadata": {},
   "source": [
    "$$17).center()$$"
   ]
  },
  {
   "cell_type": "markdown",
   "id": "a978dab5-a6f6-4463-b374-abfcee00cf68",
   "metadata": {},
   "source": [
    "- .center()--> it will kept string at the center and here we can specify width also "
   ]
  },
  {
   "cell_type": "code",
   "execution_count": 110,
   "id": "89a2b65e-8e53-4262-b041-b515823f016b",
   "metadata": {},
   "outputs": [
    {
     "name": "stdout",
     "output_type": "stream",
     "text": [
      "          hello pune          \n"
     ]
    }
   ],
   "source": [
    "c=\"hello pune\"\n",
    "print(c.center(30))  ##   (30)-->means from left side and right side we want that much of width ____15cm_____hello pune____15cm____"
   ]
  },
  {
   "cell_type": "markdown",
   "id": "d6e590f6-2b0a-47df-872b-c7d31b8e1cd0",
   "metadata": {},
   "source": [
    "$$18).startswith$$\n",
    "- .startswith()--> returns **True** if the string starts with specified value.  \n",
    "- gives output in the for of **True or False**"
   ]
  },
  {
   "cell_type": "code",
   "execution_count": 115,
   "id": "0f68c96b-cfd6-4e4e-afea-3403e3f04621",
   "metadata": {},
   "outputs": [
    {
     "data": {
      "text/plain": [
       "False"
      ]
     },
     "execution_count": 115,
     "metadata": {},
     "output_type": "execute_result"
    }
   ],
   "source": [
    "k=\"Welcome to my world\"\n",
    "k.startswith('Wel')\n"
   ]
  },
  {
   "cell_type": "code",
   "execution_count": 118,
   "id": "6c2b4beb-aa44-42cf-91b6-3dd1891ca159",
   "metadata": {},
   "outputs": [
    {
     "data": {
      "text/plain": [
       "False"
      ]
     },
     "execution_count": 118,
     "metadata": {},
     "output_type": "execute_result"
    }
   ],
   "source": [
    "l=\"sudarshan\"\n",
    "l.startswith(\"k\")\n"
   ]
  },
  {
   "cell_type": "markdown",
   "id": "f1162771-552f-446a-b378-1b74a9a51b19",
   "metadata": {},
   "source": [
    "$$19).endswith()$$\n",
    "- Returns true if the string ends with the specified value"
   ]
  },
  {
   "cell_type": "code",
   "execution_count": 122,
   "id": "58ff264e-b666-4a7e-9104-d9b0108cab74",
   "metadata": {},
   "outputs": [
    {
     "data": {
      "text/plain": [
       "True"
      ]
     },
     "execution_count": 122,
     "metadata": {},
     "output_type": "execute_result"
    }
   ],
   "source": [
    "s=\"hello, welcome to pune\"\n",
    "s.endswith(\"e\")"
   ]
  },
  {
   "cell_type": "markdown",
   "id": "ea501fc0-d180-496a-8a2c-9f09172e606b",
   "metadata": {},
   "source": [
    "$$_String fromatting_$$\n",
    "- **Method-1**"
   ]
  },
  {
   "cell_type": "markdown",
   "id": "cf81e3f5-59f5-4206-97fa-c3d8d50e2396",
   "metadata": {},
   "source": [
    "- f-string -[introduce in python 3.6]\n",
    "- f string --> start with **f** and value are stored in variable and put value in **{}**\n"
   ]
  },
  {
   "cell_type": "code",
   "execution_count": 131,
   "id": "a1aa137b-e820-4d41-9d37-d94922a766df",
   "metadata": {},
   "outputs": [
    {
     "name": "stdout",
     "output_type": "stream",
     "text": [
      "sam is 20 years old \n"
     ]
    }
   ],
   "source": [
    "#example --> sam  is 20 years old \n",
    "name = 'sam'\n",
    "age=20\n",
    "\n",
    "print(f\"{name} is {age} years old \")"
   ]
  },
  {
   "cell_type": "code",
   "execution_count": 133,
   "id": "9c58f2e4-8df0-47e0-bfad-9371807905b7",
   "metadata": {},
   "outputs": [
    {
     "name": "stdout",
     "output_type": "stream",
     "text": [
      "i am from pune and my state is maharashtra\n"
     ]
    }
   ],
   "source": [
    "location='pune'\n",
    "state='maharashtra'\n",
    "print(f'i am from {location} and my state is {state}')"
   ]
  },
  {
   "cell_type": "markdown",
   "id": "3013c7d2-901b-4d6d-af9e-9e890780e2f9",
   "metadata": {},
   "source": [
    "$$.format -specification$$\n",
    "**Method-2**"
   ]
  },
  {
   "cell_type": "code",
   "execution_count": 134,
   "id": "2b2d277d-6a0b-44e1-abd1-c59bc84f1d05",
   "metadata": {},
   "outputs": [
    {
     "ename": "TypeError",
     "evalue": "can only concatenate str (not \"int\") to str",
     "output_type": "error",
     "traceback": [
      "\u001b[1;31m---------------------------------------------------------------------------\u001b[0m",
      "\u001b[1;31mTypeError\u001b[0m                                 Traceback (most recent call last)",
      "Cell \u001b[1;32mIn [134], line 2\u001b[0m\n\u001b[0;32m      1\u001b[0m age \u001b[38;5;241m=\u001b[39m \u001b[38;5;241m36\u001b[39m\n\u001b[1;32m----> 2\u001b[0m txt \u001b[38;5;241m=\u001b[39m \u001b[38;5;124;43m\"\u001b[39;49m\u001b[38;5;124;43mMy name is John, I am \u001b[39;49m\u001b[38;5;124;43m\"\u001b[39;49m\u001b[43m \u001b[49m\u001b[38;5;241;43m+\u001b[39;49m\u001b[43m \u001b[49m\u001b[43mage\u001b[49m\n\u001b[0;32m      3\u001b[0m \u001b[38;5;28mprint\u001b[39m(txt)\n",
      "\u001b[1;31mTypeError\u001b[0m: can only concatenate str (not \"int\") to str"
     ]
    }
   ],
   "source": [
    "age = 36\n",
    "txt = \"My name is bunty, I am \" + age\n",
    "print(txt)"
   ]
  },
  {
   "cell_type": "markdown",
   "id": "8bc1ea5e-639a-4a38-8d71-25d78e5a9d61",
   "metadata": {},
   "source": [
    "**in above example we are getting error because we can only concatenate string (str+int --not allowed )**\n",
    "- but we can combine string and number by using the format() method!\n",
    "- The format method takes the passed arguments ,formats them, and places them in the stringwhere the placeholders **{}**are:\n",
    "\n"
   ]
  },
  {
   "cell_type": "markdown",
   "id": "87529888-8198-4b86-b93b-800733c83fd6",
   "metadata": {},
   "source": [
    "- format()"
   ]
  },
  {
   "cell_type": "code",
   "execution_count": 135,
   "id": "fff433a7-1c5f-4430-9278-b26d6b897877",
   "metadata": {},
   "outputs": [
    {
     "name": "stdout",
     "output_type": "stream",
     "text": [
      "my name is bunty, and i am 24\n"
     ]
    }
   ],
   "source": [
    "age=24\n",
    "name=\"my name is bunty, and i am {}\"\n",
    "print(name.format(age))"
   ]
  },
  {
   "cell_type": "code",
   "execution_count": 138,
   "id": "722e3929-2ce9-4da3-be58-b4706e67e5c7",
   "metadata": {},
   "outputs": [
    {
     "name": "stdout",
     "output_type": "stream",
     "text": [
      "Sudarshan here,i am 24 years old\n"
     ]
    }
   ],
   "source": [
    "name=\"{} here,i am {} years old\".format(\"Sudarshan\",24)\n",
    "print(name)"
   ]
  },
  {
   "cell_type": "markdown",
   "id": "bde283c1-eff3-4e70-992a-ea83c617c656",
   "metadata": {},
   "source": [
    "**here type of given *message* is (string)\n",
    "  if (,) is present in the string the type--> tuple())**"
   ]
  },
  {
   "cell_type": "code",
   "execution_count": null,
   "id": "40e8abb6-8d77-4035-afa7-d574952f319c",
   "metadata": {},
   "outputs": [],
   "source": [
    "name =\"eric\"\n",
    "profession=\"comedian\"\n",
    "affilation= \"monty python\"\n",
    "\n",
    "message=(f\"hi {name}\"\n",
    "f\" you are {profession}\"\n",
    "f\" you are in {affilation}\")\n",
    "message\n",
    "\n"
   ]
  },
  {
   "cell_type": "code",
   "execution_count": 145,
   "id": "b71946cb-fcb4-468d-ac46-da2fafa18bbe",
   "metadata": {},
   "outputs": [
    {
     "name": "stdout",
     "output_type": "stream",
     "text": [
      "I want to pay 30 dollars for 3 pieces of item 333.\n"
     ]
    }
   ],
   "source": [
    "quantity = 3\n",
    "itemno = 333\n",
    "price = 30\n",
    "myorder = \"I want to pay {2} dollars for {0} pieces of item {1}.\"\n",
    "print(myorder.format(quantity, itemno, price))\n"
   ]
  },
  {
   "cell_type": "markdown",
   "id": "07431f19-7544-4174-bf3b-73da13c3504a",
   "metadata": {},
   "source": [
    "$$RAW _STRING$$"
   ]
  },
  {
   "cell_type": "markdown",
   "id": "175f40c7-da0c-4a52-b334-e4c4d1d1c2ba",
   "metadata": {},
   "source": [
    "• Suppress the meaning of escape chars"
   ]
  },
  {
   "cell_type": "code",
   "execution_count": 151,
   "id": "b6fb1e89-7c06-455e-8326-e7ccbd9447f7",
   "metadata": {},
   "outputs": [
    {
     "name": "stdout",
     "output_type": "stream",
     "text": [
      "happy\\n\\tBirthday\n"
     ]
    }
   ],
   "source": [
    "hb=r\"happy\\n\\tBirthday\"\n",
    "print(hb)"
   ]
  },
  {
   "cell_type": "markdown",
   "id": "9e00dfdf-8a78-4a97-a006-4442b8285920",
   "metadata": {},
   "source": [
    "$$Operations-on-string $$"
   ]
  },
  {
   "cell_type": "markdown",
   "id": "f9371736-7771-4cb9-8280-233d72ec4804",
   "metadata": {},
   "source": [
    "- 1) Concatenation\n",
    "- 2) Repetition\n",
    "- 3) Access a char using index\n",
    "- 4) Slicing\n",
    "- 5) Membership\n",
    "- 6) Raw String"
   ]
  },
  {
   "cell_type": "markdown",
   "id": "0c59b22a-2070-4427-979f-27531d7d1300",
   "metadata": {},
   "source": [
    " $$1)concatenation -->$$ \n",
    "- means its a process of adding two  or combining string together and we use **+** sign for adding string "
   ]
  },
  {
   "cell_type": "code",
   "execution_count": 155,
   "id": "e86f3d7c-e14f-4051-9798-b6ca8d27edce",
   "metadata": {},
   "outputs": [
    {
     "name": "stdout",
     "output_type": "stream",
     "text": [
      "Sudarshan Rajendra Kulawade\n"
     ]
    }
   ],
   "source": [
    "fname=\"Sudarshan \"\n",
    "mname=\"Rajendra \"\n",
    "lname=\"Kulawade\"\n",
    "\n",
    "print(fname+mname+lname)"
   ]
  },
  {
   "cell_type": "markdown",
   "id": "c42275b2-94e0-4f5c-a19a-60eb1b42a473",
   "metadata": {},
   "source": [
    "$$2)->Repetiton$$"
   ]
  },
  {
   "cell_type": "markdown",
   "id": "f3309713-5258-4a28-bec9-d62514c4818a",
   "metadata": {},
   "source": [
    "A string can be repeated multiple times by using **( * )** operator"
   ]
  },
  {
   "cell_type": "markdown",
   "id": "e540ba0a-dca6-476f-a3c6-18f0493a13b9",
   "metadata": {},
   "source": []
  },
  {
   "cell_type": "code",
   "execution_count": 158,
   "id": "790ea574-7a3c-4b7b-abec-c94fabf6a733",
   "metadata": {},
   "outputs": [
    {
     "data": {
      "text/plain": [
       "'Bunty Bunty Bunty '"
      ]
     },
     "execution_count": 158,
     "metadata": {},
     "output_type": "execute_result"
    }
   ],
   "source": [
    "a=\"Bunty \"\n",
    "a*3"
   ]
  },
  {
   "cell_type": "code",
   "execution_count": 159,
   "id": "cc0c862c-6e8b-4978-af60-79deb85395ec",
   "metadata": {},
   "outputs": [
    {
     "data": {
      "text/plain": [
       "'KnockKnockKnock'"
      ]
     },
     "execution_count": 159,
     "metadata": {},
     "output_type": "execute_result"
    }
   ],
   "source": [
    "\"Knock\" *3"
   ]
  },
  {
   "cell_type": "code",
   "execution_count": 160,
   "id": "142f7b7c-3757-457e-8674-22fab6db3251",
   "metadata": {},
   "outputs": [
    {
     "data": {
      "text/plain": [
       "'KnockKnockKnockPennny'"
      ]
     },
     "execution_count": 160,
     "metadata": {},
     "output_type": "execute_result"
    }
   ],
   "source": [
    "\"Knock\" *3 +\"Pennny\"\n"
   ]
  },
  {
   "cell_type": "code",
   "execution_count": 163,
   "id": "a3423433-a933-4bcc-85f1-ca26597a5127",
   "metadata": {},
   "outputs": [
    {
     "name": "stdout",
     "output_type": "stream",
     "text": [
      "----------------------------\n",
      "\tGood Morning\n",
      "----------------------------\n"
     ]
    }
   ],
   "source": [
    "print(\"-\"*28)\n",
    "print(\"\\tGood Morning\")\n",
    "print(\"-\"*28)"
   ]
  },
  {
   "cell_type": "markdown",
   "id": "ce381ad1-c7ec-4780-9010-cfb8f901eafe",
   "metadata": {},
   "source": [
    "$$3)-->index$$"
   ]
  },
  {
   "cell_type": "markdown",
   "id": "7f21e377-5ec3-41fa-831c-a26e0aa0b9cb",
   "metadata": {},
   "source": [
    "- index start from 0 (zero)\n",
    "- trying to access a character out of index range will raise an **IndexError**\n",
    "- The index must be an intger. we cannot use float or other types , this will result into **TypeError**\n",
    "- python allows negative indexing for its sequence for indexing from the end \n",
    "- the index of  -1 refers to the last item ,-2 to the second last item and so on.\n",
    "\n",
    "- search the string for specified value and returns the position of where it was found\n",
    "- if we the value in the string whic is not present in the given string it will give **error-->ValueError: substring not found**\n",
    "\n"
   ]
  },
  {
   "cell_type": "code",
   "execution_count": 164,
   "id": "b18ae326-e359-48ff-8a8e-6bcca3379bc7",
   "metadata": {},
   "outputs": [
    {
     "data": {
      "text/plain": [
       "10"
      ]
     },
     "execution_count": 164,
     "metadata": {},
     "output_type": "execute_result"
    }
   ],
   "source": [
    "b=\"I am from pune \"\n",
    "b.index(\"p\")"
   ]
  },
  {
   "cell_type": "code",
   "execution_count": 165,
   "id": "354bacec-af11-47f2-bd91-fe89e468f605",
   "metadata": {},
   "outputs": [
    {
     "data": {
      "text/plain": [
       "2"
      ]
     },
     "execution_count": 165,
     "metadata": {},
     "output_type": "execute_result"
    }
   ],
   "source": [
    "b.index(\"am\")"
   ]
  },
  {
   "cell_type": "markdown",
   "id": "ca8a5a0c-fea8-4e08-84cb-1cf910bb5e73",
   "metadata": {},
   "source": [
    "$$Access-a-char-using-index$$\n",
    "• We can access individual characters using indexing."
   ]
  },
  {
   "cell_type": "code",
   "execution_count": 166,
   "id": "b26e0098-1f1c-4c44-8763-4e4eea6595a1",
   "metadata": {},
   "outputs": [
    {
     "data": {
      "text/plain": [
       "'p'"
      ]
     },
     "execution_count": 166,
     "metadata": {},
     "output_type": "execute_result"
    }
   ],
   "source": [
    "b=\"Happy Birthday\"\n",
    "b[3]"
   ]
  },
  {
   "cell_type": "code",
   "execution_count": 167,
   "id": "ad2a616a-5e2f-402c-8679-7c580fdf2bb2",
   "metadata": {},
   "outputs": [
    {
     "data": {
      "text/plain": [
       "14"
      ]
     },
     "execution_count": 167,
     "metadata": {},
     "output_type": "execute_result"
    }
   ],
   "source": [
    "len(b)"
   ]
  },
  {
   "cell_type": "code",
   "execution_count": 168,
   "id": "889cefa8-e0d3-4f0c-8198-df8162dbf60a",
   "metadata": {},
   "outputs": [
    {
     "data": {
      "text/plain": [
       "'y'"
      ]
     },
     "execution_count": 168,
     "metadata": {},
     "output_type": "execute_result"
    }
   ],
   "source": [
    "b[-1]"
   ]
  },
  {
   "cell_type": "markdown",
   "id": "79864db0-1519-4724-a614-5d360862e829",
   "metadata": {},
   "source": [
    "$$4)-->Slicing$$"
   ]
  },
  {
   "cell_type": "markdown",
   "id": "5e1748b9-7551-4aca-aa2c-c6b819c4a711",
   "metadata": {},
   "source": [
    "- we can accesss range of charcater using slicing\n",
    "- we can access a range of items in a string by using the slicing operator : (colon)\n",
    "$$Syntax$$\n",
    "- string[ start : end+1 ]\n"
   ]
  },
  {
   "cell_type": "code",
   "execution_count": 169,
   "id": "2f604249-6254-4a96-9066-32ce792e0544",
   "metadata": {},
   "outputs": [
    {
     "data": {
      "text/plain": [
       "'app'"
      ]
     },
     "execution_count": 169,
     "metadata": {},
     "output_type": "execute_result"
    }
   ],
   "source": [
    "b[1:4]"
   ]
  },
  {
   "cell_type": "code",
   "execution_count": 170,
   "id": "35e5b892-4511-4126-9bd7-e3e80a9f518b",
   "metadata": {},
   "outputs": [
    {
     "data": {
      "text/plain": [
       "'Happ'"
      ]
     },
     "execution_count": 170,
     "metadata": {},
     "output_type": "execute_result"
    }
   ],
   "source": [
    "b[:4]"
   ]
  },
  {
   "cell_type": "code",
   "execution_count": 172,
   "id": "97c77422-19ec-43c6-99d7-a7d5f65fbf3a",
   "metadata": {},
   "outputs": [
    {
     "data": {
      "text/plain": [
       "'py Birthday'"
      ]
     },
     "execution_count": 172,
     "metadata": {},
     "output_type": "execute_result"
    }
   ],
   "source": [
    "b[3:]"
   ]
  },
  {
   "cell_type": "code",
   "execution_count": 173,
   "id": "9402ae92-663b-40a9-89ad-8a7f1518ed9e",
   "metadata": {},
   "outputs": [
    {
     "data": {
      "text/plain": [
       "'hda'"
      ]
     },
     "execution_count": 173,
     "metadata": {},
     "output_type": "execute_result"
    }
   ],
   "source": [
    "b[-4:-1]"
   ]
  },
  {
   "cell_type": "markdown",
   "id": "285e51d4-3544-4809-86f1-e8b062ca2ca8",
   "metadata": {},
   "source": [
    "$$5)-->Membership$$"
   ]
  },
  {
   "cell_type": "markdown",
   "id": "ba771bd7-2f39-42aa-b0c9-046e8fe702d8",
   "metadata": {},
   "source": [
    "- Operations: in ,not,in"
   ]
  },
  {
   "cell_type": "code",
   "execution_count": 175,
   "id": "2258dc00-d7cf-4b1c-95f9-66c592959772",
   "metadata": {},
   "outputs": [
    {
     "data": {
      "text/plain": [
       "'Happy Birthday'"
      ]
     },
     "execution_count": 175,
     "metadata": {},
     "output_type": "execute_result"
    }
   ],
   "source": [
    "b "
   ]
  },
  {
   "cell_type": "code",
   "execution_count": 176,
   "id": "efac87ac-6fa6-4fea-9fc1-834fe79c541f",
   "metadata": {},
   "outputs": [
    {
     "data": {
      "text/plain": [
       "True"
      ]
     },
     "execution_count": 176,
     "metadata": {},
     "output_type": "execute_result"
    }
   ],
   "source": [
    "'h' in b"
   ]
  },
  {
   "cell_type": "code",
   "execution_count": 177,
   "id": "d0928a82-e260-4f7d-9233-5bcb23137023",
   "metadata": {},
   "outputs": [
    {
     "data": {
      "text/plain": [
       "True"
      ]
     },
     "execution_count": 177,
     "metadata": {},
     "output_type": "execute_result"
    }
   ],
   "source": [
    "'H' in b"
   ]
  },
  {
   "cell_type": "code",
   "execution_count": 178,
   "id": "a51d7bce-5e92-40fe-9872-c963701ef582",
   "metadata": {},
   "outputs": [
    {
     "data": {
      "text/plain": [
       "False"
      ]
     },
     "execution_count": 178,
     "metadata": {},
     "output_type": "execute_result"
    }
   ],
   "source": [
    "'IRT' in b\n"
   ]
  },
  {
   "cell_type": "code",
   "execution_count": 179,
   "id": "297bcd92-59ee-40b9-8460-0cbeec52fb22",
   "metadata": {},
   "outputs": [
    {
     "data": {
      "text/plain": [
       "False"
      ]
     },
     "execution_count": 179,
     "metadata": {},
     "output_type": "execute_result"
    }
   ],
   "source": [
    "'IRH' in b"
   ]
  },
  {
   "cell_type": "markdown",
   "id": "5695a32c-8c5c-4e12-a7f3-d02fffab41cc",
   "metadata": {},
   "source": [
    "$$Raw-string$$\n",
    "- Suppress the meaning of escape chars\n",
    "- in case of escape chars in the string and we want to print escape char aslo as it is so we use raw string"
   ]
  },
  {
   "cell_type": "code",
   "execution_count": 180,
   "id": "e8ccb25f-2e62-4819-96e8-998f21c45e5a",
   "metadata": {},
   "outputs": [
    {
     "data": {
      "text/plain": [
       "'Sudarshan\\\\n\\\\tKulawade'"
      ]
     },
     "execution_count": 180,
     "metadata": {},
     "output_type": "execute_result"
    }
   ],
   "source": [
    "sk=r\"Sudarshan\\n\\tKulawade\"\n",
    "sk"
   ]
  },
  {
   "cell_type": "markdown",
   "id": "700d5300-c317-4050-8180-c6cbd56038c5",
   "metadata": {},
   "source": [
    "$$is--> mean-we-are-getting-output-in-the-from-of **TRUE |OR| FALSE** $$"
   ]
  },
  {
   "cell_type": "markdown",
   "id": "434b022b-da4a-4fa3-ad24-70e8cdf4920d",
   "metadata": {},
   "source": [
    "- isalpha()--> Returns **True** if all the charcates in the string are **Alphabet**\n",
    "\n",
    "- isnum()--> Returns **True** if all the characters in th string are **Numeric**\n",
    "\n",
    "- isalnum()--> Returns **True** if all the charcters in the string are **Alphabet + numberic**\n",
    "\n",
    "- isdigit() --> Returns **True** if all the charactres in the string are **Digits**\n",
    "\n",
    "- isdecimal()--> Returns **True** if all the charcaters in the string are **Decimal**\n",
    "\n",
    "- isprintable()--> Returns **True** if all the charcates in the string are **printable** \n",
    "\n",
    "- isspace()--> Returns **True** if all characters in the string are **whitespaces**.\n",
    "\n",
    "- istitle()--> Returns **True** if all the charcaters in the string are  **follows rules of a Title**\n",
    "\n",
    "- isidentifier- Returns **True** if the string is an **identifier**"
   ]
  },
  {
   "cell_type": "code",
   "execution_count": null,
   "id": "752fc30a-f922-4fa7-8155-9c828b457809",
   "metadata": {
    "jupyter": {
     "source_hidden": true
    },
    "tags": []
   },
   "outputs": [],
   "source": []
  },
  {
   "cell_type": "markdown",
   "id": "438e4e1f-91c4-4706-bfe3-7ee2ea864130",
   "metadata": {},
   "source": [
    "$$isidentifier()$$"
   ]
  },
  {
   "cell_type": "markdown",
   "id": "cab665f5-5376-4529-b53b-fe8edf689f20",
   "metadata": {},
   "source": [
    "- The isidentifier() method returns True if the string is a valid identifier, otherwise False.\n",
    "\n",
    "-  A string is considered a valid identifier if it only contains **alphanumeric letters (a-z)** and **(0-9)**, or **underscores (_)**. \n",
    "\n",
    "- A valid identifier cannot start with a number, or contain any spaces.\n",
    "\n",
    "$$string.isidentifier()$$"
   ]
  },
  {
   "cell_type": "code",
   "execution_count": 181,
   "id": "7118a6d2-bc80-49f6-8ddb-47086fba4725",
   "metadata": {},
   "outputs": [
    {
     "name": "stdout",
     "output_type": "stream",
     "text": [
      "True\n"
     ]
    }
   ],
   "source": [
    "txt = \"Demo\"\n",
    "\n",
    "x = txt.isidentifier()\n",
    "\n",
    "print(x)"
   ]
  },
  {
   "cell_type": "code",
   "execution_count": 183,
   "id": "34b980d9-8d47-4ad9-a304-0a1610ff1d30",
   "metadata": {},
   "outputs": [
    {
     "name": "stdout",
     "output_type": "stream",
     "text": [
      "True\n",
      "True\n",
      "False\n",
      "False\n"
     ]
    }
   ],
   "source": [
    "a = \"MyFolder\"\n",
    "b = \"Demo002\"\n",
    "c = \"2bring\"\n",
    "d = \"my demo\"\n",
    "\n",
    "print(a.isidentifier())\n",
    "print(b.isidentifier())\n",
    "print(c.isidentifier())\n",
    "print(d.isidentifier())"
   ]
  },
  {
   "cell_type": "code",
   "execution_count": null,
   "id": "28a87b6a-8621-4dcd-8561-182cfc2d7c8e",
   "metadata": {},
   "outputs": [],
   "source": []
  }
 ],
 "metadata": {
  "kernelspec": {
   "display_name": "Python 3 (ipykernel)",
   "language": "python",
   "name": "python3"
  },
  "language_info": {
   "codemirror_mode": {
    "name": "ipython",
    "version": 3
   },
   "file_extension": ".py",
   "mimetype": "text/x-python",
   "name": "python",
   "nbconvert_exporter": "python",
   "pygments_lexer": "ipython3",
   "version": "3.9.12"
  }
 },
 "nbformat": 4,
 "nbformat_minor": 5
}
