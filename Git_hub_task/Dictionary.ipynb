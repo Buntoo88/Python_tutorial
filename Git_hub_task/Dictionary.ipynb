{
 "cells": [
  {
   "cell_type": "markdown",
   "id": "f202702e-5dcd-4f5b-a6e1-2bdd5b8b918c",
   "metadata": {},
   "source": [
    "$$Dictionary$$"
   ]
  },
  {
   "cell_type": "markdown",
   "id": "885f6289-106e-4fd9-9d55-b2928569aec6",
   "metadata": {},
   "source": [
    "- **Intoduction**\n",
    "- python dictionary is an unordered collection of items\n",
    "- Each Item of a dictionary has key /value pair\n",
    "- Dictionaries are optimized to retrieve values when the key is known.\n",
    "- Creating dictionary is simple as palcing items inside the curly braces {} separated by columns\n",
    "- an item has a key and a corresponding value tha is expressed a pairkey: value\n"
   ]
  },
  {
   "cell_type": "code",
   "execution_count": 79,
   "id": "c0566d9e-0f24-4899-8b2c-b5e1200243b5",
   "metadata": {},
   "outputs": [],
   "source": [
    "city={\"mumbai\":22,\"hyderabad\":33,\"pune\":44,\"Delhi\":42}"
   ]
  },
  {
   "cell_type": "code",
   "execution_count": 80,
   "id": "5b38c4ff-e094-4ed7-b97d-93f8d9e1bc2b",
   "metadata": {},
   "outputs": [
    {
     "data": {
      "text/plain": [
       "{'mumbai': 22, 'hyderabad': 33, 'pune': 44, 'Delhi': 42}"
      ]
     },
     "execution_count": 80,
     "metadata": {},
     "output_type": "execute_result"
    }
   ],
   "source": [
    "city"
   ]
  },
  {
   "cell_type": "code",
   "execution_count": 81,
   "id": "68ef66ed-9874-4091-bcc0-b9c189f932fa",
   "metadata": {},
   "outputs": [
    {
     "data": {
      "text/plain": [
       "dict"
      ]
     },
     "execution_count": 81,
     "metadata": {},
     "output_type": "execute_result"
    }
   ],
   "source": [
    "type(city)"
   ]
  },
  {
   "cell_type": "code",
   "execution_count": 82,
   "id": "7766bc43-1aed-4d78-88a6-45c4751b1651",
   "metadata": {},
   "outputs": [
    {
     "data": {
      "text/plain": [
       "4"
      ]
     },
     "execution_count": 82,
     "metadata": {},
     "output_type": "execute_result"
    }
   ],
   "source": [
    "len(city)"
   ]
  },
  {
   "cell_type": "markdown",
   "id": "3aa9c6f0-49c0-4340-aac4-ed3997b0c51b",
   "metadata": {},
   "source": [
    "$$Properties -  of - Dictionary$$\n",
    "- Dictionary are **mutable** , so we can easily add or remove items \n",
    "- Unordered \n",
    "- Have no notion of index position and so cannot be sliced\n",
    "- keys \n",
    "-  no dublicate keys allowed\n",
    "- Keys must be immutable -any object ,built-in type or user defined - Numbers , strings ,list,set,dictionaries etc"
   ]
  },
  {
   "cell_type": "markdown",
   "id": "6bf12500-cd19-4ab8-b7a1-93bda9ae1650",
   "metadata": {},
   "source": [
    "**Creating Dictionary using dict() function**"
   ]
  },
  {
   "cell_type": "code",
   "execution_count": 83,
   "id": "65ae2850-b73b-47c5-8b18-9e433a42d185",
   "metadata": {},
   "outputs": [],
   "source": [
    "d1=dict([(\"one\",1),(\"two\",2),(\"Three\",3)])"
   ]
  },
  {
   "cell_type": "code",
   "execution_count": 84,
   "id": "c638b18e-0274-4b26-993c-1f22e2dc7a27",
   "metadata": {},
   "outputs": [
    {
     "data": {
      "text/plain": [
       "{'one': 1, 'two': 2, 'Three': 3}"
      ]
     },
     "execution_count": 84,
     "metadata": {},
     "output_type": "execute_result"
    }
   ],
   "source": [
    "d1"
   ]
  },
  {
   "cell_type": "markdown",
   "id": "524b884d-bd3a-4484-b50d-9f34e6b4e880",
   "metadata": {},
   "source": [
    "**Accessing  value  from  dictionary**"
   ]
  },
  {
   "cell_type": "markdown",
   "id": "7f4d7c5b-fca8-4219-bbd9-2222b51c13a2",
   "metadata": {},
   "source": [
    "- While indexing is used with other data types to access values , a ditcionary uses keys.\n",
    "Keys can be used either inside sqaure brackets [] or with the get () method.\n",
    "- If we use the sqaure bracket [],KeyError is raised in case a key is not found - - in the dictionary on the other hand ,the get() method returns none if the key is not found"
   ]
  },
  {
   "cell_type": "code",
   "execution_count": 85,
   "id": "98146407-de83-4c45-94af-5a2859fc4de3",
   "metadata": {},
   "outputs": [
    {
     "data": {
      "text/plain": [
       "{'mumbai': 22, 'hyderabad': 33, 'pune': 44, 'Delhi': 42}"
      ]
     },
     "execution_count": 85,
     "metadata": {},
     "output_type": "execute_result"
    }
   ],
   "source": [
    "city"
   ]
  },
  {
   "cell_type": "code",
   "execution_count": 86,
   "id": "c332cf8d-ec2f-4df7-8b24-d73ee1b4d46b",
   "metadata": {},
   "outputs": [
    {
     "data": {
      "text/plain": [
       "22"
      ]
     },
     "execution_count": 86,
     "metadata": {},
     "output_type": "execute_result"
    }
   ],
   "source": [
    "city[\"mumbai\"]"
   ]
  },
  {
   "cell_type": "code",
   "execution_count": 87,
   "id": "75804bfb-9b18-4eaf-a108-9591753ade00",
   "metadata": {},
   "outputs": [
    {
     "ename": "KeyError",
     "evalue": "'junnar'",
     "output_type": "error",
     "traceback": [
      "\u001b[1;31m---------------------------------------------------------------------------\u001b[0m",
      "\u001b[1;31mKeyError\u001b[0m                                  Traceback (most recent call last)",
      "Cell \u001b[1;32mIn [87], line 1\u001b[0m\n\u001b[1;32m----> 1\u001b[0m \u001b[43mcity\u001b[49m\u001b[43m[\u001b[49m\u001b[38;5;124;43m\"\u001b[39;49m\u001b[38;5;124;43mjunnar\u001b[39;49m\u001b[38;5;124;43m\"\u001b[39;49m\u001b[43m]\u001b[49m\n",
      "\u001b[1;31mKeyError\u001b[0m: 'junnar'"
     ]
    }
   ],
   "source": [
    "city[\"junnar\"]"
   ]
  },
  {
   "cell_type": "markdown",
   "id": "1b6ca438-009c-4e1b-a154-67e1710e6a5c",
   "metadata": {},
   "source": [
    "**Modifying a dictionary**"
   ]
  },
  {
   "cell_type": "markdown",
   "id": "0685be69-41ac-4bcf-9bac-e55d2395b39b",
   "metadata": {},
   "source": [
    "- changing available values "
   ]
  },
  {
   "cell_type": "code",
   "execution_count": 88,
   "id": "cd18dfb0-fe7a-48c3-b6a1-70d66419873a",
   "metadata": {},
   "outputs": [
    {
     "data": {
      "text/plain": [
       "{'mumbai': 22, 'hyderabad': 33, 'pune': 44, 'Delhi': 42}"
      ]
     },
     "execution_count": 88,
     "metadata": {},
     "output_type": "execute_result"
    }
   ],
   "source": [
    "city"
   ]
  },
  {
   "cell_type": "code",
   "execution_count": 89,
   "id": "2204c4a6-e9cc-455d-8dbf-69da40e29b98",
   "metadata": {},
   "outputs": [],
   "source": [
    "city[\"mumbai\"]=40"
   ]
  },
  {
   "cell_type": "code",
   "execution_count": 90,
   "id": "6eb7411b-cf2b-460e-90e6-622a0f1351a2",
   "metadata": {},
   "outputs": [
    {
     "data": {
      "text/plain": [
       "{'mumbai': 40, 'hyderabad': 33, 'pune': 44, 'Delhi': 42}"
      ]
     },
     "execution_count": 90,
     "metadata": {},
     "output_type": "execute_result"
    }
   ],
   "source": [
    "city"
   ]
  },
  {
   "cell_type": "markdown",
   "id": "e7d3e742-0eb5-4859-9ef1-9449a19cb080",
   "metadata": {},
   "source": [
    "$$Inserting - new - key-value - pairs$$\n"
   ]
  },
  {
   "cell_type": "code",
   "execution_count": 91,
   "id": "68ef91fe-394c-48ba-8c23-ad1d7488a062",
   "metadata": {},
   "outputs": [],
   "source": [
    "city[\"bhopal\"]=60"
   ]
  },
  {
   "cell_type": "code",
   "execution_count": 92,
   "id": "5225c8f0-7fde-4220-aa6f-d274474a6cfd",
   "metadata": {},
   "outputs": [
    {
     "data": {
      "text/plain": [
       "{'mumbai': 40, 'hyderabad': 33, 'pune': 44, 'Delhi': 42, 'bhopal': 60}"
      ]
     },
     "execution_count": 92,
     "metadata": {},
     "output_type": "execute_result"
    }
   ],
   "source": [
    "city"
   ]
  },
  {
   "cell_type": "code",
   "execution_count": 93,
   "id": "b618a6c6-79fb-4b89-b847-6bf20aa11432",
   "metadata": {},
   "outputs": [],
   "source": [
    "city[\"junnar\"]=14"
   ]
  },
  {
   "cell_type": "code",
   "execution_count": 94,
   "id": "1724c768-7f60-4cf9-a17c-981e780b1416",
   "metadata": {},
   "outputs": [
    {
     "data": {
      "text/plain": [
       "{'mumbai': 40,\n",
       " 'hyderabad': 33,\n",
       " 'pune': 44,\n",
       " 'Delhi': 42,\n",
       " 'bhopal': 60,\n",
       " 'junnar': 14}"
      ]
     },
     "execution_count": 94,
     "metadata": {},
     "output_type": "execute_result"
    }
   ],
   "source": [
    "city"
   ]
  },
  {
   "cell_type": "markdown",
   "id": "24f462a8-de8f-4e6f-8e11-fd7dbc910f32",
   "metadata": {},
   "source": [
    "$$Deleting - existing - key-value - pairs$$"
   ]
  },
  {
   "cell_type": "code",
   "execution_count": 95,
   "id": "8d3c9170-2550-44c8-9895-6a0fbcf343a0",
   "metadata": {},
   "outputs": [],
   "source": [
    "del city"
   ]
  },
  {
   "cell_type": "code",
   "execution_count": 96,
   "id": "2cf84b1b-e5bf-47ba-b066-e766f4580dee",
   "metadata": {},
   "outputs": [
    {
     "ename": "NameError",
     "evalue": "name 'city' is not defined",
     "output_type": "error",
     "traceback": [
      "\u001b[1;31m---------------------------------------------------------------------------\u001b[0m",
      "\u001b[1;31mNameError\u001b[0m                                 Traceback (most recent call last)",
      "Cell \u001b[1;32mIn [96], line 1\u001b[0m\n\u001b[1;32m----> 1\u001b[0m \u001b[43mcity\u001b[49m\n",
      "\u001b[1;31mNameError\u001b[0m: name 'city' is not defined"
     ]
    }
   ],
   "source": [
    "city"
   ]
  },
  {
   "cell_type": "markdown",
   "id": "9527e1eb-86a8-47c9-af69-75d54e3f6608",
   "metadata": {},
   "source": [
    "**METHODS OF DICTIONARY**\n",
    "\n"
   ]
  },
  {
   "cell_type": "markdown",
   "id": "2525784d-70fb-4ca6-98f2-47e8b294db95",
   "metadata": {},
   "source": [
    "- 1 .keys()--> gives output of keys only after printing output.it should be in **List** |  Return all the keys in a dictionary\n",
    "\n",
    "- 2 .value()--> print only values | Return all the values in a dictionary\n",
    "- 3 .items()--> if we want keys and value we **.items()**\n",
    "- 4 .get()--> Returns value of given key if key is in the dictionary, else default.\n",
    "\n",
    "- 5 str()-->gives output in string format(\".....\")\n",
    "- 6 pop()-->Remove specified key and return the corresponding value\n",
    "- If key is not found, default is returned if given, otherwise KeyError is raised\n",
    "\n",
    "- 7 popitem() -->•i) Remove and return a (key, value) pair as a 2-tuple.\n",
    "- ii)Pairs are returned in LIFO (last-in, first-out) order.\n",
    "- iii)Raises KeyError if the dict is empty.\n",
    "\n",
    "- 8 update()--> Updates the dictionary with the key/value pairs from other, overwriting existing keys.\n",
    "- 9 clear()-->Remove all items from Dictionary"
   ]
  },
  {
   "cell_type": "code",
   "execution_count": 97,
   "id": "a29ab96c-b756-4f4b-afe5-f2a1240e60d8",
   "metadata": {},
   "outputs": [],
   "source": [
    "city={\"pune\":14,\"mumbai\":43,\"patna\":69,\"bhopal\":85,\"delhi\":69}"
   ]
  },
  {
   "cell_type": "code",
   "execution_count": 98,
   "id": "ec0b0b34-13a1-446d-8438-b2635819d611",
   "metadata": {},
   "outputs": [
    {
     "data": {
      "text/plain": [
       "{'pune': 14, 'mumbai': 43, 'patna': 69, 'bhopal': 85, 'delhi': 69}"
      ]
     },
     "execution_count": 98,
     "metadata": {},
     "output_type": "execute_result"
    }
   ],
   "source": [
    "city"
   ]
  },
  {
   "cell_type": "markdown",
   "id": "c479163f-e48c-4673-bcce-18a59fcab3ee",
   "metadata": {},
   "source": [
    "$$.keys()$$"
   ]
  },
  {
   "cell_type": "code",
   "execution_count": 99,
   "id": "de29e148-d74d-4f47-a78c-bcca368e31ab",
   "metadata": {},
   "outputs": [
    {
     "data": {
      "text/plain": [
       "dict_keys(['pune', 'mumbai', 'patna', 'bhopal', 'delhi'])"
      ]
     },
     "execution_count": 99,
     "metadata": {},
     "output_type": "execute_result"
    }
   ],
   "source": [
    "city.keys()"
   ]
  },
  {
   "cell_type": "markdown",
   "id": "1c67633c-43fd-4564-b605-91acb7bee8c5",
   "metadata": {},
   "source": [
    "$$.values()$$"
   ]
  },
  {
   "cell_type": "code",
   "execution_count": 100,
   "id": "a75a0ac9-679b-4517-be2c-9f32d1845e19",
   "metadata": {},
   "outputs": [
    {
     "data": {
      "text/plain": [
       "dict_values([14, 43, 69, 85, 69])"
      ]
     },
     "execution_count": 100,
     "metadata": {},
     "output_type": "execute_result"
    }
   ],
   "source": [
    "city.values()"
   ]
  },
  {
   "cell_type": "markdown",
   "id": "8bebd718-6da1-4da1-8722-9dffef65fd3a",
   "metadata": {},
   "source": [
    "$$items()$$"
   ]
  },
  {
   "cell_type": "code",
   "execution_count": 101,
   "id": "d03065ba-7d21-48b0-88c8-3795551bd19b",
   "metadata": {},
   "outputs": [
    {
     "data": {
      "text/plain": [
       "dict_items([('pune', 14), ('mumbai', 43), ('patna', 69), ('bhopal', 85), ('delhi', 69)])"
      ]
     },
     "execution_count": 101,
     "metadata": {},
     "output_type": "execute_result"
    }
   ],
   "source": [
    "city.items()"
   ]
  },
  {
   "cell_type": "markdown",
   "id": "6b515789-92b8-4adf-9a55-fe184c3844b5",
   "metadata": {},
   "source": [
    "$$get()$$\n"
   ]
  },
  {
   "cell_type": "code",
   "execution_count": 102,
   "id": "22b9a7bd-fa33-4002-b400-fa066c3c1351",
   "metadata": {},
   "outputs": [
    {
     "data": {
      "text/plain": [
       "14"
      ]
     },
     "execution_count": 102,
     "metadata": {},
     "output_type": "execute_result"
    }
   ],
   "source": [
    "city.get(\"pune\")"
   ]
  },
  {
   "cell_type": "code",
   "execution_count": 103,
   "id": "27252467-d9cc-4cf8-8b81-f59f81afd68a",
   "metadata": {},
   "outputs": [
    {
     "data": {
      "text/plain": [
       "43"
      ]
     },
     "execution_count": 103,
     "metadata": {},
     "output_type": "execute_result"
    }
   ],
   "source": [
    "city[\"mumbai\"] ## using square bracket to get values from dict"
   ]
  },
  {
   "cell_type": "code",
   "execution_count": 104,
   "id": "3af2093a-c392-4e29-9b2c-10de5f4643c9",
   "metadata": {},
   "outputs": [
    {
     "data": {
      "text/plain": [
       "{'pune': 14, 'mumbai': 43, 'patna': 69, 'bhopal': 85, 'delhi': 69}"
      ]
     },
     "execution_count": 104,
     "metadata": {},
     "output_type": "execute_result"
    }
   ],
   "source": [
    "city"
   ]
  },
  {
   "cell_type": "code",
   "execution_count": 105,
   "id": "efff6668-2e3a-4bd3-9d7e-4839cbe37bd8",
   "metadata": {},
   "outputs": [
    {
     "data": {
      "text/plain": [
       "14"
      ]
     },
     "execution_count": 105,
     "metadata": {},
     "output_type": "execute_result"
    }
   ],
   "source": [
    "city.get(\"pune\")"
   ]
  },
  {
   "cell_type": "code",
   "execution_count": 106,
   "id": "9363ecac-c5b0-441b-8dbe-cf4faf5ceb50",
   "metadata": {},
   "outputs": [
    {
     "data": {
      "text/plain": [
       "int"
      ]
     },
     "execution_count": 106,
     "metadata": {},
     "output_type": "execute_result"
    }
   ],
   "source": [
    "type(city.get('pune'))"
   ]
  },
  {
   "cell_type": "code",
   "execution_count": 107,
   "id": "cb18ee22-6b6a-4700-83aa-edf4f9096dc9",
   "metadata": {},
   "outputs": [
    {
     "data": {
      "text/plain": [
       "NoneType"
      ]
     },
     "execution_count": 107,
     "metadata": {},
     "output_type": "execute_result"
    }
   ],
   "source": [
    "type(city.get('junnar'))"
   ]
  },
  {
   "cell_type": "code",
   "execution_count": 108,
   "id": "0fbd79f7-5373-4013-87a4-4e272fb3797b",
   "metadata": {},
   "outputs": [
    {
     "data": {
      "text/plain": [
       "14"
      ]
     },
     "execution_count": 108,
     "metadata": {},
     "output_type": "execute_result"
    }
   ],
   "source": [
    "city.get(\"junnar\",14)"
   ]
  },
  {
   "cell_type": "code",
   "execution_count": 109,
   "id": "855fdc2a-0b1a-4881-a4e6-bae5978b55a6",
   "metadata": {},
   "outputs": [
    {
     "data": {
      "text/plain": [
       "{'pune': 14, 'mumbai': 43, 'patna': 69, 'bhopal': 85, 'delhi': 69}"
      ]
     },
     "execution_count": 109,
     "metadata": {},
     "output_type": "execute_result"
    }
   ],
   "source": [
    "city"
   ]
  },
  {
   "cell_type": "code",
   "execution_count": 110,
   "id": "a9e61f65-4427-4911-a560-d473dcc205a9",
   "metadata": {},
   "outputs": [
    {
     "data": {
      "text/plain": [
       "43"
      ]
     },
     "execution_count": 110,
     "metadata": {},
     "output_type": "execute_result"
    }
   ],
   "source": [
    "city.get(\"mumbai\",69)"
   ]
  },
  {
   "cell_type": "markdown",
   "id": "af9f5ee8-43b6-43a8-8e08-90aeb6604ada",
   "metadata": {},
   "source": [
    "$$str()$$"
   ]
  },
  {
   "cell_type": "code",
   "execution_count": 111,
   "id": "b1d35d07-7fb9-441c-8a99-5dd217e6e0a0",
   "metadata": {},
   "outputs": [
    {
     "data": {
      "text/plain": [
       "{'pune': 14, 'mumbai': 43, 'patna': 69, 'bhopal': 85, 'delhi': 69}"
      ]
     },
     "execution_count": 111,
     "metadata": {},
     "output_type": "execute_result"
    }
   ],
   "source": [
    "city"
   ]
  },
  {
   "cell_type": "code",
   "execution_count": 112,
   "id": "bf658ac3-a37e-410d-ad7c-203645c47cbd",
   "metadata": {},
   "outputs": [
    {
     "data": {
      "text/plain": [
       "\"{'pune': 14, 'mumbai': 43, 'patna': 69, 'bhopal': 85, 'delhi': 69}\""
      ]
     },
     "execution_count": 112,
     "metadata": {},
     "output_type": "execute_result"
    }
   ],
   "source": [
    "str(city)"
   ]
  },
  {
   "cell_type": "markdown",
   "id": "bc8155c6-a9da-4137-8fe1-44546cb15afa",
   "metadata": {},
   "source": [
    "$$pop()$$"
   ]
  },
  {
   "cell_type": "markdown",
   "id": "f9bb7d55-5c7f-4d9e-818d-477b323474a2",
   "metadata": {},
   "source": [
    "- remove specified key and return the corresponding value.\n",
    "- if key is not found ,default is returned if given , otherwise **KeyError** is raised"
   ]
  },
  {
   "cell_type": "code",
   "execution_count": 113,
   "id": "21bde9d3-9681-4c9a-a233-385626c561e7",
   "metadata": {},
   "outputs": [
    {
     "data": {
      "text/plain": [
       "69"
      ]
     },
     "execution_count": 113,
     "metadata": {},
     "output_type": "execute_result"
    }
   ],
   "source": [
    "city.pop(\"delhi\")"
   ]
  },
  {
   "cell_type": "code",
   "execution_count": 114,
   "id": "f2b1125f-a39d-47a8-9f1c-5a1fd2a67e40",
   "metadata": {},
   "outputs": [
    {
     "data": {
      "text/plain": [
       "{'pune': 14, 'mumbai': 43, 'patna': 69, 'bhopal': 85}"
      ]
     },
     "execution_count": 114,
     "metadata": {},
     "output_type": "execute_result"
    }
   ],
   "source": [
    "city"
   ]
  },
  {
   "cell_type": "code",
   "execution_count": 115,
   "id": "048e9761-f643-4906-9846-8a88f86d25b8",
   "metadata": {},
   "outputs": [
    {
     "ename": "NameError",
     "evalue": "name 'ciyt' is not defined",
     "output_type": "error",
     "traceback": [
      "\u001b[1;31m---------------------------------------------------------------------------\u001b[0m",
      "\u001b[1;31mNameError\u001b[0m                                 Traceback (most recent call last)",
      "Cell \u001b[1;32mIn [115], line 1\u001b[0m\n\u001b[1;32m----> 1\u001b[0m \u001b[43mciyt\u001b[49m\u001b[38;5;241m.\u001b[39mpop(\u001b[38;5;124m\"\u001b[39m\u001b[38;5;124mjunnar\u001b[39m\u001b[38;5;124m\"\u001b[39m)\n",
      "\u001b[1;31mNameError\u001b[0m: name 'ciyt' is not defined"
     ]
    }
   ],
   "source": [
    "ciyt.pop(\"junnar\")"
   ]
  },
  {
   "cell_type": "code",
   "execution_count": 116,
   "id": "a4898b1c-9efa-4b94-8496-db89f60e0d16",
   "metadata": {},
   "outputs": [
    {
     "data": {
      "text/plain": [
       "14"
      ]
     },
     "execution_count": 116,
     "metadata": {},
     "output_type": "execute_result"
    }
   ],
   "source": [
    "city.pop(\"junnar\",14)"
   ]
  },
  {
   "cell_type": "code",
   "execution_count": 117,
   "id": "8b1dc445-ca08-443a-9aa3-e1a8251573da",
   "metadata": {},
   "outputs": [
    {
     "data": {
      "text/plain": [
       "{'pune': 14, 'mumbai': 43, 'patna': 69, 'bhopal': 85}"
      ]
     },
     "execution_count": 117,
     "metadata": {},
     "output_type": "execute_result"
    }
   ],
   "source": [
    "city"
   ]
  },
  {
   "cell_type": "markdown",
   "id": "0b588db4-7bbc-481a-8cff-70d9ded1b3d5",
   "metadata": {},
   "source": [
    "$$popitem()$$\n",
    "\n",
    "- i)  Remove and return a (key, value) pair as a 2-tuple.\n",
    "- ii) Pairs are returned in LIFO (last-in, first-out) order.\n",
    "- iii) Raises KeyError if the dict is empty.\n"
   ]
  },
  {
   "cell_type": "code",
   "execution_count": 118,
   "id": "52df3a78-62bd-4e3b-9355-868157d7ed59",
   "metadata": {},
   "outputs": [
    {
     "data": {
      "text/plain": [
       "{'pune': 14, 'mumbai': 43, 'patna': 69, 'bhopal': 85}"
      ]
     },
     "execution_count": 118,
     "metadata": {},
     "output_type": "execute_result"
    }
   ],
   "source": [
    "city"
   ]
  },
  {
   "cell_type": "code",
   "execution_count": 119,
   "id": "4c4f4370-3658-4899-95b6-17fe9ff9a24a",
   "metadata": {},
   "outputs": [
    {
     "data": {
      "text/plain": [
       "('bhopal', 85)"
      ]
     },
     "execution_count": 119,
     "metadata": {},
     "output_type": "execute_result"
    }
   ],
   "source": [
    "city.popitem()"
   ]
  },
  {
   "cell_type": "code",
   "execution_count": 120,
   "id": "42a83e40-a3e5-4958-8c45-c1d0443d97ca",
   "metadata": {},
   "outputs": [
    {
     "data": {
      "text/plain": [
       "{'pune': 14, 'mumbai': 43, 'patna': 69}"
      ]
     },
     "execution_count": 120,
     "metadata": {},
     "output_type": "execute_result"
    }
   ],
   "source": [
    "city"
   ]
  },
  {
   "cell_type": "code",
   "execution_count": 121,
   "id": "693c5fd4-d01e-4197-b050-3ffdd73bc428",
   "metadata": {},
   "outputs": [
    {
     "data": {
      "text/plain": [
       "('patna', 69)"
      ]
     },
     "execution_count": 121,
     "metadata": {},
     "output_type": "execute_result"
    }
   ],
   "source": [
    "city.popitem()"
   ]
  },
  {
   "cell_type": "code",
   "execution_count": 122,
   "id": "ecf596fc-aa09-4ef4-9d16-cb7e06f7a958",
   "metadata": {},
   "outputs": [
    {
     "data": {
      "text/plain": [
       "{'pune': 14, 'mumbai': 43}"
      ]
     },
     "execution_count": 122,
     "metadata": {},
     "output_type": "execute_result"
    }
   ],
   "source": [
    "city"
   ]
  },
  {
   "cell_type": "markdown",
   "id": "5bc56626-60e4-4bff-8854-5c438b47321e",
   "metadata": {},
   "source": [
    "$$update(other)$$\n",
    "- Updates the dictionary with the key/value pairs from other, overwriting existing keys.\n"
   ]
  },
  {
   "cell_type": "code",
   "execution_count": 123,
   "id": "6413ec43-1fdf-4c35-af7f-c08d417aabb7",
   "metadata": {},
   "outputs": [
    {
     "data": {
      "text/plain": [
       "{'pune': 14, 'mumbai': 43}"
      ]
     },
     "execution_count": 123,
     "metadata": {},
     "output_type": "execute_result"
    }
   ],
   "source": [
    "city"
   ]
  },
  {
   "cell_type": "code",
   "execution_count": 126,
   "id": "ffe6604b-0e8f-4c4a-a052-6a4a13e10717",
   "metadata": {},
   "outputs": [],
   "source": [
    "ct={\"bangalore\":30,\"patna\":66,\"delhi\":69}\n"
   ]
  },
  {
   "cell_type": "code",
   "execution_count": 127,
   "id": "89d3472a-f742-42c7-8d23-a944bd603b5a",
   "metadata": {},
   "outputs": [],
   "source": [
    "city.update(ct)\n"
   ]
  },
  {
   "cell_type": "code",
   "execution_count": 128,
   "id": "e7e85968-04af-49af-8940-5e2c5e0063e5",
   "metadata": {},
   "outputs": [
    {
     "data": {
      "text/plain": [
       "{'pune': 14, 'mumbai': 43, 'bangalore': 30, 'patna': 66, 'delhi': 69}"
      ]
     },
     "execution_count": 128,
     "metadata": {},
     "output_type": "execute_result"
    }
   ],
   "source": [
    "city"
   ]
  },
  {
   "cell_type": "code",
   "execution_count": 130,
   "id": "4b4764b8-ddbf-4999-9976-aadebe1feab1",
   "metadata": {},
   "outputs": [
    {
     "data": {
      "text/plain": [
       "{'bangalore': 30, 'patna': 66, 'delhi': 69}"
      ]
     },
     "execution_count": 130,
     "metadata": {},
     "output_type": "execute_result"
    }
   ],
   "source": [
    "ct"
   ]
  },
  {
   "cell_type": "markdown",
   "id": "dcd5cf19-2612-4eeb-8948-ffaefe5b3d79",
   "metadata": {},
   "source": [
    "$$clear()$$\n",
    "- Remove all items from Dictionary "
   ]
  },
  {
   "cell_type": "code",
   "execution_count": 133,
   "id": "54c90425-ebfd-48cd-ac61-a08f989a1950",
   "metadata": {},
   "outputs": [],
   "source": [
    "city.clear()"
   ]
  },
  {
   "cell_type": "code",
   "execution_count": 135,
   "id": "2d756e64-0730-4b26-9d76-436e29d008d1",
   "metadata": {},
   "outputs": [
    {
     "data": {
      "text/plain": [
       "{}"
      ]
     },
     "execution_count": 135,
     "metadata": {},
     "output_type": "execute_result"
    }
   ],
   "source": [
    "city"
   ]
  },
  {
   "cell_type": "markdown",
   "id": "5e3ad246-bb3c-4643-b500-db0cd3f79215",
   "metadata": {},
   "source": [
    "**For loop on dictionary**"
   ]
  },
  {
   "cell_type": "code",
   "execution_count": 137,
   "id": "86bdcbc3-94bc-40a5-817b-c8f86ebad718",
   "metadata": {},
   "outputs": [],
   "source": [
    "personal_info={\"username\":\"Bunty\",\n",
    "               \"email\":\"Buntoo@123.gmail.com\",\n",
    "               \"phone_no\":69964525,\n",
    "               \"fname\":\"ubuntoo\",\n",
    "               \"lname\":\"cool\"}"
   ]
  },
  {
   "cell_type": "code",
   "execution_count": 138,
   "id": "8b68c481-4922-44db-a7b2-fb418d04c10f",
   "metadata": {},
   "outputs": [
    {
     "data": {
      "text/plain": [
       "{'username': 'Bunty',\n",
       " 'email': 'Buntoo@123.gmail.com',\n",
       " 'phone_no': 69964525,\n",
       " 'fname': 'ubuntoo',\n",
       " 'lname': 'cool'}"
      ]
     },
     "execution_count": 138,
     "metadata": {},
     "output_type": "execute_result"
    }
   ],
   "source": [
    "personal_info"
   ]
  },
  {
   "cell_type": "code",
   "execution_count": 154,
   "id": "23043ff7-c274-4833-8190-8d4d69bfb5d7",
   "metadata": {},
   "outputs": [
    {
     "name": "stdout",
     "output_type": "stream",
     "text": [
      "username\n",
      "email\n",
      "phone_no\n",
      "fname\n",
      "lname\n"
     ]
    }
   ],
   "source": [
    "for i in personal_info:\n",
    "    print(i)\n",
    "    "
   ]
  },
  {
   "cell_type": "code",
   "execution_count": 158,
   "id": "16a68b29-6254-4003-95ef-1a718d13ffe6",
   "metadata": {},
   "outputs": [
    {
     "name": "stdout",
     "output_type": "stream",
     "text": [
      "Bunty\n",
      "Buntoo@123.gmail.com\n",
      "69964525\n",
      "ubuntoo\n",
      "cool\n"
     ]
    }
   ],
   "source": [
    "for i in personal_info:\n",
    "    print(personal_info[i])"
   ]
  },
  {
   "cell_type": "code",
   "execution_count": 160,
   "id": "5e998bc9-abd7-4535-baa7-210722af9b70",
   "metadata": {},
   "outputs": [
    {
     "name": "stdout",
     "output_type": "stream",
     "text": [
      "username : Bunty\n",
      "email : Buntoo@123.gmail.com\n",
      "phone_no : 69964525\n",
      "fname : ubuntoo\n",
      "lname : cool\n"
     ]
    }
   ],
   "source": [
    "for i in personal_info:\n",
    "    print(i,\":\",personal_info[i])"
   ]
  },
  {
   "cell_type": "code",
   "execution_count": 161,
   "id": "e3422241-ea91-46fc-9a79-794cbbd5b681",
   "metadata": {},
   "outputs": [
    {
     "name": "stdout",
     "output_type": "stream",
     "text": [
      "username\n",
      "email\n",
      "phone_no\n",
      "fname\n",
      "lname\n"
     ]
    }
   ],
   "source": [
    "for i in personal_info.keys():\n",
    "    print(i)"
   ]
  },
  {
   "cell_type": "code",
   "execution_count": 163,
   "id": "91784617-4913-41a3-8fe7-34f3c9ecde69",
   "metadata": {},
   "outputs": [
    {
     "name": "stdout",
     "output_type": "stream",
     "text": [
      "Bunty\n",
      "Buntoo@123.gmail.com\n",
      "69964525\n",
      "ubuntoo\n",
      "cool\n"
     ]
    }
   ],
   "source": [
    "for i in personal_info.values():\n",
    "    print(i)"
   ]
  },
  {
   "cell_type": "code",
   "execution_count": 165,
   "id": "59c1e7b4-a3cd-4d98-831b-0947056af3f9",
   "metadata": {},
   "outputs": [
    {
     "name": "stdout",
     "output_type": "stream",
     "text": [
      "Bunty\n",
      "_____\n",
      "Buntoo@123.gmail.com\n",
      "_____\n",
      "69964525\n",
      "_____\n",
      "ubuntoo\n",
      "_____\n",
      "cool\n",
      "_____\n"
     ]
    }
   ],
   "source": [
    "for i in personal_info.values():\n",
    "    print(i)\n",
    "    print(\"_\"*5)\n"
   ]
  },
  {
   "cell_type": "code",
   "execution_count": null,
   "id": "c0cfd618-2b0a-4fea-a6fb-00efd26b3379",
   "metadata": {},
   "outputs": [],
   "source": []
  }
 ],
 "metadata": {
  "kernelspec": {
   "display_name": "Python 3 (ipykernel)",
   "language": "python",
   "name": "python3"
  },
  "language_info": {
   "codemirror_mode": {
    "name": "ipython",
    "version": 3
   },
   "file_extension": ".py",
   "mimetype": "text/x-python",
   "name": "python",
   "nbconvert_exporter": "python",
   "pygments_lexer": "ipython3",
   "version": "3.9.12"
  }
 },
 "nbformat": 4,
 "nbformat_minor": 5
}
