{
 "cells": [
  {
   "cell_type": "markdown",
   "id": "16a2e2ec-4541-466d-ad1f-a57ac204975f",
   "metadata": {},
   "source": [
    "$$Comprehension$$"
   ]
  },
  {
   "cell_type": "markdown",
   "id": "141054c1-512b-4154-8f1b-cb75fa4f7e77",
   "metadata": {},
   "source": [
    "- A comprehension i a compact way of creating a python data structure from one or more iteratiors"
   ]
  },
  {
   "cell_type": "markdown",
   "id": "8083b255-5ce9-449f-a1fd-ff1ad8b516a6",
   "metadata": {},
   "source": [
    "$$__List Comprehension__$$"
   ]
  },
  {
   "cell_type": "markdown",
   "id": "44056a59-cdaf-49a2-b241-d3d52577a53f",
   "metadata": {},
   "source": [
    "- Write a program to create a list of sqaures of number from 1 to 10 "
   ]
  },
  {
   "cell_type": "code",
   "execution_count": 3,
   "id": "fe2f830f-d4b9-4f27-b8a2-a152d7525a71",
   "metadata": {},
   "outputs": [],
   "source": [
    "# program to generate list of squares of first 10 natural numbers\n",
    "squares = []\n",
    "for i in range(1,11):\n",
    "    squares.append(i**2)"
   ]
  },
  {
   "cell_type": "code",
   "execution_count": 4,
   "id": "12b41ae2-b5ed-4a15-b7df-beca81f3e6fc",
   "metadata": {},
   "outputs": [
    {
     "data": {
      "text/plain": [
       "[1, 4, 9, 16, 25, 36, 49, 64, 81, 100]"
      ]
     },
     "execution_count": 4,
     "metadata": {},
     "output_type": "execute_result"
    }
   ],
   "source": [
    "squares"
   ]
  },
  {
   "cell_type": "code",
   "execution_count": 5,
   "id": "693a242d-a9f2-4841-8317-710bdcb76073",
   "metadata": {},
   "outputs": [],
   "source": [
    "#program to generate list of square of first 10 natural numbers \n",
    "# using list comprehension"
   ]
  },
  {
   "cell_type": "code",
   "execution_count": 6,
   "id": "7fd9a13b-be19-489c-a8fa-81d94dbcc7a2",
   "metadata": {},
   "outputs": [],
   "source": [
    "squares=[i**2 for i in range(1,11)]"
   ]
  },
  {
   "cell_type": "code",
   "execution_count": 8,
   "id": "774490b8-0d6d-4e97-845e-dc17cb88936f",
   "metadata": {},
   "outputs": [
    {
     "data": {
      "text/plain": [
       "[1, 4, 9, 16, 25, 36, 49, 64, 81, 100]"
      ]
     },
     "execution_count": 8,
     "metadata": {},
     "output_type": "execute_result"
    }
   ],
   "source": [
    "squares"
   ]
  },
  {
   "cell_type": "markdown",
   "id": "22ab29d0-4e25-467d-a63a-1c9100090e85",
   "metadata": {},
   "source": [
    "- Write a program to create list of squares of even numbers from 1 to 10"
   ]
  },
  {
   "cell_type": "code",
   "execution_count": 11,
   "id": "2f40775e-6b4e-4dc3-b189-3582da8a0ee3",
   "metadata": {},
   "outputs": [],
   "source": [
    "sq_even=[]\n",
    "for i in range(1,11):\n",
    "    if i%2==0:\n",
    "        sq_even.append(i**2)"
   ]
  },
  {
   "cell_type": "code",
   "execution_count": 13,
   "id": "a63dfe50-c7bc-413d-95d8-d103d94a6d30",
   "metadata": {},
   "outputs": [
    {
     "data": {
      "text/plain": [
       "[4, 16, 36, 64, 100]"
      ]
     },
     "execution_count": 13,
     "metadata": {},
     "output_type": "execute_result"
    }
   ],
   "source": [
    "sq_even"
   ]
  },
  {
   "cell_type": "markdown",
   "id": "b647ba5c-60ea-47d4-af06-26723f2472b6",
   "metadata": {},
   "source": [
    "- using list comprehension"
   ]
  },
  {
   "cell_type": "code",
   "execution_count": 15,
   "id": "6c70f1f7-2820-4444-96dd-196eaaa0ca37",
   "metadata": {},
   "outputs": [],
   "source": [
    "sq_even_c=[i**2 for i in range (1,11) if i%2==0]"
   ]
  },
  {
   "cell_type": "code",
   "execution_count": 16,
   "id": "d09db724-8a15-4cfe-8981-685aba31db21",
   "metadata": {},
   "outputs": [
    {
     "data": {
      "text/plain": [
       "[4, 16, 36, 64, 100]"
      ]
     },
     "execution_count": 16,
     "metadata": {},
     "output_type": "execute_result"
    }
   ],
   "source": [
    "sq_even_c"
   ]
  },
  {
   "cell_type": "markdown",
   "id": "ca3b6ffc-41de-4554-8e9c-b708ef07f357",
   "metadata": {},
   "source": [
    "- Comprehension for nested loops "
   ]
  },
  {
   "cell_type": "raw",
   "id": "58fb3428-436d-4864-926d-ce66002dccd7",
   "metadata": {},
   "source": [
    "for i in list_1:\n",
    "    if expr:\n",
    "        for j in list_2:\n",
    "            statements\n",
    "            l.append(j)\n",
    "            \n",
    "[j for j in list_1 if expr for j in list_2]\n",
    "            "
   ]
  },
  {
   "cell_type": "markdown",
   "id": "a786aa20-ae8a-4ac5-a7ce-ab6adc479661",
   "metadata": {},
   "source": [
    "$$__Tuple Comprehension__$$"
   ]
  },
  {
   "cell_type": "code",
   "execution_count": 18,
   "id": "70826e71-c613-4402-8d7c-148d661c2d4e",
   "metadata": {},
   "outputs": [],
   "source": [
    "sqT=tuple(i**2 for i in range(1,11))"
   ]
  },
  {
   "cell_type": "code",
   "execution_count": 19,
   "id": "8dedb20f-c679-4a07-9fd1-87ecb071dfc7",
   "metadata": {},
   "outputs": [
    {
     "data": {
      "text/plain": [
       "(1, 4, 9, 16, 25, 36, 49, 64, 81, 100)"
      ]
     },
     "execution_count": 19,
     "metadata": {},
     "output_type": "execute_result"
    }
   ],
   "source": [
    "sqT"
   ]
  },
  {
   "cell_type": "markdown",
   "id": "e4cea523-5abe-4163-bb87-89c97b4a554e",
   "metadata": {},
   "source": [
    "$$__Dictionary Comprehension__$$"
   ]
  },
  {
   "cell_type": "markdown",
   "id": "5592aa6b-778b-4829-9bfe-59116856cf0c",
   "metadata": {},
   "source": [
    "- Gnerate a dictionary of squares of first 10 natural numbers ,where key is the natural number and value is its square"
   ]
  },
  {
   "cell_type": "code",
   "execution_count": 20,
   "id": "7fd19be7-3330-49c7-b165-32581503916e",
   "metadata": {},
   "outputs": [],
   "source": [
    "input_list=[1,2,3,4,5,6,6,7,7,7]"
   ]
  },
  {
   "cell_type": "code",
   "execution_count": 23,
   "id": "e8952616-71db-4bfc-9355-9346e0fd3e72",
   "metadata": {},
   "outputs": [],
   "source": [
    "#create set of even number from given list of numbers\n",
    "set_using_comp={var for var in input_list if var %2==0}"
   ]
  },
  {
   "cell_type": "code",
   "execution_count": 24,
   "id": "0ae9880f-5d03-454c-bed6-cdec0ee896fe",
   "metadata": {},
   "outputs": [
    {
     "data": {
      "text/plain": [
       "{2, 4, 6}"
      ]
     },
     "execution_count": 24,
     "metadata": {},
     "output_type": "execute_result"
    }
   ],
   "source": [
    "set_using_comp"
   ]
  },
  {
   "cell_type": "markdown",
   "id": "71a5e5b3-8f3a-431e-889c-78be70ec281c",
   "metadata": {},
   "source": [
    "$$__enumerate__$$"
   ]
  },
  {
   "cell_type": "markdown",
   "id": "2d1ad467-075c-46d0-b0b1-bccc10041f63",
   "metadata": {},
   "source": [
    "- A lot of times when dealing with iterators,we also get a need to keep a count of iterations \n",
    "- python eases the programmers task by providing a built - in function enumerate() for this task\n",
    "\n",
    "- enumerate()  method adds a counter to an iterable and returns it in a form of enumerate object\n",
    "- This enumerate object can then be used directly in for loops "
   ]
  },
  {
   "cell_type": "code",
   "execution_count": 27,
   "id": "3792d03b-a9f8-447a-b37f-3ad8c6c22176",
   "metadata": {},
   "outputs": [],
   "source": [
    "list_colors =['red','green','blue','pink','blue']"
   ]
  },
  {
   "cell_type": "code",
   "execution_count": 28,
   "id": "31c316f6-4c4c-4a39-b9cb-e948d563bd39",
   "metadata": {},
   "outputs": [
    {
     "name": "stdout",
     "output_type": "stream",
     "text": [
      "(0, 'red')\n",
      "(1, 'green')\n",
      "(2, 'blue')\n",
      "(3, 'pink')\n",
      "(4, 'blue')\n"
     ]
    }
   ],
   "source": [
    "for i in enumerate(list_colors):\n",
    "    print(i)"
   ]
  },
  {
   "cell_type": "code",
   "execution_count": null,
   "id": "4284f9aa-7e14-4bea-9a9b-4c193190a212",
   "metadata": {},
   "outputs": [],
   "source": []
  },
  {
   "cell_type": "code",
   "execution_count": null,
   "id": "165f46a2-69a9-4121-b6c8-8ad8d515067b",
   "metadata": {},
   "outputs": [],
   "source": []
  }
 ],
 "metadata": {
  "kernelspec": {
   "display_name": "Python 3 (ipykernel)",
   "language": "python",
   "name": "python3"
  },
  "language_info": {
   "codemirror_mode": {
    "name": "ipython",
    "version": 3
   },
   "file_extension": ".py",
   "mimetype": "text/x-python",
   "name": "python",
   "nbconvert_exporter": "python",
   "pygments_lexer": "ipython3",
   "version": "3.9.12"
  }
 },
 "nbformat": 4,
 "nbformat_minor": 5
}
