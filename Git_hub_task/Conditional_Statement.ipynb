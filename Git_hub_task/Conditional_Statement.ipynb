{
 "cells": [
  {
   "cell_type": "markdown",
   "id": "b8c15074-5590-4a75-98fe-ea23cfd174f7",
   "metadata": {},
   "source": [
    "**Decision making is required when we want too execute a code if a certain condition is satisfied**"
   ]
  },
  {
   "cell_type": "markdown",
   "id": "374c773d-7f99-4455-a727-e68bc5ae112e",
   "metadata": {},
   "source": [
    "**2.if**"
   ]
  },
  {
   "cell_type": "markdown",
   "id": "a3dc54b8-efda-485d-ad16-9a01bfa5b0ce",
   "metadata": {},
   "source": [
    "**if there is exam tomorrow, i will stay at home to study**"
   ]
  },
  {
   "cell_type": "code",
   "execution_count": 1,
   "id": "17311042-2750-4b80-8249-2a95c1c9a76a",
   "metadata": {},
   "outputs": [],
   "source": [
    "exam=False\n",
    "if exam ==True:\n",
    "    print(\"Stay home n study\")\n",
    "    "
   ]
  },
  {
   "cell_type": "code",
   "execution_count": 2,
   "id": "3d2e1cbe-abfe-408e-94a1-b3c2a2d7c923",
   "metadata": {},
   "outputs": [],
   "source": [
    "# indentation must be sane for all lines in code block"
   ]
  },
  {
   "cell_type": "markdown",
   "id": "50c14d63-ae31-45a6-afba-e31da3e98406",
   "metadata": {},
   "source": [
    "$$ Syntax for --> if $$"
   ]
  },
  {
   "cell_type": "markdown",
   "id": "99bd922d-e09e-42ff-ba00-87f686334009",
   "metadata": {},
   "source": [
    "**if boolean_expression : **\n",
    "    \n",
    "    **statements**\n",
    "    \n",
    "    **this block of code will be execute if boolean_expression returns True**"
   ]
  },
  {
   "cell_type": "markdown",
   "id": "77f7c239-e9e5-4229-b9fe-b29d32d0eec0",
   "metadata": {},
   "source": [
    "**if....else**\n",
    "#if there is exam tomorrow i will at stay home to study ;else i will playu football on the playground  "
   ]
  },
  {
   "cell_type": "code",
   "execution_count": 5,
   "id": "a0ae209f-247b-43a6-ba06-7da856564f12",
   "metadata": {},
   "outputs": [
    {
     "name": "stdout",
     "output_type": "stream",
     "text": [
      "Play Football\n",
      "yay..\n"
     ]
    }
   ],
   "source": [
    "exam= False\n",
    "if exam==True :\n",
    "    print(\"I will saty at home to study \")\n",
    "    print(\"Oh no\")\n",
    "else:\n",
    "    print(\"Play Football\")\n",
    "    print(\"yay..\")"
   ]
  },
  {
   "cell_type": "markdown",
   "id": "5e907ffb-47e9-4e53-846f-5e39a46d5623",
   "metadata": {},
   "source": [
    "\n",
    "$$Syntax for--> if.... else$$"
   ]
  },
  {
   "cell_type": "code",
   "execution_count": 7,
   "id": "e654d284-6940-440d-a01a-574df645f232",
   "metadata": {},
   "outputs": [],
   "source": [
    "# if boolean_expression:\n",
    "#     statements\n",
    "#     #this block of code will be execute if boolean_expression is TRUE\n",
    "# else:\n",
    "#     statements\n",
    "#     #this block of code will be execute if boolean_expression return False"
   ]
  },
  {
   "cell_type": "markdown",
   "id": "90d4e089-401d-4f6b-9143-f9e346e6fd59",
   "metadata": {},
   "source": [
    "**Example**"
   ]
  },
  {
   "cell_type": "code",
   "execution_count": 9,
   "id": "3ff9420b-de9c-43f5-a3ea-e75e80790fb5",
   "metadata": {},
   "outputs": [
    {
     "name": "stdin",
     "output_type": "stream",
     "text": [
      "Enter a number :  1\n"
     ]
    },
    {
     "name": "stdout",
     "output_type": "stream",
     "text": [
      "odd\n"
     ]
    }
   ],
   "source": [
    "num= int(input(\"Enter a number : \"))\n",
    "\n",
    "if num % 2==0:\n",
    "    print(\"even \")\n",
    "else:\n",
    "    print(\"odd\")"
   ]
  },
  {
   "cell_type": "markdown",
   "id": "0daca873-8196-49d8-80f0-98778c887033",
   "metadata": {},
   "source": [
    "$$NESTED--> if ....else$$"
   ]
  },
  {
   "cell_type": "markdown",
   "id": "fda514b9-d070-4c6d-8f3d-53d2726e7e99",
   "metadata": {},
   "source": [
    "**if boolean_expression1:\n",
    "    \n",
    "    statements \n",
    "    #this block of code execute if boolean_expression 1 returns true \n",
    "    \n",
    "elif boolean_expression2:\n",
    "    \n",
    "    statements\n",
    "    #this block of code execute if boolean_expression 1 return FALSE and boolean_expression 2 returns TRUE\n",
    "    \n",
    "elif boolean_expression3:\n",
    "    \n",
    "    statements\n",
    "    #this block will execute if boolean_expression 1 and 2 return FALSE and boolean_expression3 returns True\n",
    "    \n",
    "else:\n",
    "    statements\n",
    "    #this block will execute if all the boolean_expression returns false **"
   ]
  },
  {
   "cell_type": "markdown",
   "id": "3fd1ed82-2b8c-4007-8d5c-3cc5880011b5",
   "metadata": {},
   "source": [
    "**Example**"
   ]
  },
  {
   "cell_type": "code",
   "execution_count": 10,
   "id": "0c6a26b7-3266-4b9d-8716-de1988a82031",
   "metadata": {},
   "outputs": [],
   "source": [
    "# write a programn to decide to watch a movied base on its rating (rating out of 5)\n",
    "# --Movie is must watch rating is 4 and above --\n",
    "# --movie can be watched once if rating is 2.5 and above but less tha 4\n",
    "# don't watch the movie if rating is less than 2.5"
   ]
  },
  {
   "cell_type": "code",
   "execution_count": 16,
   "id": "42236ad3-18d7-421a-a805-bf39f65598eb",
   "metadata": {},
   "outputs": [
    {
     "name": "stdin",
     "output_type": "stream",
     "text": [
      "Enter movie rating (out of 5:) 6\n"
     ]
    }
   ],
   "source": []
  },
  {
   "cell_type": "code",
   "execution_count": 18,
   "id": "a1e352ea-0aad-49a5-af7b-7be807a277de",
   "metadata": {},
   "outputs": [
    {
     "name": "stdin",
     "output_type": "stream",
     "text": [
      "Enter movie rating (out of 5:) 2\n"
     ]
    },
    {
     "name": "stdout",
     "output_type": "stream",
     "text": [
      "Dont watch it\n"
     ]
    }
   ],
   "source": [
    "rating = float(input(\"Enter movie rating (out of 5:)\"))\n",
    "if rating >=4:\n",
    "    print(\"it is a good movie \")\n",
    "    print(\"Must watch\")\n",
    "\n",
    "elif rating>=2.5 and rating <4:\n",
    "    print(\"Okay movie \")\n",
    "    print(\"You can watch it once \")\n",
    "\n",
    "elif rating <2.5:\n",
    "    print(\"Don't watch it\")\n",
    "    "
   ]
  },
  {
   "cell_type": "markdown",
   "id": "fd968cae-7b5f-4e05-9a76-4eb7945d88fd",
   "metadata": {},
   "source": [
    "$$Ternary-- Operator$$"
   ]
  },
  {
   "cell_type": "markdown",
   "id": "dc6f0fd0-033e-4c40-a1df-5b03b42b37fe",
   "metadata": {},
   "source": [
    "**it simply allows to test a condition in a single line replacing the multiline if-else making the codes impact**"
   ]
  },
  {
   "cell_type": "code",
   "execution_count": 21,
   "id": "7d69f1e5-059e-4707-92c8-6f8d3dc37559",
   "metadata": {},
   "outputs": [
    {
     "name": "stdin",
     "output_type": "stream",
     "text": [
      "Enter your age  26\n"
     ]
    },
    {
     "name": "stdout",
     "output_type": "stream",
     "text": [
      "adult\n"
     ]
    }
   ],
   "source": [
    "age=int(input(\"Enter your age \"))\n",
    "print('kid' if age <18 else 'adult' )"
   ]
  },
  {
   "cell_type": "code",
   "execution_count": null,
   "id": "12d81e1f-8da3-4a25-a5c8-3c5d9684b095",
   "metadata": {},
   "outputs": [],
   "source": []
  }
 ],
 "metadata": {
  "kernelspec": {
   "display_name": "Python 3 (ipykernel)",
   "language": "python",
   "name": "python3"
  },
  "language_info": {
   "codemirror_mode": {
    "name": "ipython",
    "version": 3
   },
   "file_extension": ".py",
   "mimetype": "text/x-python",
   "name": "python",
   "nbconvert_exporter": "python",
   "pygments_lexer": "ipython3",
   "version": "3.9.12"
  }
 },
 "nbformat": 4,
 "nbformat_minor": 5
}
