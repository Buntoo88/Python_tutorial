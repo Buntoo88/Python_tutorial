{
 "cells": [
  {
   "cell_type": "markdown",
   "id": "175cb686-dba7-47a7-bd29-62802ab103e8",
   "metadata": {},
   "source": [
    "$$ Example - 1$$\n",
    "- Find sqaure root"
   ]
  },
  {
   "cell_type": "code",
   "execution_count": 75,
   "id": "36a5e1fb-eba1-403d-a1aa-89d97a37aa34",
   "metadata": {},
   "outputs": [
    {
     "name": "stdin",
     "output_type": "stream",
     "text": [
      "Enter a number 5\n"
     ]
    },
    {
     "name": "stdout",
     "output_type": "stream",
     "text": [
      "25\n"
     ]
    }
   ],
   "source": [
    "val1= int(input(\"Enter a number\"))\n",
    "x=val1*val1\n",
    "print(x)\n",
    "\n",
    "\n",
    "# x=lambda vale1:val1**2\n",
    "# x=lambda val1:val1*val1\n",
    "# print(x(val1))"
   ]
  },
  {
   "cell_type": "markdown",
   "id": "62d9149d-3bc4-414f-b87f-c7ed615bfc4e",
   "metadata": {},
   "source": [
    "$$Example - 2$$\n",
    "- Pattern "
   ]
  },
  {
   "cell_type": "code",
   "execution_count": 15,
   "id": "8f9c4cc7-d01c-46dd-be62-761123194035",
   "metadata": {},
   "outputs": [
    {
     "name": "stdout",
     "output_type": "stream",
     "text": [
      "*\n",
      "**\n",
      "***\n",
      "****\n",
      "*****\n"
     ]
    }
   ],
   "source": [
    "for i in range (1,6):\n",
    "    for j in range (i):\n",
    "        print('*',end=\"\")\n",
    "    print(\"\")\n"
   ]
  },
  {
   "cell_type": "markdown",
   "id": "0a01d7b9-e599-46ae-90c3-6733dea84de3",
   "metadata": {},
   "source": [
    "$$Example - 3$$\n",
    "- ladder pattern"
   ]
  },
  {
   "cell_type": "code",
   "execution_count": 16,
   "id": "55eb5dc8-660a-4ac3-b0d4-34a4d77b4df9",
   "metadata": {},
   "outputs": [
    {
     "name": "stdout",
     "output_type": "stream",
     "text": [
      "*****\n",
      "****\n",
      "***\n",
      "**\n",
      "*\n"
     ]
    }
   ],
   "source": [
    "for i in range (5,0,-1):\n",
    "    for j in range (i):\n",
    "        print('*',end=\"\")\n",
    "    print(\"\")"
   ]
  },
  {
   "cell_type": "markdown",
   "id": "26c9300d-ce33-4da0-9434-bba7a3444848",
   "metadata": {},
   "source": [
    "$$Example -4$$\n",
    "- ladder pattern printing with number \n"
   ]
  },
  {
   "cell_type": "code",
   "execution_count": 17,
   "id": "1e40b4d7-d63d-428e-8724-e1e64df19612",
   "metadata": {},
   "outputs": [
    {
     "name": "stdout",
     "output_type": "stream",
     "text": [
      "54321\n",
      "4321\n",
      "321\n",
      "21\n",
      "1\n"
     ]
    }
   ],
   "source": [
    "for i in range(5,0,-1):\n",
    "    for j in range(i):\n",
    "        print(i,end=\"\")\n",
    "        i=i-1\n",
    "    print(\"\")\n",
    "    "
   ]
  },
  {
   "cell_type": "markdown",
   "id": "72cfb415-9db2-41c5-a6b2-052fd2d02ba0",
   "metadata": {},
   "source": [
    "$$Example -5$$\n",
    "-  Find largest and smallest element "
   ]
  },
  {
   "cell_type": "code",
   "execution_count": 19,
   "id": "eca430a9-b8f4-4add-ac72-e3961bc6b778",
   "metadata": {},
   "outputs": [
    {
     "name": "stdin",
     "output_type": "stream",
     "text": [
      "enter length of the list 2\n"
     ]
    },
    {
     "name": "stdout",
     "output_type": "stream",
     "text": [
      "enter the numbers\n"
     ]
    },
    {
     "name": "stdin",
     "output_type": "stream",
     "text": [
      " 1\n",
      " 2\n"
     ]
    },
    {
     "name": "stdout",
     "output_type": "stream",
     "text": [
      "[1, 2]\n",
      "smallest element is :--> 1\n",
      "largest  element is :--> 2\n"
     ]
    }
   ],
   "source": [
    "n= int(input(\"enter length of the list\"))\n",
    "list1=[]\n",
    "print(\"enter the numbers\")\n",
    "for i in range(0,n):\n",
    "    x=int(input())\n",
    "    list1.append(x)\n",
    "print(list1)\n",
    "print(\"smallest element is :-->\",min(list1))\n",
    "print(\"largest  element is :-->\",max(list1))"
   ]
  },
  {
   "cell_type": "markdown",
   "id": "58044f91-9a77-454a-b776-cecf2ed4c033",
   "metadata": {},
   "source": [
    "$$Example - 5$$\n",
    "- sum of the elements in the list:-\n"
   ]
  },
  {
   "cell_type": "code",
   "execution_count": 20,
   "id": "5c1c4b71-7895-46f0-ae6e-53441e21604d",
   "metadata": {},
   "outputs": [
    {
     "name": "stdout",
     "output_type": "stream",
     "text": [
      "Sum of all elements in the given list: 880\n"
     ]
    }
   ],
   "source": [
    "mylist=[12,34,56,778]\n",
    "total=sum(mylist)\n",
    "print(\"Sum of all elements in the given list:\",total)"
   ]
  },
  {
   "cell_type": "markdown",
   "id": "3da5c8de-39e8-4e31-b300-9d4d42403fa4",
   "metadata": {},
   "source": [
    "$$Example - 6$$\n",
    "- Multiplication\n"
   ]
  },
  {
   "cell_type": "code",
   "execution_count": 21,
   "id": "3e6b1070-c092-4432-b8b3-1392356ea593",
   "metadata": {},
   "outputs": [
    {
     "name": "stdout",
     "output_type": "stream",
     "text": [
      "1\n",
      "2\n",
      "6\n",
      "24\n",
      "120\n"
     ]
    }
   ],
   "source": [
    "mylist=[1,2,3,4,5]\n",
    "result=1\n",
    "for i in mylist:\n",
    "    result=result*i\n",
    "    print(result)"
   ]
  },
  {
   "cell_type": "markdown",
   "id": "70ddf686-254c-4a3e-8af3-4bdc6fb53a8a",
   "metadata": {},
   "source": [
    "$$Example-7$$\n",
    "- Finding elemetns from the given list"
   ]
  },
  {
   "cell_type": "code",
   "execution_count": 22,
   "id": "e847ffb4-704b-45e6-be13-ab8cbcd88a1b",
   "metadata": {},
   "outputs": [
    {
     "name": "stdout",
     "output_type": "stream",
     "text": [
      "element not found\n"
     ]
    }
   ],
   "source": [
    "mylist=[1,2,3,4,5,65,67,78]\n",
    "i=12000\n",
    "if i in mylist:\n",
    "    print(\"Element found\")\n",
    "else:\n",
    "    print(\"element not found\")"
   ]
  },
  {
   "cell_type": "markdown",
   "id": "66245e8c-5637-46c5-81a0-d61191ab2f17",
   "metadata": {},
   "source": [
    "$$Example - 8$$\n",
    "- Copy list"
   ]
  },
  {
   "cell_type": "code",
   "execution_count": 23,
   "id": "6728b500-881b-4206-8a80-2decfbaddb31",
   "metadata": {},
   "outputs": [
    {
     "name": "stdout",
     "output_type": "stream",
     "text": [
      "[33, 22, 11, 10]\n"
     ]
    }
   ],
   "source": [
    "mylist=[33,22,11,10]\n",
    "mylist.copy()\n",
    "print(mylist.copy())"
   ]
  },
  {
   "cell_type": "markdown",
   "id": "f9896af4-d3ed-4a87-b1b9-84e27c538589",
   "metadata": {},
   "source": [
    "$$Example - 9 $$\n",
    "- Clear list"
   ]
  },
  {
   "cell_type": "code",
   "execution_count": 24,
   "id": "d6625d02-0a3b-4868-82e6-4d0680ce9e6f",
   "metadata": {},
   "outputs": [
    {
     "name": "stdout",
     "output_type": "stream",
     "text": [
      "mylist before clear  [12, 3, 4, 5, 56, 7, 899, 87]\n",
      "after clear: []\n"
     ]
    }
   ],
   "source": [
    "l1=[12,3,4,5,56,7,899,87]\n",
    "print(\"mylist before clear \",l1)\n",
    "l1.clear()\n",
    "print(\"after clear:\",l1)"
   ]
  },
  {
   "cell_type": "markdown",
   "id": "0463112b-6f5f-4574-bad9-a31379328091",
   "metadata": {},
   "source": [
    "$$Example - 10$$\n",
    "- count the length of string "
   ]
  },
  {
   "cell_type": "code",
   "execution_count": 25,
   "id": "557ba8f6-c855-47d3-87de-c35584b65c94",
   "metadata": {},
   "outputs": [
    {
     "name": "stdout",
     "output_type": "stream",
     "text": [
      "25\n"
     ]
    }
   ],
   "source": [
    "str=\"Sudarshanrajendrakulawade\"\n",
    "c=0\n",
    "for i in str :\n",
    "    c=c+1\n",
    "print(c)"
   ]
  },
  {
   "cell_type": "markdown",
   "id": "bcf71311-b22c-45b2-974f-7e7555b9c443",
   "metadata": {},
   "source": [
    "$$Example - 11$$\n",
    "- count how many time letter occurs into the list"
   ]
  },
  {
   "cell_type": "code",
   "execution_count": 30,
   "id": "25a6fb17-8708-4f7d-a5cc-6c67d28222bf",
   "metadata": {},
   "outputs": [
    {
     "name": "stdout",
     "output_type": "stream",
     "text": [
      "4 has occured 3 times\n"
     ]
    }
   ],
   "source": [
    "a1=[1,2,3,4,4,4,5,6,8,9,7,432]\n",
    "x=4\n",
    "print(\"{} has occured {} times\".format(x,a1.count(x)))"
   ]
  },
  {
   "cell_type": "markdown",
   "id": "3644057d-229a-4ecc-9664-2515130443f8",
   "metadata": {},
   "source": [
    "$$Example-12$$\n",
    "- count the length of the list"
   ]
  },
  {
   "cell_type": "code",
   "execution_count": 32,
   "id": "73e10c80-22a4-43a7-8416-72af2863ea88",
   "metadata": {},
   "outputs": [
    {
     "name": "stdout",
     "output_type": "stream",
     "text": [
      "[1, 2, 3, 4, 5, 6, 7, 8, 9, 0, 12, 23, 4]\n",
      "Length of the given list : 13\n"
     ]
    }
   ],
   "source": [
    "k1=[1,2,3,4,5,6,7,8,9,0,12,23,4]\n",
    "print(k1)\n",
    "print(\"Length of the given list :\",len(k1))"
   ]
  },
  {
   "cell_type": "markdown",
   "id": "63fdc09e-83ea-4cbc-8930-154013c4211a",
   "metadata": {},
   "source": [
    "$$Example - 13$$\n",
    "- Swap the first and last element : "
   ]
  },
  {
   "cell_type": "markdown",
   "id": "bb8eea44-1e47-42fd-850c-c880f4be7b96",
   "metadata": {},
   "source": [
    "- Swap"
   ]
  },
  {
   "cell_type": "code",
   "execution_count": 7,
   "id": "534afb7f-e66d-4053-b424-cd64aa0224e0",
   "metadata": {},
   "outputs": [
    {
     "name": "stdout",
     "output_type": "stream",
     "text": [
      "a 20\n",
      "b 10\n"
     ]
    }
   ],
   "source": [
    "a=10\n",
    "b=20\n",
    "a,b=b,a\n",
    "print('a',a)\n",
    "print('b',b)"
   ]
  },
  {
   "cell_type": "code",
   "execution_count": 1,
   "id": "d1e06b4b-6a48-4faf-bd5d-5a098cb432af",
   "metadata": {},
   "outputs": [
    {
     "name": "stdout",
     "output_type": "stream",
     "text": [
      "[12, 55, 44, 33, 66, 77]\n"
     ]
    }
   ],
   "source": [
    "j=[12,33,44,55,66,77]\n",
    "p1,p2=1,3\n",
    "j[p1],j[p2]=j[p2],j[p1]\n",
    "print(j)"
   ]
  },
  {
   "cell_type": "markdown",
   "id": "307ec908-575a-4611-a11e-9b08deb2f5b7",
   "metadata": {},
   "source": [
    "$$Example - 14$$\n",
    "- Fibonacci series"
   ]
  },
  {
   "cell_type": "code",
   "execution_count": 8,
   "id": "001c12b6-04f1-4dca-bfdf-49dc6be001cf",
   "metadata": {},
   "outputs": [
    {
     "name": "stdin",
     "output_type": "stream",
     "text": [
      "enter you number 10\n"
     ]
    },
    {
     "name": "stdout",
     "output_type": "stream",
     "text": [
      "0\n",
      "1\n",
      "1\n",
      "2\n",
      "3\n",
      "5\n",
      "8\n",
      "13\n",
      "21\n",
      "34\n"
     ]
    }
   ],
   "source": [
    "n=int(input(\"enter you number\"))\n",
    "a=0\n",
    "b=1\n",
    "print(a)\n",
    "print(b)\n",
    "for i in range (2,n):\n",
    "    c=a+b\n",
    "    a=b\n",
    "    b=c\n",
    "    print(c)\n",
    "    "
   ]
  },
  {
   "cell_type": "markdown",
   "id": "1ea75e88-466d-435f-bc33-166a47bbc3a7",
   "metadata": {},
   "source": [
    "$$Example -15 $$\n",
    "- swapping value by taking input from user "
   ]
  },
  {
   "cell_type": "code",
   "execution_count": 12,
   "id": "e4d04dfd-2c9a-47b2-8754-cab049994971",
   "metadata": {},
   "outputs": [
    {
     "name": "stdin",
     "output_type": "stream",
     "text": [
      "Enter first value a : -->  1\n",
      "Enter first value b : -->  2\n"
     ]
    },
    {
     "name": "stdout",
     "output_type": "stream",
     "text": [
      "Before a=1 and b=2\n",
      "After a:2 and b:1\n"
     ]
    }
   ],
   "source": [
    "a=input(\"Enter first value a : --> \")\n",
    "b=input(\"Enter first value b : --> \")\n",
    "\n",
    "print(\"Before a={0} and b={1}\".format(a,b))\n",
    "\n",
    "t=a\n",
    "a=b\n",
    "b=t\n",
    "print(\"After a:{0} and b:{1}\".format(a,b))"
   ]
  },
  {
   "cell_type": "markdown",
   "id": "74b044ab-e97d-424c-9317-11eb37a7bc59",
   "metadata": {},
   "source": [
    "$$Example-16$$\n",
    "- Check the given string is palindrome or not"
   ]
  },
  {
   "cell_type": "code",
   "execution_count": 30,
   "id": "0047ce59-879d-4727-b7cf-c8de79eb9cf4",
   "metadata": {},
   "outputs": [
    {
     "name": "stdin",
     "output_type": "stream",
     "text": [
      "Enter your value MADAM\n"
     ]
    },
    {
     "name": "stdout",
     "output_type": "stream",
     "text": [
      "the given string is **palindrome**\n"
     ]
    }
   ],
   "source": [
    "c= input(\"Enter your value\")\n",
    "a=c[::-1]\n",
    "if c==a:\n",
    "    print('the given string is **palindrome**')\n",
    "else:\n",
    "    print('the given string is **not palindrome**')\n"
   ]
  },
  {
   "cell_type": "markdown",
   "id": "2b2b5d40-fd7f-4feb-b2cf-c0d472a171f8",
   "metadata": {},
   "source": [
    "$$Example- 17$$\n",
    "- print the first 1-50 even and odd number"
   ]
  },
  {
   "cell_type": "code",
   "execution_count": 48,
   "id": "eada9572-9454-4ea5-a6a2-d27ecd04f3ec",
   "metadata": {},
   "outputs": [
    {
     "name": "stdin",
     "output_type": "stream",
     "text": [
      "Enter your number 6\n"
     ]
    },
    {
     "name": "stdout",
     "output_type": "stream",
     "text": [
      "odd 1\n",
      "even -->  2\n",
      "odd 3\n",
      "even -->  4\n",
      "odd 5\n"
     ]
    }
   ],
   "source": [
    "n=int(input(\"Enter your number\"))\n",
    "for i in range (1,n):\n",
    "    if i%2 ==0:\n",
    "        print('even --> ',i)\n",
    "    else:\n",
    "        \n",
    "        print(\"odd\",i)\n",
    "        "
   ]
  },
  {
   "cell_type": "markdown",
   "id": "f983d54b-c82f-4e0a-86c9-50ed22bae47c",
   "metadata": {},
   "source": [
    "$$Example- 18$$\n",
    "- without using inbuilt function do the reverse string  "
   ]
  },
  {
   "cell_type": "code",
   "execution_count": 55,
   "id": "145c69d7-a262-442d-8dc3-79948b5bb65c",
   "metadata": {},
   "outputs": [
    {
     "name": "stdout",
     "output_type": "stream",
     "text": [
      "Before doing reverse operation string==> ['Welcome', 'to', 'the', 'python', 'programming']\n",
      "After doing reverse operatino ==> ['programming', 'python', 'the', 'to', 'Welcome']\n"
     ]
    }
   ],
   "source": [
    "str1=\"Welcome to the python programming\"\n",
    "words=str1.split(\" \")\n",
    "print(\"Before doing reverse operation string==>\",words)\n",
    "words=words[::-1]\n",
    "print(\"After doing reverse operatino ==>\",words)\n"
   ]
  },
  {
   "cell_type": "markdown",
   "id": "da959f3e-2fdc-45d0-a0dd-5d2248394599",
   "metadata": {},
   "source": [
    "- using inbuilt function"
   ]
  },
  {
   "cell_type": "code",
   "execution_count": 61,
   "id": "ee2e24b9-7b91-49ac-82e3-cbfcd33d20cf",
   "metadata": {},
   "outputs": [
    {
     "name": "stdout",
     "output_type": "stream",
     "text": [
      "Default string ==> Welcome to the python programming\n"
     ]
    },
    {
     "data": {
      "text/plain": [
       "['programming', 'python', 'the', 'to', 'Welcome']"
      ]
     },
     "execution_count": 61,
     "metadata": {},
     "output_type": "execute_result"
    }
   ],
   "source": [
    "print(\"Default string ==>\",str1)\n",
    "words.reverse()\n",
    "words"
   ]
  },
  {
   "cell_type": "markdown",
   "id": "482da0ca-ba73-4541-a703-f49dd37e59d6",
   "metadata": {},
   "source": [
    "$$Example - 19$$\n",
    "- find substring"
   ]
  },
  {
   "cell_type": "code",
   "execution_count": 69,
   "id": "bdfea45e-89d7-4866-981f-d983c8fe1c9c",
   "metadata": {},
   "outputs": [
    {
     "name": "stdout",
     "output_type": "stream",
     "text": [
      "15\n",
      "Found the given sub string\n"
     ]
    }
   ],
   "source": [
    "str1=\"Welcome to the python programming\"\n",
    "sub_str=\"python\"\n",
    "\n",
    "print(str1.find(sub_str))\n",
    "if (str1.find(sub_str))==1:\n",
    "    print(\"Not found\")\n",
    "else:\n",
    "    print(\"Found the given sub string\")"
   ]
  },
  {
   "cell_type": "markdown",
   "id": "e6f50199-939c-4bbb-94c0-45c97b33af23",
   "metadata": {},
   "source": [
    "$$Example -20$$\n",
    "- Change the value from \"c++\" to \"python\" from the given list\n"
   ]
  },
  {
   "cell_type": "code",
   "execution_count": 74,
   "id": "7e9c086c-bcc2-4177-97b3-2e02a7076beb",
   "metadata": {},
   "outputs": [
    {
     "data": {
      "text/plain": [
       "['pytohn', 'C', 'R', 'C++', 'SQL']"
      ]
     },
     "execution_count": 74,
     "metadata": {},
     "output_type": "execute_result"
    }
   ],
   "source": [
    "lang=[\"java\",\"C\",\"R\",\"C++\",\"SQL\"]\n",
    "update=lang[0]=\"pytohn\"\n",
    "update\n",
    "lang"
   ]
  },
  {
   "cell_type": "code",
   "execution_count": null,
   "id": "3c1062b2-22c5-4a3a-b9a4-73776adee841",
   "metadata": {},
   "outputs": [],
   "source": []
  }
 ],
 "metadata": {
  "kernelspec": {
   "display_name": "Python 3 (ipykernel)",
   "language": "python",
   "name": "python3"
  },
  "language_info": {
   "codemirror_mode": {
    "name": "ipython",
    "version": 3
   },
   "file_extension": ".py",
   "mimetype": "text/x-python",
   "name": "python",
   "nbconvert_exporter": "python",
   "pygments_lexer": "ipython3",
   "version": "3.9.12"
  }
 },
 "nbformat": 4,
 "nbformat_minor": 5
}
