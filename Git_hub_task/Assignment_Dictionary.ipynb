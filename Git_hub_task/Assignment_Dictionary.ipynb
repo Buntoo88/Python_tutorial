{
 "cells": [
  {
   "cell_type": "markdown",
   "id": "fd94a1fb-a03d-45a1-84a8-fe4e6994ade1",
   "metadata": {},
   "source": [
    "$$Example-1$$\n",
    "- Q. what will be the ouptput of the following code"
   ]
  },
  {
   "cell_type": "code",
   "execution_count": 11,
   "id": "91b2d0b2-87f5-42a6-b1a6-b7959dc5847c",
   "metadata": {},
   "outputs": [
    {
     "data": {
      "text/plain": [
       "1"
      ]
     },
     "execution_count": 11,
     "metadata": {},
     "output_type": "execute_result"
    }
   ],
   "source": [
    "d={1:1,2:'2','1':1,\"2\":3}\n",
    "(d[d[d[d[str(d[1])]]]])"
   ]
  },
  {
   "cell_type": "markdown",
   "id": "af697609-84e0-41d1-9d51-80d9d1c57306",
   "metadata": {},
   "source": [
    "$$Example - 2$$"
   ]
  },
  {
   "cell_type": "markdown",
   "id": "d033ced5-091a-49e7-aea9-ada734d99832",
   "metadata": {},
   "source": [
    "-Q. how to print keys from dictionary\n",
    "\n",
    "- ==> .keys() ==> gives output only keys and after printing the output \n",
    "- **output should be list**"
   ]
  },
  {
   "cell_type": "code",
   "execution_count": 12,
   "id": "e37cc853-4ca4-4030-8691-4b946753614f",
   "metadata": {},
   "outputs": [],
   "source": [
    "d={1:1,2:'2','1':1,\"2\":3}"
   ]
  },
  {
   "cell_type": "code",
   "execution_count": 13,
   "id": "aa8c5ba9-84bd-4a8b-8eff-5bc12eabb52b",
   "metadata": {},
   "outputs": [
    {
     "data": {
      "text/plain": [
       "dict_keys([1, 2, '1', '2'])"
      ]
     },
     "execution_count": 13,
     "metadata": {},
     "output_type": "execute_result"
    }
   ],
   "source": [
    "d.keys()"
   ]
  },
  {
   "cell_type": "code",
   "execution_count": 14,
   "id": "8a389ebd-72f9-40d0-8204-0e4177012cc8",
   "metadata": {},
   "outputs": [
    {
     "name": "stdout",
     "output_type": "stream",
     "text": [
      "dict_keys(['x', 'y', 'z'])\n"
     ]
    }
   ],
   "source": [
    "y={\"x\":1,\"y\":2,\"z\":3}\n",
    "print(y.keys())"
   ]
  },
  {
   "cell_type": "markdown",
   "id": "12b35472-270f-4aa0-bd6e-9f48777168e3",
   "metadata": {},
   "source": [
    "- printing values()"
   ]
  },
  {
   "cell_type": "code",
   "execution_count": 15,
   "id": "7c0f9956-5248-4f41-9a09-a58c8f3f23b1",
   "metadata": {},
   "outputs": [
    {
     "data": {
      "text/plain": [
       "dict_values([1, 2, 3])"
      ]
     },
     "execution_count": 15,
     "metadata": {},
     "output_type": "execute_result"
    }
   ],
   "source": [
    "y.values()"
   ]
  },
  {
   "cell_type": "markdown",
   "id": "cc9667e3-f9d2-4135-894f-2ed9090b1664",
   "metadata": {},
   "source": [
    "$$Example-3$$\n",
    "- Q. How to print key and values both from the dict\n",
    "- ==> for that we use .items()"
   ]
  },
  {
   "cell_type": "code",
   "execution_count": 16,
   "id": "f62fdc1f-b81a-46ad-9471-e8dc1311aee5",
   "metadata": {},
   "outputs": [
    {
     "data": {
      "text/plain": [
       "dict_items([('taluka', 'junnar'), ('district', 'pune'), ('state', 'maharashtra')])"
      ]
     },
     "execution_count": 16,
     "metadata": {},
     "output_type": "execute_result"
    }
   ],
   "source": [
    "adress={\"taluka\":'junnar','district':'pune','state':'maharashtra'}\n",
    "adress.items()"
   ]
  },
  {
   "cell_type": "markdown",
   "id": "47b0e5f2-b693-4a36-9f53-c2d74a2846bf",
   "metadata": {},
   "source": [
    "$$Example- 4$$\n",
    "- Q.  How to add new key- value pair to current dictionary"
   ]
  },
  {
   "cell_type": "code",
   "execution_count": 19,
   "id": "d809c1d6-d39e-4687-b160-abeacc0555c2",
   "metadata": {},
   "outputs": [
    {
     "name": "stdout",
     "output_type": "stream",
     "text": [
      "{'country': 'india', 'capital': 'delhi'}\n"
     ]
    }
   ],
   "source": [
    "m={'country':'india','capital':'delhi'}\n",
    "print(m)"
   ]
  },
  {
   "cell_type": "code",
   "execution_count": 22,
   "id": "7e3c2f3a-92b2-4cf0-93ba-72c6c1ee2cb0",
   "metadata": {},
   "outputs": [
    {
     "name": "stdout",
     "output_type": "stream",
     "text": [
      "{'country': 'india', 'capital': 'delhi', 'city': 'pune'}\n"
     ]
    }
   ],
   "source": [
    "m['city']='pune'\n",
    "print(m)"
   ]
  },
  {
   "cell_type": "markdown",
   "id": "9a4dedb4-a8e6-4de5-880f-cdd11d52bb26",
   "metadata": {},
   "source": [
    "$$Example- 5$$\n",
    "- Q. How to update the values of dictionary"
   ]
  },
  {
   "cell_type": "code",
   "execution_count": 23,
   "id": "536e2279-06f7-491e-8d6a-b7e85e07ed9b",
   "metadata": {},
   "outputs": [],
   "source": [
    "m['country']='USA'"
   ]
  },
  {
   "cell_type": "code",
   "execution_count": 24,
   "id": "898c3711-cc87-4ab6-83f4-5a7dc2248e4a",
   "metadata": {},
   "outputs": [
    {
     "data": {
      "text/plain": [
       "{'country': 'USA', 'capital': 'delhi', 'city': 'pune'}"
      ]
     },
     "execution_count": 24,
     "metadata": {},
     "output_type": "execute_result"
    }
   ],
   "source": [
    "m"
   ]
  },
  {
   "cell_type": "markdown",
   "id": "9307a6a9-9d47-43da-98c0-a361b5973dda",
   "metadata": {},
   "source": [
    "$$Example - 6$$\n",
    "- Q. How to delete the key value from the dictionary\n",
    "==> we use **del** to delete the key value pair from the dict"
   ]
  },
  {
   "cell_type": "code",
   "execution_count": 26,
   "id": "5fbac717-6e0e-4a33-8d82-a6a9fadf383d",
   "metadata": {},
   "outputs": [],
   "source": [
    "del m['capital']"
   ]
  },
  {
   "cell_type": "code",
   "execution_count": 27,
   "id": "e145413a-7330-4631-8f94-04419b014a0d",
   "metadata": {},
   "outputs": [
    {
     "data": {
      "text/plain": [
       "{'country': 'USA', 'city': 'pune'}"
      ]
     },
     "execution_count": 27,
     "metadata": {},
     "output_type": "execute_result"
    }
   ],
   "source": [
    "m"
   ]
  },
  {
   "cell_type": "code",
   "execution_count": 28,
   "id": "f13bfe37-f4c2-475b-89ec-41bdd0c60822",
   "metadata": {},
   "outputs": [],
   "source": [
    "del m['city']"
   ]
  },
  {
   "cell_type": "code",
   "execution_count": 29,
   "id": "d71421d7-353c-441a-a6d8-77d6ff691d7f",
   "metadata": {},
   "outputs": [
    {
     "data": {
      "text/plain": [
       "{'country': 'USA'}"
      ]
     },
     "execution_count": 29,
     "metadata": {},
     "output_type": "execute_result"
    }
   ],
   "source": [
    "m"
   ]
  },
  {
   "cell_type": "markdown",
   "id": "a5aa19c2-8373-4531-b52b-97d83848976e",
   "metadata": {},
   "source": [
    "$$Example-7$$\n",
    "\n",
    "- Q.How to make empty dictionary withught using inbuilt function\n",
    "- ==> withought using inbuilt function we use **{}**"
   ]
  },
  {
   "cell_type": "code",
   "execution_count": 31,
   "id": "b919a0d7-9b86-41a8-b6a0-be023eac3672",
   "metadata": {},
   "outputs": [
    {
     "data": {
      "text/plain": [
       "{'x': 1, 'y': 2, 'z': 3}"
      ]
     },
     "execution_count": 31,
     "metadata": {},
     "output_type": "execute_result"
    }
   ],
   "source": [
    "d1={'x':1,'y':2,'z':3}\n",
    "d1"
   ]
  },
  {
   "cell_type": "code",
   "execution_count": 32,
   "id": "a2955cfb-be8e-4941-b83a-dc72f92a64fc",
   "metadata": {},
   "outputs": [],
   "source": [
    "d1={}"
   ]
  },
  {
   "cell_type": "code",
   "execution_count": 34,
   "id": "6bcad194-1d77-4a89-937d-ff7bb32cf6bc",
   "metadata": {},
   "outputs": [
    {
     "data": {
      "text/plain": [
       "{}"
      ]
     },
     "execution_count": 34,
     "metadata": {},
     "output_type": "execute_result"
    }
   ],
   "source": [
    "d1"
   ]
  },
  {
   "cell_type": "markdown",
   "id": "7e715fa7-73ab-4b60-894f-d0254dfdfd90",
   "metadata": {},
   "source": [
    "- using unbuilt function we use **.clear() or .pop()**"
   ]
  },
  {
   "cell_type": "code",
   "execution_count": 44,
   "id": "b2c8132b-0130-4c24-bf84-d9a4cd9c269d",
   "metadata": {},
   "outputs": [
    {
     "data": {
      "text/plain": [
       "{'a': 5, 'b': 6, 'c': 7}"
      ]
     },
     "execution_count": 44,
     "metadata": {},
     "output_type": "execute_result"
    }
   ],
   "source": [
    "d2={'a':5,'b':6,'c':7}\n",
    "d2"
   ]
  },
  {
   "cell_type": "markdown",
   "id": "adbe8bee-d0c3-4b8d-9d23-6f0f8be8a541",
   "metadata": {},
   "source": [
    "**.pop()**==> use this if we want to delete specific key_valu"
   ]
  },
  {
   "cell_type": "code",
   "execution_count": 45,
   "id": "88ef9471-f96c-4bc6-8b59-276becab7efe",
   "metadata": {},
   "outputs": [
    {
     "data": {
      "text/plain": [
       "5"
      ]
     },
     "execution_count": 45,
     "metadata": {},
     "output_type": "execute_result"
    }
   ],
   "source": [
    "d2.pop('a')"
   ]
  },
  {
   "cell_type": "code",
   "execution_count": 46,
   "id": "7d9a3f71-7856-49f3-a234-2d54e4772392",
   "metadata": {},
   "outputs": [
    {
     "data": {
      "text/plain": [
       "{'b': 6, 'c': 7}"
      ]
     },
     "execution_count": 46,
     "metadata": {},
     "output_type": "execute_result"
    }
   ],
   "source": [
    "d2"
   ]
  },
  {
   "cell_type": "markdown",
   "id": "4ad6d210-152b-4cdb-a3fa-f33c4f850fd0",
   "metadata": {},
   "source": [
    "**clera()**"
   ]
  },
  {
   "cell_type": "code",
   "execution_count": 47,
   "id": "7dae0371-5e51-472c-9919-d6ecc8949b3a",
   "metadata": {},
   "outputs": [
    {
     "data": {
      "text/plain": [
       "{'b': 6, 'c': 7}"
      ]
     },
     "execution_count": 47,
     "metadata": {},
     "output_type": "execute_result"
    }
   ],
   "source": [
    "d2"
   ]
  },
  {
   "cell_type": "code",
   "execution_count": 48,
   "id": "41ea672c-2657-4141-a868-55fff9605804",
   "metadata": {},
   "outputs": [],
   "source": [
    "d2.clear()"
   ]
  },
  {
   "cell_type": "code",
   "execution_count": 49,
   "id": "69175e04-77e1-4b81-a283-dd4a548a035e",
   "metadata": {},
   "outputs": [
    {
     "data": {
      "text/plain": [
       "{}"
      ]
     },
     "execution_count": 49,
     "metadata": {},
     "output_type": "execute_result"
    }
   ],
   "source": [
    "d2"
   ]
  },
  {
   "cell_type": "markdown",
   "id": "faefb488-f4a9-4a7b-8764-e8fe819db6c1",
   "metadata": {},
   "source": [
    "$$Example-8$$\n",
    "- Q.How to create dictionary "
   ]
  },
  {
   "cell_type": "code",
   "execution_count": 51,
   "id": "2b77eff4-71be-4625-9cf1-5c6332f13123",
   "metadata": {},
   "outputs": [],
   "source": [
    "dic={}\n",
    "dic['ice_cream']='strawberry'\n",
    "dic['data_science']='python'\n",
    "dic['data_analytics']='Advance_Analytics'\n",
    "dic['data_engineer']='Big_data_technology'"
   ]
  },
  {
   "cell_type": "code",
   "execution_count": 52,
   "id": "d265e133-0eba-4bf0-b576-780f92ad2531",
   "metadata": {},
   "outputs": [
    {
     "data": {
      "text/plain": [
       "{'ice_cream': 'strawberry',\n",
       " 'data_science': 'python',\n",
       " 'data_analytics': 'Advance_Analytics',\n",
       " 'data_engineer': 'Big_data_technology'}"
      ]
     },
     "execution_count": 52,
     "metadata": {},
     "output_type": "execute_result"
    }
   ],
   "source": [
    "dic"
   ]
  },
  {
   "cell_type": "markdown",
   "id": "05678703-182b-47ba-948f-6a6eacb48c5e",
   "metadata": {},
   "source": [
    "$$Nested - Dictionary$$"
   ]
  },
  {
   "cell_type": "code",
   "execution_count": 56,
   "id": "9737f892-9269-4689-8139-238df30502d1",
   "metadata": {},
   "outputs": [],
   "source": [
    "my_dict={'nested':{'name':'sudarshan','company':'Google'}}"
   ]
  },
  {
   "cell_type": "code",
   "execution_count": 57,
   "id": "9bd051b6-71fa-4472-ad41-c0d412246360",
   "metadata": {},
   "outputs": [
    {
     "data": {
      "text/plain": [
       "{'nested': {'name': 'sudarshan', 'company': 'Google'}}"
      ]
     },
     "execution_count": 57,
     "metadata": {},
     "output_type": "execute_result"
    }
   ],
   "source": [
    "my_dict"
   ]
  },
  {
   "cell_type": "code",
   "execution_count": 58,
   "id": "5f1a6b0b-e1f5-45d6-a992-3264b0e96cbc",
   "metadata": {},
   "outputs": [
    {
     "data": {
      "text/plain": [
       "'Google'"
      ]
     },
     "execution_count": 58,
     "metadata": {},
     "output_type": "execute_result"
    }
   ],
   "source": [
    "my_dict['nested']['company']"
   ]
  },
  {
   "cell_type": "markdown",
   "id": "2b02c533-3b10-4dec-b8cf-09fee621917f",
   "metadata": {},
   "source": [
    "$$Example-9$$\n",
    "- Q.hpw to make dictionary from two list\n",
    "- using **zip function** it will combine two list\n",
    "- When it will combining it is joining as per index\n",
    "\n"
   ]
  },
  {
   "cell_type": "code",
   "execution_count": 59,
   "id": "193e0f69-44fa-4a6a-9b01-9c7d11f06ddb",
   "metadata": {},
   "outputs": [],
   "source": [
    "name=['sudarshan','Pratik','mahesh','shivprasad']\n",
    "age=[24,23,25,22]"
   ]
  },
  {
   "cell_type": "code",
   "execution_count": 61,
   "id": "c8c2f2cc-d365-4087-849b-60810c8108aa",
   "metadata": {},
   "outputs": [
    {
     "name": "stdout",
     "output_type": "stream",
     "text": [
      "{'sudarshan': 24, 'Pratik': 23, 'mahesh': 25, 'shivprasad': 22}\n"
     ]
    }
   ],
   "source": [
    "print(dict(zip(name,age)))"
   ]
  }
 ],
 "metadata": {
  "kernelspec": {
   "display_name": "Python 3 (ipykernel)",
   "language": "python",
   "name": "python3"
  },
  "language_info": {
   "codemirror_mode": {
    "name": "ipython",
    "version": 3
   },
   "file_extension": ".py",
   "mimetype": "text/x-python",
   "name": "python",
   "nbconvert_exporter": "python",
   "pygments_lexer": "ipython3",
   "version": "3.9.12"
  }
 },
 "nbformat": 4,
 "nbformat_minor": 5
}
