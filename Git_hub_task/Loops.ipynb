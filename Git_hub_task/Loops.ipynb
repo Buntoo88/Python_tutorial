{
 "cells": [
  {
   "cell_type": "markdown",
   "id": "2abb7c86-eeae-4c76-9190-4ab5a03cf38a",
   "metadata": {},
   "source": [
    "$$LOOPS$$"
   ]
  },
  {
   "cell_type": "markdown",
   "id": "c575dd1e-8de2-4d90-a103-02b51feeb4d9",
   "metadata": {},
   "source": [
    "**introduction-->we can iterate over a sequence of elements using loops**"
   ]
  },
  {
   "cell_type": "markdown",
   "id": "7e8f0a58-d103-4669-9311-4904c21ffae1",
   "metadata": {},
   "source": [
    "**While loop**-->1) Execute a block of statements repeatedly as the condition is True\n",
    "\n"
   ]
  },
  {
   "cell_type": "markdown",
   "id": "f2047331-8cad-4717-95a9-c16547648698",
   "metadata": {},
   "source": [
    "while boole_expression:\n",
    "\n",
    "\n",
    "    statement1\n",
    "    statement2\n",
    "    statemen3\n",
    "    .\n",
    "    .\n",
    "    .\n",
    "    statement n "
   ]
  },
  {
   "cell_type": "code",
   "execution_count": 1,
   "id": "be12482a-ae11-4139-b699-eae4282b9a3c",
   "metadata": {
    "collapsed": true,
    "jupyter": {
     "outputs_hidden": true
    },
    "tags": []
   },
   "outputs": [
    {
     "name": "stdout",
     "output_type": "stream",
     "text": [
      "0\n",
      "1\n",
      "2\n",
      "3\n",
      "4\n",
      "5\n",
      "6\n",
      "7\n",
      "8\n",
      "9\n"
     ]
    }
   ],
   "source": [
    "c=0\n",
    "while c<10:\n",
    "    print(c)\n",
    "    c= c+1"
   ]
  },
  {
   "cell_type": "code",
   "execution_count": 5,
   "id": "29161c0e-cc03-4b17-8637-b48b4273f1ef",
   "metadata": {
    "collapsed": true,
    "jupyter": {
     "outputs_hidden": true
    },
    "tags": []
   },
   "outputs": [
    {
     "name": "stdout",
     "output_type": "stream",
     "text": [
      "Hello Sudarshan\n",
      "Hello Sudarshan\n",
      "Hello Sudarshan\n"
     ]
    }
   ],
   "source": [
    "# Python program to illustrate while loop\n",
    "count = 0\n",
    "while (count < 3):\n",
    "    count = count + 1\n",
    "    print(\"Hello Sudarshan\")"
   ]
  },
  {
   "cell_type": "markdown",
   "id": "4371dae3-8ed4-4ee6-94be-8737637a4bdb",
   "metadata": {},
   "source": [
    "**Example**-->\n",
    "write a program find out wether the given number is armstrong or not . armstring number is number that is equal to ths sum of the cubes of its own digit\n",
    "1)\n",
    "**input=153**\n",
    "\n",
    "**output=yes**\n",
    "\n",
    "**153 is an armstrong number**\n",
    "--> 1*1*1*= +5*5*5 + 3*3*3 ==153\n",
    "\n",
    "2)**input=120**\n",
    "\n",
    "**output=no**\n",
    "120 is not a armstrong number \n",
    "\n",
    "1 * 1 * 1 + 2 * 2 * 2 +0 * 0 * 0=\n",
    "\n",
    "Input : 1253\n",
    "Output : No\n",
    "1253 is not a Armstrong Number\n",
    "1*1*1*1 + 2*2*2*2 + 5*5*5*5 + 3*3*3*3 = 723"
   ]
  },
  {
   "cell_type": "code",
   "execution_count": 17,
   "id": "c95d7b41-a622-4e7e-a427-9d2d4a1440cb",
   "metadata": {},
   "outputs": [
    {
     "name": "stdin",
     "output_type": "stream",
     "text": [
      "Enter a number 2123\n"
     ]
    },
    {
     "name": "stdout",
     "output_type": "stream",
     "text": [
      "not armstrong number\n"
     ]
    }
   ],
   "source": [
    "\n",
    "num=int(input(\"Enter a number\"))\n",
    "value=0\n",
    "\n",
    "#find the sum of the cube of each digit \n",
    "temp=num\n",
    "\n",
    "while  temp>0:\n",
    "    digit=temp%10\n",
    "    value=value+digit **3\n",
    "    temp=temp//10\n",
    "    \n",
    "#display the result \n",
    "if num== value:\n",
    "    print(\"its armstrong\")\n",
    "else:\n",
    "    print(\"not armstrong number\")"
   ]
  },
  {
   "cell_type": "markdown",
   "id": "510affcf-7369-40aa-8e98-fcf878e0803f",
   "metadata": {},
   "source": [
    "**________________________________________________________________________________________________________________________________________________________________________**"
   ]
  },
  {
   "cell_type": "markdown",
   "id": "5e2d8441-800e-44a1-b290-41d8bedfcdc7",
   "metadata": {},
   "source": [
    "$$For Loop$$"
   ]
  },
  {
   "cell_type": "markdown",
   "id": "59d6dd6b-b60c-4109-bf95-e9279f49fe66",
   "metadata": {},
   "source": [
    "**is an iterator based loop , which steps through the items of iterable objects like list ,tuple ,string and execute a piece of code repeatedly for a number of times based on the number of items in that iterable object**\n"
   ]
  },
  {
   "cell_type": "markdown",
   "id": "376d5537-3b40-4af3-9361-0124e8b4d554",
   "metadata": {},
   "source": [
    "$$Syntax$$"
   ]
  },
  {
   "cell_type": "markdown",
   "id": "db3dd116-9405-4dc8-8f7c-cceb91edef98",
   "metadata": {},
   "source": [
    "**for loop_variable in sequence :**\n",
    "    **statement 1**\n",
    "    \n",
    "    statement 2\n",
    "    \n",
    "    statement 3\n",
    "    \n",
    "    .\n",
    "    .\n",
    "    .\n",
    "    statement n"
   ]
  },
  {
   "cell_type": "markdown",
   "id": "aeb9d979-d18e-4cc8-9345-0799b5b39ef0",
   "metadata": {},
   "source": [
    "**for loop on sequence of number**"
   ]
  },
  {
   "cell_type": "raw",
   "id": "c07d50b4-5de6-4d14-a334-dfa420522768",
   "metadata": {},
   "source": [
    "the range () function -- we can generate a sequence of numbers using range () function\n",
    "1)for example range() will generate number from 0 to 9 ( numbers)\n",
    "2)we can also define the start stop and stepsize as range (start ,stop,step_size),step_size default to 1 if not provided\n",
    "3)the range object is \"lazy\" in a sense because it doesnt generate every number that it \"contains\"when we create it \n",
    "4)this function does not store all the values in memory ;it would be ineficient .so it remebers the start ,stop,step_size and generate the next number on the go .\n",
    "5)to force this function to output all the items , we can use the function list()."
   ]
  },
  {
   "cell_type": "code",
   "execution_count": 28,
   "id": "d34d2c11-467c-4afc-aaf5-1b4219bc86e0",
   "metadata": {},
   "outputs": [
    {
     "data": {
      "text/plain": [
       "range(0, 100)"
      ]
     },
     "execution_count": 28,
     "metadata": {},
     "output_type": "execute_result"
    }
   ],
   "source": [
    "range(100)##range (stop)"
   ]
  },
  {
   "cell_type": "code",
   "execution_count": 29,
   "id": "c4f97578-99e5-4d13-a774-c1442d336287",
   "metadata": {},
   "outputs": [
    {
     "data": {
      "text/plain": [
       "range(10, 30)"
      ]
     },
     "execution_count": 29,
     "metadata": {},
     "output_type": "execute_result"
    }
   ],
   "source": [
    "range(10,30)# range (start,stop)"
   ]
  },
  {
   "cell_type": "code",
   "execution_count": 32,
   "id": "8ca43999-08e6-4d92-8297-7c5ea0344fc9",
   "metadata": {},
   "outputs": [
    {
     "name": "stdout",
     "output_type": "stream",
     "text": [
      "10\n",
      "12\n",
      "14\n",
      "16\n",
      "18\n"
     ]
    }
   ],
   "source": [
    "for i in range(10,20,2):\n",
    "    print(i)"
   ]
  },
  {
   "cell_type": "markdown",
   "id": "0317b344-ee1e-411a-ba36-3f742590f39c",
   "metadata": {},
   "source": [
    "$$Break --and --continue$$"
   ]
  },
  {
   "cell_type": "markdown",
   "id": "762ce0b9-6ca0-462f-a8f7-273142c5f347",
   "metadata": {},
   "source": [
    "Either  skip a single iteration (as many times as you want ) using continue ,or you can break out of the loop entirely using **break**\n"
   ]
  },
  {
   "cell_type": "markdown",
   "id": "e81e8000-f797-4461-ac32-6d2ec9c04998",
   "metadata": {},
   "source": [
    "**break -->**\n",
    "if you want to loop until something occurs,but you're not sure when that might happen, you can use an infinite loop with a break statement.\n"
   ]
  },
  {
   "cell_type": "code",
   "execution_count": 38,
   "id": "2798f8d1-1373-41c3-8be2-f0fe4e8f2b14",
   "metadata": {},
   "outputs": [
    {
     "name": "stdin",
     "output_type": "stream",
     "text": [
      "Enter to capitalize [type q to quit] SSFDSSGDG\n"
     ]
    },
    {
     "name": "stdout",
     "output_type": "stream",
     "text": [
      "Ssfdssgdg\n"
     ]
    },
    {
     "name": "stdin",
     "output_type": "stream",
     "text": [
      "Enter to capitalize [type q to quit] Q\n"
     ]
    },
    {
     "name": "stdout",
     "output_type": "stream",
     "text": [
      "Q\n"
     ]
    },
    {
     "name": "stdin",
     "output_type": "stream",
     "text": [
      "Enter to capitalize [type q to quit] q\n"
     ]
    }
   ],
   "source": [
    "#Capitalize a string \n",
    "while True:\n",
    "    word= input(\"Enter to capitalize [type q to quit]\")\n",
    "    if word==\"q\":\n",
    "        break\n",
    "    print(word.capitalize())"
   ]
  },
  {
   "cell_type": "markdown",
   "id": "5cc58e8a-4739-4fc4-b6b5-0b16d69ddae7",
   "metadata": {},
   "source": [
    "$$continue$$\n",
    "\n",
    "Python Continue statement is a loop control statement that forces to execute the next iteration of the loop while skipping the rest of the code inside the loop for the current iteration only,"
   ]
  },
  {
   "cell_type": "markdown",
   "id": "77ec5a84-bb3a-4644-a79f-725f94947be2",
   "metadata": {},
   "source": [
    "without break out of loop ,skip ahead to the next iteration"
   ]
  },
  {
   "cell_type": "code",
   "execution_count": 63,
   "id": "700ed592-8e1f-4af1-829e-eba3a208af49",
   "metadata": {},
   "outputs": [
    {
     "name": "stdout",
     "output_type": "stream",
     "text": [
      "1 2 3 4 5 7 8 9 10 "
     ]
    }
   ],
   "source": [
    "for i in range(1,11):\n",
    "    \n",
    "    # If i is equals to 6,\n",
    "    # continue to next iteration\n",
    "    # without printing\n",
    "    if i==6:\n",
    "        continue\n",
    "        # otherwise print the value\n",
    "        # of i\n",
    "        else:\n",
    "            print(i,end=\" \")"
   ]
  },
  {
   "cell_type": "markdown",
   "id": "d1ff931e-2e43-4bed-af04-0841e910dde0",
   "metadata": {},
   "source": [
    "$$ A_special_else_clause -- after_while_and_for_loops_$$"
   ]
  },
  {
   "cell_type": "markdown",
   "id": "6ce1de3e-92a3-48fa-9750-1100f5964a6c",
   "metadata": {},
   "source": [
    "if while loop ended normally (no break call),control passes to an optional else."
   ]
  },
  {
   "cell_type": "code",
   "execution_count": 65,
   "id": "a06ab34c-b237-4498-860e-556e9026ad6c",
   "metadata": {},
   "outputs": [
    {
     "name": "stdout",
     "output_type": "stream",
     "text": [
      "1\n",
      "2\n",
      "3\n",
      "i is longer less than 6\n"
     ]
    }
   ],
   "source": [
    "i=1\n",
    "while i<4:\n",
    "    print(i)\n",
    "    i=i+1\n",
    "    if i==5:\n",
    "        break\n",
    "else:\n",
    "    print(\"i is longer less than 6\")"
   ]
  },
  {
   "cell_type": "code",
   "execution_count": 67,
   "id": "7c363b32-a97a-457a-b708-dd669a008390",
   "metadata": {},
   "outputs": [
    {
     "name": "stdout",
     "output_type": "stream",
     "text": [
      "no even number found\n"
     ]
    }
   ],
   "source": [
    "for i in range (1,10,2):\n",
    "    if i%2==0:\n",
    "        print(\"found even number\",i)\n",
    "        break \n",
    "else:\n",
    "    print(\"no even number found\")"
   ]
  },
  {
   "cell_type": "markdown",
   "id": "808721e1-22db-4fe1-bf2b-de409e2c1c43",
   "metadata": {},
   "source": [
    "**Example**"
   ]
  },
  {
   "cell_type": "raw",
   "id": "b63132ca-46b0-4fc3-b51a-e870d178a8ed",
   "metadata": {},
   "source": [
    "write a program to find factors of a number"
   ]
  },
  {
   "cell_type": "code",
   "execution_count": 70,
   "id": "94d24b5c-8932-44a1-a7af-2dd295c8f20c",
   "metadata": {},
   "outputs": [
    {
     "name": "stdin",
     "output_type": "stream",
     "text": [
      "Enter a number:  128\n"
     ]
    },
    {
     "name": "stdout",
     "output_type": "stream",
     "text": [
      "the factor of  128 are:\n",
      "1\n",
      "2\n",
      "4\n",
      "8\n",
      "16\n",
      "32\n",
      "64\n",
      "128\n"
     ]
    }
   ],
   "source": [
    "# take input from  a user \n",
    "x= int(input(\"Enter a number: \"))\n",
    "\n",
    "print(\"the factor of \",x,\"are:\")\n",
    "\n",
    "for i in range(1,x+1):\n",
    "    if x%i==0:\n",
    "        print(i)"
   ]
  },
  {
   "cell_type": "code",
   "execution_count": null,
   "id": "1c3d6689-fa72-43c2-9b65-a110da512697",
   "metadata": {},
   "outputs": [],
   "source": []
  }
 ],
 "metadata": {
  "kernelspec": {
   "display_name": "Python 3 (ipykernel)",
   "language": "python",
   "name": "python3"
  },
  "language_info": {
   "codemirror_mode": {
    "name": "ipython",
    "version": 3
   },
   "file_extension": ".py",
   "mimetype": "text/x-python",
   "name": "python",
   "nbconvert_exporter": "python",
   "pygments_lexer": "ipython3",
   "version": "3.9.12"
  }
 },
 "nbformat": 4,
 "nbformat_minor": 5
}
