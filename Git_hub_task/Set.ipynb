{
 "cells": [
  {
   "cell_type": "markdown",
   "id": "4283fabe-0389-4854-b620-dc6bc50f758e",
   "metadata": {},
   "source": [
    "$$Set$$\n",
    "- A set is an unordered collection of items\n",
    "- Every set element is unique (no dublicates) and must be immutable(cannot be changed)\n",
    "- A set is created by placing all the items (elements) inside curly braces **{}** ,separated by **comma( , )** or by using built-in **set()** function\n",
    "-  denoted bye==> **{}**\n",
    "- It can have any number of items and they may be of different type(integer,float,tuple,string etc.)\n",
    "- But a set cannot have mutable elements like lists,sets or dictionaries as its elements.\n"
   ]
  },
  {
   "cell_type": "code",
   "execution_count": 1,
   "id": "98dd44dc-d422-4d12-a902-5597584199de",
   "metadata": {},
   "outputs": [
    {
     "name": "stdout",
     "output_type": "stream",
     "text": [
      "{1, 2, 3}\n"
     ]
    }
   ],
   "source": [
    "my_set={1,2,3}\n",
    "print(my_set)"
   ]
  },
  {
   "cell_type": "code",
   "execution_count": 7,
   "id": "487fbf37-bdfb-418d-9ac4-073ccb109047",
   "metadata": {},
   "outputs": [
    {
     "name": "stdout",
     "output_type": "stream",
     "text": [
      "{40, 10, 20, 30}\n"
     ]
    }
   ],
   "source": [
    "s={10,20,30,40,10}\n",
    "\n",
    "print(s)"
   ]
  },
  {
   "cell_type": "code",
   "execution_count": 8,
   "id": "3463e672-0a74-4810-83eb-c5732182cb90",
   "metadata": {},
   "outputs": [
    {
     "name": "stdout",
     "output_type": "stream",
     "text": [
      "<class 'set'>\n"
     ]
    }
   ],
   "source": [
    "print(type(s))"
   ]
  },
  {
   "cell_type": "markdown",
   "id": "f19a760d-bc4e-424c-80ae-c9787f226fcc",
   "metadata": {},
   "source": [
    "$$Set - \n",
    "cannot - have - duplicates$$"
   ]
  },
  {
   "cell_type": "code",
   "execution_count": 9,
   "id": "757fdd8b-6b5f-4f0b-b723-52921b08301b",
   "metadata": {},
   "outputs": [
    {
     "name": "stdout",
     "output_type": "stream",
     "text": [
      "{1, 2, 3, 4, 5, 6, 7}\n"
     ]
    }
   ],
   "source": [
    "my_set={1,2,3,4,5,6,7}\n",
    "print(my_set)"
   ]
  },
  {
   "cell_type": "markdown",
   "id": "ccc6989d-309c-4935-810d-096c92bf2e21",
   "metadata": {},
   "source": [
    "- we can make set from list"
   ]
  },
  {
   "cell_type": "code",
   "execution_count": 10,
   "id": "a76260c9-568f-4b36-aeb9-00c597c6f666",
   "metadata": {},
   "outputs": [
    {
     "name": "stdout",
     "output_type": "stream",
     "text": [
      "{2, 3, 4, 5}\n"
     ]
    }
   ],
   "source": [
    "my_set=set([2,3,4,5,4,4])\n",
    "print(my_set)"
   ]
  },
  {
   "cell_type": "markdown",
   "id": "9257a10d-f55f-4ff6-b80d-a6296766a9a8",
   "metadata": {},
   "source": [
    "- set cannot have mutable items \n",
    "-  here [3,4] is a mutable list this will cause an error \n",
    "\n"
   ]
  },
  {
   "cell_type": "code",
   "execution_count": 12,
   "id": "d0efab4d-5cd6-4f6a-83d7-1485e1af8cbb",
   "metadata": {},
   "outputs": [
    {
     "ename": "TypeError",
     "evalue": "unhashable type: 'list'",
     "output_type": "error",
     "traceback": [
      "\u001b[1;31m---------------------------------------------------------------------------\u001b[0m",
      "\u001b[1;31mTypeError\u001b[0m                                 Traceback (most recent call last)",
      "Cell \u001b[1;32mIn [12], line 1\u001b[0m\n\u001b[1;32m----> 1\u001b[0m my_set\u001b[38;5;241m=\u001b[39m{\u001b[38;5;241m1\u001b[39m,\u001b[38;5;241m2\u001b[39m,[\u001b[38;5;241m3\u001b[39m,\u001b[38;5;241m4\u001b[39m]}\n\u001b[0;32m      2\u001b[0m \u001b[38;5;28mprint\u001b[39m(my_set)\n",
      "\u001b[1;31mTypeError\u001b[0m: unhashable type: 'list'"
     ]
    }
   ],
   "source": [
    "my_set={1,2,[3,4]}\n",
    "print(my_set)"
   ]
  },
  {
   "cell_type": "markdown",
   "id": "ab710799-76ff-4968-bdea-af14ea7e2805",
   "metadata": {},
   "source": [
    "$$creating - an - empty - set $$"
   ]
  },
  {
   "cell_type": "code",
   "execution_count": 18,
   "id": "680ede3e-5aa0-4c90-b6fd-3279d9e115c4",
   "metadata": {},
   "outputs": [],
   "source": [
    "#initialize a with {}\n",
    "a={}\n"
   ]
  },
  {
   "cell_type": "code",
   "execution_count": 19,
   "id": "184fb0e7-2580-4035-9b72-618569ccee0c",
   "metadata": {},
   "outputs": [
    {
     "data": {
      "text/plain": [
       "dict"
      ]
     },
     "execution_count": 19,
     "metadata": {},
     "output_type": "execute_result"
    }
   ],
   "source": [
    "#check the data type \n",
    "type(a)"
   ]
  },
  {
   "cell_type": "code",
   "execution_count": 20,
   "id": "21773184-74e3-4036-8c03-601a1ebd4c1e",
   "metadata": {},
   "outputs": [],
   "source": [
    "#inintilazie a with set\n",
    "b=set()"
   ]
  },
  {
   "cell_type": "code",
   "execution_count": 21,
   "id": "5d2d4021-7527-4485-a841-fd1e5dc9dd6b",
   "metadata": {},
   "outputs": [
    {
     "data": {
      "text/plain": [
       "set"
      ]
     },
     "execution_count": 21,
     "metadata": {},
     "output_type": "execute_result"
    }
   ],
   "source": [
    "type(b)"
   ]
  },
  {
   "cell_type": "markdown",
   "id": "88159f6a-30ba-4539-9f48-91f9cd7126b7",
   "metadata": {},
   "source": [
    "$$Modifying - a - set - in - python$$"
   ]
  },
  {
   "cell_type": "markdown",
   "id": "3b65df6b-3cd5-4908-ae01-7ac36d9843e2",
   "metadata": {},
   "source": [
    "- set are mutable . however ,since they are unordered , indexing has no meaning\n",
    "- we cannot access or change an eelement of a set using or slicing .Set data type does not support it.\n",
    "- we can add a single element using add() method , and multiple elements using the update () method\n",
    "- The update() method can take tuples,list,string,or others setes as its arguments. In all cases dublicates are avoided"
   ]
  },
  {
   "cell_type": "code",
   "execution_count": 26,
   "id": "6fecaa8d-f28d-4dab-b52a-4b75be0bfbdb",
   "metadata": {},
   "outputs": [
    {
     "name": "stdout",
     "output_type": "stream",
     "text": [
      "{1, 3}\n"
     ]
    }
   ],
   "source": [
    "my_set={1,3}\n",
    "print(my_set)"
   ]
  },
  {
   "cell_type": "code",
   "execution_count": 27,
   "id": "febce58a-a20d-4f13-bb4b-f99c4e81d868",
   "metadata": {},
   "outputs": [
    {
     "ename": "TypeError",
     "evalue": "'set' object is not subscriptable",
     "output_type": "error",
     "traceback": [
      "\u001b[1;31m---------------------------------------------------------------------------\u001b[0m",
      "\u001b[1;31mTypeError\u001b[0m                                 Traceback (most recent call last)",
      "Cell \u001b[1;32mIn [27], line 1\u001b[0m\n\u001b[1;32m----> 1\u001b[0m \u001b[43mmy_set\u001b[49m\u001b[43m[\u001b[49m\u001b[38;5;241;43m0\u001b[39;49m\u001b[43m]\u001b[49m\n",
      "\u001b[1;31mTypeError\u001b[0m: 'set' object is not subscriptable"
     ]
    }
   ],
   "source": [
    "my_set[0]"
   ]
  },
  {
   "cell_type": "code",
   "execution_count": 28,
   "id": "cb547ada-73f0-4b22-a040-9c5d9a4e14e2",
   "metadata": {},
   "outputs": [],
   "source": [
    "## add an element\n",
    "my_set.add(2)"
   ]
  },
  {
   "cell_type": "code",
   "execution_count": 29,
   "id": "638274d4-fed3-4b48-8e6a-827f7147419b",
   "metadata": {},
   "outputs": [
    {
     "data": {
      "text/plain": [
       "{1, 2, 3}"
      ]
     },
     "execution_count": 29,
     "metadata": {},
     "output_type": "execute_result"
    }
   ],
   "source": [
    "my_set"
   ]
  },
  {
   "cell_type": "code",
   "execution_count": 30,
   "id": "fa0a10fe-4ef4-48b9-a7d0-5118dde426d3",
   "metadata": {},
   "outputs": [],
   "source": [
    "# add multiple elements \n",
    "my_set.update([2,3,4])\n"
   ]
  },
  {
   "cell_type": "code",
   "execution_count": 31,
   "id": "d2e3cab0-2ee1-445f-8993-821827f5d1e3",
   "metadata": {},
   "outputs": [
    {
     "data": {
      "text/plain": [
       "{1, 2, 3, 4}"
      ]
     },
     "execution_count": 31,
     "metadata": {},
     "output_type": "execute_result"
    }
   ],
   "source": [
    "my_set"
   ]
  },
  {
   "cell_type": "markdown",
   "id": "e7d2efb1-1c5a-4d3f-97d8-33550a09bfa1",
   "metadata": {},
   "source": [
    "- add list and set "
   ]
  },
  {
   "cell_type": "code",
   "execution_count": 32,
   "id": "e434ac8f-710e-4dd0-94d2-1421ee65b926",
   "metadata": {},
   "outputs": [],
   "source": [
    "my_set.update([4,5],{1,6,8})"
   ]
  },
  {
   "cell_type": "code",
   "execution_count": 33,
   "id": "be9ca4f2-ab29-4071-a1cc-1d825627019d",
   "metadata": {},
   "outputs": [],
   "source": [
    "my_set.update('h1')"
   ]
  },
  {
   "cell_type": "code",
   "execution_count": 34,
   "id": "3e088dbb-8af6-424b-905b-f5b043072d9e",
   "metadata": {},
   "outputs": [
    {
     "data": {
      "text/plain": [
       "{1, '1', 2, 3, 4, 5, 6, 8, 'h'}"
      ]
     },
     "execution_count": 34,
     "metadata": {},
     "output_type": "execute_result"
    }
   ],
   "source": [
    "my_set"
   ]
  },
  {
   "cell_type": "markdown",
   "id": "3186ed79-0eb2-4874-9c56-c40d623c5bb8",
   "metadata": {},
   "source": [
    "$$Removing - elements - from - a - set $$"
   ]
  },
  {
   "cell_type": "code",
   "execution_count": 35,
   "id": "dbc0948c-bd5d-4ad7-9330-20af50627d6e",
   "metadata": {},
   "outputs": [
    {
     "name": "stdout",
     "output_type": "stream",
     "text": [
      "{1, 2, 3, 4, 5, 6}\n"
     ]
    }
   ],
   "source": [
    "my_set = {1,2,3,4,5,6}\n",
    "print(my_set)"
   ]
  },
  {
   "cell_type": "markdown",
   "id": "5e0579c1-7cce-4b9d-a8d2-42a055df5681",
   "metadata": {},
   "source": [
    "- Discard an element \n"
   ]
  },
  {
   "cell_type": "code",
   "execution_count": 37,
   "id": "53dddf8e-c95e-4766-bb65-1d7564139831",
   "metadata": {},
   "outputs": [],
   "source": [
    "my_set.discard(4)"
   ]
  },
  {
   "cell_type": "code",
   "execution_count": 38,
   "id": "21a4b9b3-206c-43ca-ada4-07399e31c494",
   "metadata": {},
   "outputs": [
    {
     "data": {
      "text/plain": [
       "{1, 2, 3, 5, 6}"
      ]
     },
     "execution_count": 38,
     "metadata": {},
     "output_type": "execute_result"
    }
   ],
   "source": [
    "my_set"
   ]
  },
  {
   "cell_type": "markdown",
   "id": "3aa9c664-1ac7-4821-92ba-5268ece39016",
   "metadata": {},
   "source": [
    "- remove an element"
   ]
  },
  {
   "cell_type": "code",
   "execution_count": 39,
   "id": "638e275c-8bca-4b05-9953-6fce8c86e047",
   "metadata": {},
   "outputs": [],
   "source": [
    "my_set.remove(6)"
   ]
  },
  {
   "cell_type": "code",
   "execution_count": 40,
   "id": "a768b834-28b7-42f1-acab-48f8447518c1",
   "metadata": {},
   "outputs": [
    {
     "data": {
      "text/plain": [
       "{1, 2, 3, 5}"
      ]
     },
     "execution_count": 40,
     "metadata": {},
     "output_type": "execute_result"
    }
   ],
   "source": [
    "my_set"
   ]
  },
  {
   "cell_type": "markdown",
   "id": "d5be532f-00ad-400a-b899-50b339f842ba",
   "metadata": {},
   "source": [
    "- discard an element not present in my_set \n"
   ]
  },
  {
   "cell_type": "code",
   "execution_count": 46,
   "id": "99084013-6d58-4048-b946-b070142fea8f",
   "metadata": {},
   "outputs": [],
   "source": [
    "my_set.discard(9)"
   ]
  },
  {
   "cell_type": "code",
   "execution_count": 47,
   "id": "3ce33c01-949a-43fe-a272-bbc166f5072a",
   "metadata": {},
   "outputs": [
    {
     "data": {
      "text/plain": [
       "{1, 3, 5}"
      ]
     },
     "execution_count": 47,
     "metadata": {},
     "output_type": "execute_result"
    }
   ],
   "source": [
    "my_set"
   ]
  },
  {
   "cell_type": "markdown",
   "id": "bde32782-1d3a-41b1-8795-645b2680dee8",
   "metadata": {},
   "source": [
    "- remove an element using remove \n",
    "- it will give an errror"
   ]
  },
  {
   "cell_type": "code",
   "execution_count": 48,
   "id": "56b2317a-1be0-479f-9caf-8da525f64a7e",
   "metadata": {},
   "outputs": [
    {
     "ename": "AttributeError",
     "evalue": "'set' object has no attribute 'reove'",
     "output_type": "error",
     "traceback": [
      "\u001b[1;31m---------------------------------------------------------------------------\u001b[0m",
      "\u001b[1;31mAttributeError\u001b[0m                            Traceback (most recent call last)",
      "Cell \u001b[1;32mIn [48], line 1\u001b[0m\n\u001b[1;32m----> 1\u001b[0m \u001b[43mmy_set\u001b[49m\u001b[38;5;241;43m.\u001b[39;49m\u001b[43mreove\u001b[49m(\u001b[38;5;241m9\u001b[39m)\n",
      "\u001b[1;31mAttributeError\u001b[0m: 'set' object has no attribute 'reove'"
     ]
    }
   ],
   "source": [
    "my_set.reove(9)"
   ]
  },
  {
   "cell_type": "markdown",
   "id": "3b6408ae-7fdc-4beb-ad2a-4e0dd1825d87",
   "metadata": {},
   "source": [
    "- similarly, we can removed and retturn an item using pop() method\n",
    "- since set is unordered data type,there is no way of determining which item will be popped.It is completely arbitray"
   ]
  },
  {
   "cell_type": "code",
   "execution_count": 49,
   "id": "6be83bc7-897e-4a42-95e8-41123cd7f8db",
   "metadata": {},
   "outputs": [],
   "source": [
    "my_set = set(\"HelloSudarshan\")\n"
   ]
  },
  {
   "cell_type": "code",
   "execution_count": 50,
   "id": "98a2c855-9ff1-45d9-81f0-f6908183888b",
   "metadata": {},
   "outputs": [
    {
     "data": {
      "text/plain": [
       "{'H', 'S', 'a', 'd', 'e', 'h', 'l', 'n', 'o', 'r', 's', 'u'}"
      ]
     },
     "execution_count": 50,
     "metadata": {},
     "output_type": "execute_result"
    }
   ],
   "source": [
    "my_set"
   ]
  },
  {
   "cell_type": "code",
   "execution_count": 51,
   "id": "b9e8d14b-c4e4-4c71-ba84-0e50c2fdf63b",
   "metadata": {},
   "outputs": [
    {
     "data": {
      "text/plain": [
       "'l'"
      ]
     },
     "execution_count": 51,
     "metadata": {},
     "output_type": "execute_result"
    }
   ],
   "source": [
    "# pop an element\n",
    "# Outpput: random element \n",
    "my_set.pop()"
   ]
  },
  {
   "cell_type": "code",
   "execution_count": 52,
   "id": "35203eec-75aa-4b8f-b4ed-5ce55a69794f",
   "metadata": {},
   "outputs": [
    {
     "data": {
      "text/plain": [
       "{'H', 'S', 'a', 'd', 'e', 'h', 'n', 'o', 'r', 's', 'u'}"
      ]
     },
     "execution_count": 52,
     "metadata": {},
     "output_type": "execute_result"
    }
   ],
   "source": [
    "my_set"
   ]
  },
  {
   "cell_type": "markdown",
   "id": "b7c509d3-de3f-4af7-9e7a-63cc36a94b5a",
   "metadata": {},
   "source": [
    "- we can also remove all items from a set using clear() method "
   ]
  },
  {
   "cell_type": "code",
   "execution_count": 53,
   "id": "f73bb39f-8f5a-4c9c-abc5-d6e6ed5d2637",
   "metadata": {},
   "outputs": [],
   "source": [
    "my_set.clear()"
   ]
  },
  {
   "cell_type": "code",
   "execution_count": 54,
   "id": "351014f1-03b8-4f09-9bbc-daecb9515bcf",
   "metadata": {},
   "outputs": [
    {
     "data": {
      "text/plain": [
       "set()"
      ]
     },
     "execution_count": 54,
     "metadata": {},
     "output_type": "execute_result"
    }
   ],
   "source": [
    "my_set"
   ]
  },
  {
   "cell_type": "markdown",
   "id": "ff35410a-c846-4784-b9ae-041032135e19",
   "metadata": {},
   "source": [
    "$$Set - Operations $$"
   ]
  },
  {
   "cell_type": "markdown",
   "id": "e84de0c3-b875-42bb-a28a-c021f4032785",
   "metadata": {},
   "source": [
    "- set can be used to carry out mathematically set operations like **union,intersection,differnece and symetric difference**.we can do this with operator or methods"
   ]
  },
  {
   "cell_type": "code",
   "execution_count": 59,
   "id": "73c32068-c944-4748-8b6e-b72c78767ec1",
   "metadata": {},
   "outputs": [],
   "source": [
    "A={1,2,3,4,5}\n",
    "B={4,5,6,7,8}"
   ]
  },
  {
   "cell_type": "markdown",
   "id": "e8db521d-a0ef-42ae-8883-66a7310de3e5",
   "metadata": {},
   "source": [
    "$$Set - Union$$"
   ]
  },
  {
   "cell_type": "markdown",
   "id": "862cf35e-a827-4c03-9da4-671da0c5d9d7",
   "metadata": {},
   "source": [
    "- union of A and B is a set of all elements from both sets  \n",
    "- Union is performed using  | operator .same can be accomplished using the union() method."
   ]
  },
  {
   "cell_type": "code",
   "execution_count": 60,
   "id": "f05ff959-b8a2-4dbd-bd7d-eccbb5e1439f",
   "metadata": {},
   "outputs": [
    {
     "name": "stdout",
     "output_type": "stream",
     "text": [
      "{1, 2, 3, 4, 5, 6, 7, 8}\n"
     ]
    }
   ],
   "source": [
    "# use / operator\n",
    "print(A | B)"
   ]
  },
  {
   "cell_type": "markdown",
   "id": "5ce0011c-555f-46b5-92c1-ce60dcde2364",
   "metadata": {},
   "source": [
    "$$set - intersection$$"
   ]
  },
  {
   "cell_type": "markdown",
   "id": "f40330fe-87ec-4803-b599-898169c18efa",
   "metadata": {},
   "source": [
    "- Intersection of A and B is a set of elements that are common in both the sets \n",
    "- Intersection is performed using & operator . same can be accomplished using the intersection () method"
   ]
  },
  {
   "cell_type": "code",
   "execution_count": 62,
   "id": "bb47aa06-da81-4cd9-805f-9ea517cdff10",
   "metadata": {},
   "outputs": [
    {
     "name": "stdout",
     "output_type": "stream",
     "text": [
      "{4, 5}\n"
     ]
    }
   ],
   "source": [
    "print(A&B)"
   ]
  },
  {
   "cell_type": "code",
   "execution_count": 63,
   "id": "573a9966-23e6-4a00-a1b4-8172724f25f6",
   "metadata": {},
   "outputs": [
    {
     "data": {
      "text/plain": [
       "{4, 5}"
      ]
     },
     "execution_count": 63,
     "metadata": {},
     "output_type": "execute_result"
    }
   ],
   "source": [
    "A.intersection(B)"
   ]
  },
  {
   "cell_type": "code",
   "execution_count": 64,
   "id": "ca354088-9194-4315-8c38-31bb463064d8",
   "metadata": {},
   "outputs": [
    {
     "data": {
      "text/plain": [
       "{4, 5}"
      ]
     },
     "execution_count": 64,
     "metadata": {},
     "output_type": "execute_result"
    }
   ],
   "source": [
    "B.intersection(A)"
   ]
  },
  {
   "cell_type": "markdown",
   "id": "481ce430-4a62-4b8e-b985-05f3feda56c3",
   "metadata": {},
   "source": [
    "$$set - difference$$"
   ]
  },
  {
   "cell_type": "markdown",
   "id": "7990a74f-6efd-465a-a777-8664ae841094",
   "metadata": {},
   "source": [
    "- Differenece pf the set B from set A(A-B) is a set of elements that are only in A but npt in B . similarly ,B-A is a set of elements in B but not in A.\n",
    "- Difference is performed using - operator .same can be accomplished using the **difference()** method"
   ]
  },
  {
   "cell_type": "code",
   "execution_count": 65,
   "id": "fc3e5833-e4ef-43f3-be0f-051339527579",
   "metadata": {},
   "outputs": [
    {
     "name": "stdout",
     "output_type": "stream",
     "text": [
      "{1, 2, 3}\n"
     ]
    }
   ],
   "source": [
    "#use -  operator on A \n",
    "print (A - B)\n"
   ]
  },
  {
   "cell_type": "code",
   "execution_count": 66,
   "id": "99693020-86db-48de-8f99-0b4f8f34aaeb",
   "metadata": {},
   "outputs": [
    {
     "data": {
      "text/plain": [
       "{6, 7, 8}"
      ]
     },
     "execution_count": 66,
     "metadata": {},
     "output_type": "execute_result"
    }
   ],
   "source": [
    "B-A"
   ]
  },
  {
   "cell_type": "code",
   "execution_count": 68,
   "id": "004e09cb-fda6-4d10-be4f-3797f116881d",
   "metadata": {},
   "outputs": [
    {
     "data": {
      "text/plain": [
       "{1, 2, 3}"
      ]
     },
     "execution_count": 68,
     "metadata": {},
     "output_type": "execute_result"
    }
   ],
   "source": [
    "A.difference(B)"
   ]
  },
  {
   "cell_type": "code",
   "execution_count": 70,
   "id": "dc8b00a4-93f5-4ff6-922e-1d8e213084b2",
   "metadata": {},
   "outputs": [
    {
     "data": {
      "text/plain": [
       "{6, 7, 8}"
      ]
     },
     "execution_count": 70,
     "metadata": {},
     "output_type": "execute_result"
    }
   ],
   "source": [
    "B.difference(A)"
   ]
  },
  {
   "cell_type": "markdown",
   "id": "06c71767-a810-4b69-b06e-9daded589513",
   "metadata": {},
   "source": [
    "$$ Frozenset$$"
   ]
  },
  {
   "cell_type": "markdown",
   "id": "b6b01ef2-79de-4200-ad3c-841a0dd54138",
   "metadata": {},
   "source": [
    "- frozenset has characteristics of a set , but its element cannot be changed once assigned. while tuples are immutable list,frozensets are immutable sets.\n",
    "- Frozenset can be created using frozensets() function \n",
    "- Being immutable ,it does not have methods tha add or remove elements "
   ]
  },
  {
   "cell_type": "code",
   "execution_count": 71,
   "id": "5fdf9d20-cae4-4af9-953b-0ccd1a13f548",
   "metadata": {},
   "outputs": [],
   "source": [
    "A=frozenset([1,2,3,4])\n",
    "B=frozenset([3,4,5,6])"
   ]
  },
  {
   "cell_type": "code",
   "execution_count": 78,
   "id": "2eb2cf6f-c6d6-40f3-a368-ec06d653578e",
   "metadata": {},
   "outputs": [
    {
     "data": {
      "text/plain": [
       "frozenset({1, 2, 3, 4})"
      ]
     },
     "execution_count": 78,
     "metadata": {},
     "output_type": "execute_result"
    }
   ],
   "source": [
    "A"
   ]
  },
  {
   "cell_type": "code",
   "execution_count": 79,
   "id": "72133075-4b79-4b8f-a523-fc795895f0be",
   "metadata": {},
   "outputs": [
    {
     "name": "stdout",
     "output_type": "stream",
     "text": [
      "frozenset({3, 4, 5, 6})\n"
     ]
    }
   ],
   "source": [
    "print(B)"
   ]
  },
  {
   "cell_type": "code",
   "execution_count": 80,
   "id": "3840cb18-1a70-45d7-afb0-42b4151930a4",
   "metadata": {},
   "outputs": [
    {
     "data": {
      "text/plain": [
       "frozenset"
      ]
     },
     "execution_count": 80,
     "metadata": {},
     "output_type": "execute_result"
    }
   ],
   "source": [
    "type(B)"
   ]
  },
  {
   "cell_type": "code",
   "execution_count": 81,
   "id": "b34f4bff-5a34-47c2-80fc-a916c13086a7",
   "metadata": {},
   "outputs": [
    {
     "data": {
      "text/plain": [
       "frozenset({1, 2})"
      ]
     },
     "execution_count": 81,
     "metadata": {},
     "output_type": "execute_result"
    }
   ],
   "source": [
    "A.difference(B)"
   ]
  },
  {
   "cell_type": "code",
   "execution_count": 82,
   "id": "7919683d-00a0-4b8c-b57f-0fbe773b0166",
   "metadata": {},
   "outputs": [
    {
     "data": {
      "text/plain": [
       "frozenset({1, 2, 3, 4, 5, 6})"
      ]
     },
     "execution_count": 82,
     "metadata": {},
     "output_type": "execute_result"
    }
   ],
   "source": [
    "A | B "
   ]
  },
  {
   "cell_type": "code",
   "execution_count": null,
   "id": "ca5d6a8c-b1bb-49bf-97ae-240ad2115bcb",
   "metadata": {},
   "outputs": [],
   "source": [
    "A.add(3)"
   ]
  },
  {
   "cell_type": "markdown",
   "id": "e0bc2360-e2c6-4f19-a1be-1ebde8b69e31",
   "metadata": {},
   "source": []
  }
 ],
 "metadata": {
  "kernelspec": {
   "display_name": "Python 3 (ipykernel)",
   "language": "python",
   "name": "python3"
  },
  "language_info": {
   "codemirror_mode": {
    "name": "ipython",
    "version": 3
   },
   "file_extension": ".py",
   "mimetype": "text/x-python",
   "name": "python",
   "nbconvert_exporter": "python",
   "pygments_lexer": "ipython3",
   "version": "3.9.12"
  }
 },
 "nbformat": 4,
 "nbformat_minor": 5
}
