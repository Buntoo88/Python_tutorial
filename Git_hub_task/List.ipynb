{
 "cells": [
  {
   "cell_type": "markdown",
   "id": "a508c620-a074-4c1a-b91b-ea2f045dcb0b",
   "metadata": {},
   "source": [
    "$$List$$"
   ]
  },
  {
   "cell_type": "markdown",
   "id": "983027e7-92a9-4922-956d-9ad5869914c4",
   "metadata": {},
   "source": [
    "- Introduction\n",
    "\n",
    "- list --> are created using **square bracket --> []**\n",
    "\n",
    "- [] --> we can assign any value in between of that e.g   **[tuple(),boolean_value,integer ]**\n",
    "\n",
    "- list are order and we have index to access\n",
    "\n",
    "- list items are **ordered ,changebale, and allow dublicate value.**\n",
    "\n",
    "- thats why we called list are mutable--**update,delet,insert....etc**"
   ]
  },
  {
   "cell_type": "code",
   "execution_count": 3,
   "id": "3a691694-6894-4cb9-8052-8e0641dcdf34",
   "metadata": {},
   "outputs": [],
   "source": [
    "cities=['mumbai','pune','bangalore','delhi']"
   ]
  },
  {
   "cell_type": "code",
   "execution_count": 4,
   "id": "7d7c8dc1-d525-4e96-a3f0-1a7c213fe7df",
   "metadata": {},
   "outputs": [
    {
     "name": "stdout",
     "output_type": "stream",
     "text": [
      "['mumbai', 'pune', 'bangalore', 'delhi']\n"
     ]
    }
   ],
   "source": [
    "print(cities)"
   ]
  },
  {
   "cell_type": "code",
   "execution_count": 5,
   "id": "18f50d6d-4561-42b4-90f7-409a02c1360e",
   "metadata": {},
   "outputs": [
    {
     "data": {
      "text/plain": [
       "list"
      ]
     },
     "execution_count": 5,
     "metadata": {},
     "output_type": "execute_result"
    }
   ],
   "source": [
    "type(cities)"
   ]
  },
  {
   "cell_type": "code",
   "execution_count": 6,
   "id": "6330f75d-cb4d-4d87-a9ea-17b6a5414ee7",
   "metadata": {},
   "outputs": [
    {
     "name": "stdout",
     "output_type": "stream",
     "text": [
      "[1, 3, 5, 7, 9]\n"
     ]
    }
   ],
   "source": [
    "odd_num=[1,3,5,7,9]\n",
    "print(odd_num)"
   ]
  },
  {
   "cell_type": "code",
   "execution_count": 7,
   "id": "8e6abe6f-363d-44c5-818c-887a01db00b9",
   "metadata": {},
   "outputs": [
    {
     "data": {
      "text/plain": [
       "list"
      ]
     },
     "execution_count": 7,
     "metadata": {},
     "output_type": "execute_result"
    }
   ],
   "source": [
    "type(odd_num)"
   ]
  },
  {
   "cell_type": "markdown",
   "id": "3c4b3e8c-2241-4841-b3d1-1831ab1537a0",
   "metadata": {},
   "source": [
    "- list can contain different types of objects\n"
   ]
  },
  {
   "cell_type": "code",
   "execution_count": 8,
   "id": "1d0e7c59-589f-4b58-be29-2d6e08ce1bf8",
   "metadata": {},
   "outputs": [
    {
     "name": "stdout",
     "output_type": "stream",
     "text": [
      "[1, 'Sudarshan', 'Mit', 68.67, True]\n"
     ]
    }
   ],
   "source": [
    "different =[1,\"Sudarshan\",'Mit',68.67,True]\n",
    "print(different)"
   ]
  },
  {
   "cell_type": "code",
   "execution_count": null,
   "id": "eb45a61f-b3ad-439b-853e-e8bed010d7ca",
   "metadata": {},
   "outputs": [],
   "source": []
  },
  {
   "cell_type": "markdown",
   "id": "8a68ab1d-8127-4fd0-a4c7-7fa3880ab69b",
   "metadata": {},
   "source": [
    "$$Length-of-List$$\n",
    "\n",
    "- use len function "
   ]
  },
  {
   "cell_type": "code",
   "execution_count": 9,
   "id": "e3e33fdc-87c9-43c0-b889-f99ebfd7d6f1",
   "metadata": {},
   "outputs": [
    {
     "data": {
      "text/plain": [
       "5"
      ]
     },
     "execution_count": 9,
     "metadata": {},
     "output_type": "execute_result"
    }
   ],
   "source": [
    "len(different)"
   ]
  },
  {
   "cell_type": "code",
   "execution_count": 10,
   "id": "6f7272b5-43ce-48c0-8530-320c8832500c",
   "metadata": {},
   "outputs": [
    {
     "data": {
      "text/plain": [
       "4"
      ]
     },
     "execution_count": 10,
     "metadata": {},
     "output_type": "execute_result"
    }
   ],
   "source": [
    "len(cities)"
   ]
  },
  {
   "cell_type": "markdown",
   "id": "d5775638-c055-46f5-80f3-ed1d0161cb8a",
   "metadata": {},
   "source": [
    "$$Empty-List$$"
   ]
  },
  {
   "cell_type": "code",
   "execution_count": 11,
   "id": "539a1c27-35a0-459f-93db-fe3da62d2a81",
   "metadata": {},
   "outputs": [],
   "source": [
    "s1=list()"
   ]
  },
  {
   "cell_type": "code",
   "execution_count": 12,
   "id": "4b7c0620-59e2-433a-8b60-91abce10e67a",
   "metadata": {},
   "outputs": [
    {
     "data": {
      "text/plain": [
       "0"
      ]
     },
     "execution_count": 12,
     "metadata": {},
     "output_type": "execute_result"
    }
   ],
   "source": [
    "len(s1)"
   ]
  },
  {
   "cell_type": "code",
   "execution_count": 13,
   "id": "4d9b42d7-a8e5-4768-b333-4e192240afd7",
   "metadata": {},
   "outputs": [
    {
     "data": {
      "text/plain": [
       "list"
      ]
     },
     "execution_count": 13,
     "metadata": {},
     "output_type": "execute_result"
    }
   ],
   "source": [
    "type(s1)"
   ]
  },
  {
   "cell_type": "code",
   "execution_count": 14,
   "id": "446c2d74-6de2-4c73-b105-819198d1add5",
   "metadata": {},
   "outputs": [],
   "source": [
    "s2=[]"
   ]
  },
  {
   "cell_type": "code",
   "execution_count": 15,
   "id": "e4844b9b-d17a-40f1-ac0a-bf4e88020a27",
   "metadata": {},
   "outputs": [
    {
     "data": {
      "text/plain": [
       "list"
      ]
     },
     "execution_count": 15,
     "metadata": {},
     "output_type": "execute_result"
    }
   ],
   "source": [
    "type(s2)"
   ]
  },
  {
   "cell_type": "markdown",
   "id": "3fbe8abf-f851-461f-b798-85376f1f8ede",
   "metadata": {},
   "source": [
    "$$Accessing - elements - of - the - list $$\n",
    "- Elements of the list can be accssed using **indexing**\n",
    "\n",
    "- we can use index operator [] (square bracketing) to access an items in a list\n",
    "\n",
    "- in python, indicates start at 0(zero). \n",
    "- so, a list having 5 elements will have an index from 0 to 4\n",
    "\n",
    "- Trying to access indexes other than these will raise **IndexError**.\n",
    "\n",
    "- The index must be an integer . we can't use float or other types , this will result **TypeError**.\n",
    "\n",
    "- Python allows negative indexing for its sequences. The index -1 refers to the last item,-2 to the second last item and so on.\n"
   ]
  },
  {
   "cell_type": "code",
   "execution_count": 16,
   "id": "a01537df-ff7c-4aa8-9571-a9ec65fb6eff",
   "metadata": {},
   "outputs": [
    {
     "data": {
      "text/plain": [
       "['mumbai', 'pune', 'bangalore', 'delhi']"
      ]
     },
     "execution_count": 16,
     "metadata": {},
     "output_type": "execute_result"
    }
   ],
   "source": [
    "cities"
   ]
  },
  {
   "cell_type": "code",
   "execution_count": 17,
   "id": "e894c1d8-3898-4bc9-a78f-f8903534fbd4",
   "metadata": {},
   "outputs": [
    {
     "data": {
      "text/plain": [
       "'mumbai'"
      ]
     },
     "execution_count": 17,
     "metadata": {},
     "output_type": "execute_result"
    }
   ],
   "source": [
    "cities[0]"
   ]
  },
  {
   "cell_type": "code",
   "execution_count": 18,
   "id": "6b494219-9268-477d-b9b7-7c8995c34e30",
   "metadata": {},
   "outputs": [
    {
     "data": {
      "text/plain": [
       "'pune'"
      ]
     },
     "execution_count": 18,
     "metadata": {},
     "output_type": "execute_result"
    }
   ],
   "source": [
    "cities[1]"
   ]
  },
  {
   "cell_type": "code",
   "execution_count": 19,
   "id": "01a23c9b-051b-44c0-be53-1fba44c102b0",
   "metadata": {},
   "outputs": [
    {
     "data": {
      "text/plain": [
       "'bangalore'"
      ]
     },
     "execution_count": 19,
     "metadata": {},
     "output_type": "execute_result"
    }
   ],
   "source": [
    "cities[2]"
   ]
  },
  {
   "cell_type": "code",
   "execution_count": 20,
   "id": "c97cf3a1-f605-43ba-8cc2-44c36b7f8b85",
   "metadata": {},
   "outputs": [
    {
     "data": {
      "text/plain": [
       "'delhi'"
      ]
     },
     "execution_count": 20,
     "metadata": {},
     "output_type": "execute_result"
    }
   ],
   "source": [
    "cities[-1]"
   ]
  },
  {
   "cell_type": "code",
   "execution_count": 21,
   "id": "d89022a2-fafe-4116-9451-67e08627f7a5",
   "metadata": {},
   "outputs": [
    {
     "ename": "IndexError",
     "evalue": "list index out of range",
     "output_type": "error",
     "traceback": [
      "\u001b[1;31m---------------------------------------------------------------------------\u001b[0m",
      "\u001b[1;31mIndexError\u001b[0m                                Traceback (most recent call last)",
      "Cell \u001b[1;32mIn [21], line 1\u001b[0m\n\u001b[1;32m----> 1\u001b[0m \u001b[43mcities\u001b[49m\u001b[43m[\u001b[49m\u001b[38;5;241;43m5\u001b[39;49m\u001b[43m]\u001b[49m\n",
      "\u001b[1;31mIndexError\u001b[0m: list index out of range"
     ]
    }
   ],
   "source": [
    "cities[5]"
   ]
  },
  {
   "cell_type": "code",
   "execution_count": null,
   "id": "a1b5ea80-947a-487d-9331-e92a4d594e6b",
   "metadata": {},
   "outputs": [],
   "source": [
    "cities[-5]"
   ]
  },
  {
   "cell_type": "markdown",
   "id": "1746b9b9-3ea3-4fb5-96b6-3a746d41dfdc",
   "metadata": {},
   "source": [
    "\n",
    "$$_List Slicing_$$\n",
    "\n",
    "-  we can access a range of items in a list by using the slicing operator : (colon) "
   ]
  },
  {
   "cell_type": "code",
   "execution_count": 22,
   "id": "4064becf-785c-4abe-b15e-f6c435b83a49",
   "metadata": {},
   "outputs": [
    {
     "data": {
      "text/plain": [
       "[1, 3, 5, 7, 9]"
      ]
     },
     "execution_count": 22,
     "metadata": {},
     "output_type": "execute_result"
    }
   ],
   "source": [
    "odd_num"
   ]
  },
  {
   "cell_type": "code",
   "execution_count": 23,
   "id": "dc722157-c402-4ae7-91fd-3e389aedde1f",
   "metadata": {},
   "outputs": [
    {
     "data": {
      "text/plain": [
       "5"
      ]
     },
     "execution_count": 23,
     "metadata": {},
     "output_type": "execute_result"
    }
   ],
   "source": [
    "len(odd_num)"
   ]
  },
  {
   "cell_type": "code",
   "execution_count": 24,
   "id": "04164ac8-115a-4925-b0b1-373f17bc584e",
   "metadata": {},
   "outputs": [],
   "source": [
    "odd=odd_num[2:6] #start index + stop index "
   ]
  },
  {
   "cell_type": "code",
   "execution_count": 25,
   "id": "21f1ed54-81b6-4c78-bfa7-4652137a656d",
   "metadata": {},
   "outputs": [
    {
     "data": {
      "text/plain": [
       "[5, 7, 9]"
      ]
     },
     "execution_count": 25,
     "metadata": {},
     "output_type": "execute_result"
    }
   ],
   "source": [
    "odd"
   ]
  },
  {
   "cell_type": "code",
   "execution_count": 26,
   "id": "550174d0-3718-4c9b-ba7f-1f8d4d5eca95",
   "metadata": {},
   "outputs": [
    {
     "data": {
      "text/plain": [
       "[1, 3, 5, 7, 9]"
      ]
     },
     "execution_count": 26,
     "metadata": {},
     "output_type": "execute_result"
    }
   ],
   "source": [
    "odd_num[:6] # end point index at 6th position (indexing always writtens as stop index plus 1))\n",
    "# here actual indexing will start from 0th index position element to the 5 indexing elemnt that menas last from our list "
   ]
  },
  {
   "cell_type": "markdown",
   "id": "9fa0694c-0727-4d18-be10-47428acaae59",
   "metadata": {},
   "source": [
    "$$ _Modifying List_ $$"
   ]
  },
  {
   "cell_type": "code",
   "execution_count": 27,
   "id": "89305799-c669-4fd8-af55-fa1a2a4f62d1",
   "metadata": {},
   "outputs": [
    {
     "data": {
      "text/plain": [
       "['mumbai', 'pune', 'bangalore', 'delhi']"
      ]
     },
     "execution_count": 27,
     "metadata": {},
     "output_type": "execute_result"
    }
   ],
   "source": [
    "cities"
   ]
  },
  {
   "cell_type": "code",
   "execution_count": 28,
   "id": "944cd491-7e86-4474-b210-e64fc80def6b",
   "metadata": {},
   "outputs": [],
   "source": [
    "cities[2]=\"junnar\""
   ]
  },
  {
   "cell_type": "code",
   "execution_count": 29,
   "id": "b0e8a929-b9d8-479a-a1c8-9c465f6ffff2",
   "metadata": {},
   "outputs": [
    {
     "data": {
      "text/plain": [
       "['mumbai', 'pune', 'junnar', 'delhi']"
      ]
     },
     "execution_count": 29,
     "metadata": {},
     "output_type": "execute_result"
    }
   ],
   "source": [
    "cities"
   ]
  },
  {
   "cell_type": "markdown",
   "id": "5bb030cb-8a4f-44ab-a313-e37a60e9886f",
   "metadata": {},
   "source": [
    "__Modifying using index range__\n",
    "\n"
   ]
  },
  {
   "cell_type": "code",
   "execution_count": 30,
   "id": "6cb2ee56-581a-461b-b974-6249534573e1",
   "metadata": {},
   "outputs": [
    {
     "data": {
      "text/plain": [
       "['mumbai', 'pune', 'junnar', 'delhi']"
      ]
     },
     "execution_count": 30,
     "metadata": {},
     "output_type": "execute_result"
    }
   ],
   "source": [
    "cities"
   ]
  },
  {
   "cell_type": "code",
   "execution_count": 31,
   "id": "69230fae-ba08-4daa-b0e4-010e8452633b",
   "metadata": {},
   "outputs": [
    {
     "data": {
      "text/plain": [
       "['pune', 'junnar']"
      ]
     },
     "execution_count": 31,
     "metadata": {},
     "output_type": "execute_result"
    }
   ],
   "source": [
    "cities[1:3]"
   ]
  },
  {
   "cell_type": "code",
   "execution_count": 32,
   "id": "0a90c723-3753-4445-b3f7-8a48a3e386d5",
   "metadata": {},
   "outputs": [],
   "source": [
    "cities[1:3]=[\"barav\",\"Punjab\"]"
   ]
  },
  {
   "cell_type": "code",
   "execution_count": 33,
   "id": "65d428f8-6f52-4eb2-abe9-b4dd0bac820c",
   "metadata": {},
   "outputs": [
    {
     "data": {
      "text/plain": [
       "['mumbai', 'barav', 'Punjab', 'delhi']"
      ]
     },
     "execution_count": 33,
     "metadata": {},
     "output_type": "execute_result"
    }
   ],
   "source": [
    "cities"
   ]
  },
  {
   "cell_type": "markdown",
   "id": "c349a333-a1a5-43be-a4be-f1834297dc07",
   "metadata": {},
   "source": [
    "**Properties of lists**\n",
    "\n",
    "- 1. Heterogenus (any data type!)\n",
    "- 2. Ordered(numbered from 0 to n-1)\n",
    "- 3. Have random access to any element (Using index)\n",
    "- 4. Number of elements can change very easily \n",
    "- 5. Lists are mutable "
   ]
  },
  {
   "cell_type": "markdown",
   "id": "7bad1710-c73f-4e30-b268-9b03a148ad2b",
   "metadata": {},
   "source": [
    "$$METHOD-OF-LISTS$$\n",
    "- 1) append(ele)-->it adds the elements by default at the end of list\n",
    "\n",
    "\n",
    "- 2) extend(L) --> combine 2 list together | add to lists together | to add or join new list to old list \n",
    "\n",
    "\n",
    "- 3) insert(i, elem) -->it adds the element at particular position or index \n",
    "\n",
    "\n",
    "- 4) remove(element) -->Remove first item that is equal to elem, from the list | remove the element which we want to remove \n",
    "\n",
    "$$ IMP$$\n",
    "- 5) pop([i])--> i)it will remove **default last element** from list if index is not given .\n",
    "- ii)you have to give index of element which you want to reomve\n",
    "- iii) in case of boolean value is mentioned it will not removed by **remove()-function** so we use pop() function\n",
    "\n",
    "\n",
    "- 6) clear()-->it will amke list empty\n",
    "\n",
    "- 7) index(element)--> Return index of first item that is equal to elem\n",
    "\n",
    "- 8) count --> it counts how many times element appeared in the list\n",
    "- 9) sort() -->i)  Sort items in a list in ascending order\n",
    "-             ii) To sort in descending order use reverse = True\n",
    "- 10) reverse() -->  Reverse the order of items in a list"
   ]
  },
  {
   "cell_type": "code",
   "execution_count": 34,
   "id": "2c60f3bf-dd38-4fba-a7cb-85e956a5df23",
   "metadata": {},
   "outputs": [],
   "source": [
    "cities1=['banagalore','chennai','jaipur','kolkata']"
   ]
  },
  {
   "cell_type": "code",
   "execution_count": 35,
   "id": "30766ae5-19c8-4293-9fd6-e832cd23dcf2",
   "metadata": {},
   "outputs": [
    {
     "data": {
      "text/plain": [
       "['banagalore', 'chennai', 'jaipur', 'kolkata']"
      ]
     },
     "execution_count": 35,
     "metadata": {},
     "output_type": "execute_result"
    }
   ],
   "source": [
    "cities1"
   ]
  },
  {
   "cell_type": "markdown",
   "id": "95b8419f-86bc-4093-8c63-db51715b3c74",
   "metadata": {},
   "source": [
    "$$append(elem)$$\n",
    "• Add item elem at the end of the list"
   ]
  },
  {
   "cell_type": "code",
   "execution_count": 36,
   "id": "93247024-20e4-4bbf-9313-e76a09466b8d",
   "metadata": {},
   "outputs": [],
   "source": [
    "cities1.append('pune')"
   ]
  },
  {
   "cell_type": "code",
   "execution_count": 37,
   "id": "8c2d47aa-bcd9-4f3c-93e9-a05592af18a6",
   "metadata": {},
   "outputs": [
    {
     "data": {
      "text/plain": [
       "['banagalore', 'chennai', 'jaipur', 'kolkata', 'pune']"
      ]
     },
     "execution_count": 37,
     "metadata": {},
     "output_type": "execute_result"
    }
   ],
   "source": [
    "cities1"
   ]
  },
  {
   "cell_type": "markdown",
   "id": "bd358cea-f786-4a39-a325-d5ce9676caa4",
   "metadata": {},
   "source": [
    "$$extend(L)$$\n",
    "- combine 2 list together | add to lists together | to add or join new list to old list "
   ]
  },
  {
   "cell_type": "code",
   "execution_count": 38,
   "id": "10ff9514-735b-4ca8-a3d9-147d94c72784",
   "metadata": {},
   "outputs": [
    {
     "name": "stdout",
     "output_type": "stream",
     "text": [
      "[1, 2, 3, 4, 5, 6, 'hello', 'bye', 'good bye', 'good night']\n"
     ]
    }
   ],
   "source": [
    "y=[1,2,3,4,5,6]\n",
    "z=[\"hello\",\"bye\",\"good bye\",\"good night\"]\n",
    "y.extend(z)\n",
    "print(y)"
   ]
  },
  {
   "cell_type": "markdown",
   "id": "0e4a0435-da36-46d5-bf8a-525018433ee1",
   "metadata": {},
   "source": [
    "$$insert(i,element)$$\n",
    "- insert(i, elem) -->it adds the element at particular position or index "
   ]
  },
  {
   "cell_type": "code",
   "execution_count": 39,
   "id": "54724c12-deea-42f5-89c0-f237d616f09b",
   "metadata": {},
   "outputs": [
    {
     "data": {
      "text/plain": [
       "[1, 2, 3, 'hello', 'bye', 'Sudarshan', 'junnar', 'pune', 'MH']"
      ]
     },
     "execution_count": 39,
     "metadata": {},
     "output_type": "execute_result"
    }
   ],
   "source": [
    "x=[1,2,3,\"hello\",\"bye\",\"junnar\",\"pune\",\"MH\"]\n",
    "x.insert(5,\"Sudarshan\") # add element at index 5th\n",
    "x"
   ]
  },
  {
   "cell_type": "code",
   "execution_count": 40,
   "id": "53f0c5a0-4291-4fa9-b052-d1168a9a5ba7",
   "metadata": {
    "tags": []
   },
   "outputs": [
    {
     "data": {
      "text/plain": [
       "[1, 2, 3, 'hello', 'bye', 'Sudarshan', 'Bunty', 'junnar', 'pune', 'MH']"
      ]
     },
     "execution_count": 40,
     "metadata": {},
     "output_type": "execute_result"
    }
   ],
   "source": [
    "x.insert(6,\"Bunty\")\n",
    "x"
   ]
  },
  {
   "cell_type": "code",
   "execution_count": 41,
   "id": "bc731fa3-035e-4432-8b38-55757d48e8ba",
   "metadata": {},
   "outputs": [
    {
     "data": {
      "text/plain": [
       "[1, 'cool', 2, 3, 'hello', 'bye', 'Sudarshan', 'Bunty', 'junnar', 'pune', 'MH']"
      ]
     },
     "execution_count": 41,
     "metadata": {},
     "output_type": "execute_result"
    }
   ],
   "source": [
    "x.insert(1,\"cool\")\n",
    "x"
   ]
  },
  {
   "cell_type": "markdown",
   "id": "4c694843-0356-47ed-9536-83cc8f495dc2",
   "metadata": {},
   "source": [
    "$$rmeove(element)$$\n",
    "- Remove first item that is equal to elem, from the list | remove the element which we want to remove \n"
   ]
  },
  {
   "cell_type": "code",
   "execution_count": 42,
   "id": "5b8f4d39-b1dc-4ec2-a328-1e00330df94a",
   "metadata": {},
   "outputs": [
    {
     "data": {
      "text/plain": [
       "['sudarshan', 'shubham', 'ajinkya']"
      ]
     },
     "execution_count": 42,
     "metadata": {},
     "output_type": "execute_result"
    }
   ],
   "source": [
    "b=[\"bunty\",\"sudarshan\",\"shubham\",\"ajinkya\"]\n",
    "b.remove(\"bunty\")\n",
    "b"
   ]
  },
  {
   "cell_type": "markdown",
   "id": "cf55aaed-9658-445e-93b6-f8098938bb65",
   "metadata": {},
   "source": [
    "$$pop([i])$$\n",
    "- Remove and return item at position i (last item if i is not provided)\n"
   ]
  },
  {
   "cell_type": "code",
   "execution_count": 43,
   "id": "03c81fbb-c115-4c6f-8712-03cdbfd58c8e",
   "metadata": {},
   "outputs": [
    {
     "data": {
      "text/plain": [
       "['mumbai', 'bang', 'delhi', 'Punjab']"
      ]
     },
     "execution_count": 43,
     "metadata": {},
     "output_type": "execute_result"
    }
   ],
   "source": [
    "city=[\"pune\",\"mumbai\",\"bang\",\"delhi\",\"Punjab\"]\n",
    "city.pop(0) # here we are providing index of the position\n",
    "city"
   ]
  },
  {
   "cell_type": "code",
   "execution_count": 44,
   "id": "793e00eb-e5a0-48bb-b1ba-24e3e1dfa5a5",
   "metadata": {},
   "outputs": [
    {
     "data": {
      "text/plain": [
       "'Punjab'"
      ]
     },
     "execution_count": 44,
     "metadata": {},
     "output_type": "execute_result"
    }
   ],
   "source": [
    "city.pop(3)"
   ]
  },
  {
   "cell_type": "markdown",
   "id": "8dd888ee-50f8-4874-8447-cd156600644d",
   "metadata": {},
   "source": [
    "$$ index(elem)$$\n",
    "\n",
    "- Return index of first item that is equal to elem$$"
   ]
  },
  {
   "cell_type": "code",
   "execution_count": 45,
   "id": "07cdee97-b8de-4bf0-a419-4a334433debb",
   "metadata": {},
   "outputs": [
    {
     "data": {
      "text/plain": [
       "['mumbai', 'bang', 'delhi']"
      ]
     },
     "execution_count": 45,
     "metadata": {},
     "output_type": "execute_result"
    }
   ],
   "source": [
    "city"
   ]
  },
  {
   "cell_type": "code",
   "execution_count": 46,
   "id": "3a18b15b-2d9b-44b1-bcb7-7ef3aaade7d3",
   "metadata": {},
   "outputs": [
    {
     "data": {
      "text/plain": [
       "0"
      ]
     },
     "execution_count": 46,
     "metadata": {},
     "output_type": "execute_result"
    }
   ],
   "source": [
    "city.index(\"mumbai\")"
   ]
  },
  {
   "cell_type": "code",
   "execution_count": 47,
   "id": "bcee33ee-c4a5-47c4-826c-a7595da6334d",
   "metadata": {},
   "outputs": [
    {
     "data": {
      "text/plain": [
       "1"
      ]
     },
     "execution_count": 47,
     "metadata": {},
     "output_type": "execute_result"
    }
   ],
   "source": [
    "city.index(\"bang\")"
   ]
  },
  {
   "cell_type": "markdown",
   "id": "3c347061-f9f3-458f-ba96-38150967d38a",
   "metadata": {},
   "source": [
    "$$count(elem)$$\n",
    "- Return the number of items that is equal to elem"
   ]
  },
  {
   "cell_type": "code",
   "execution_count": 48,
   "id": "a6358d68-6b95-43ef-bcde-4510c9d24c9d",
   "metadata": {},
   "outputs": [
    {
     "data": {
      "text/plain": [
       "3"
      ]
     },
     "execution_count": 48,
     "metadata": {},
     "output_type": "execute_result"
    }
   ],
   "source": [
    "k=[\"i\",\"a\",\"a\",\"c\",\"a\",\"d\",\"m\",\"s\",\"s\",\"c\"]\n",
    "k.count(\"a\")"
   ]
  },
  {
   "cell_type": "code",
   "execution_count": 49,
   "id": "386b84a7-fd29-444d-8aea-fc233fbb65ca",
   "metadata": {},
   "outputs": [
    {
     "data": {
      "text/plain": [
       "2"
      ]
     },
     "execution_count": 49,
     "metadata": {},
     "output_type": "execute_result"
    }
   ],
   "source": [
    "k.count(\"s\")"
   ]
  },
  {
   "cell_type": "code",
   "execution_count": 50,
   "id": "54834b7c-3c53-40cf-8b71-3bea31685226",
   "metadata": {},
   "outputs": [
    {
     "data": {
      "text/plain": [
       "2"
      ]
     },
     "execution_count": 50,
     "metadata": {},
     "output_type": "execute_result"
    }
   ],
   "source": [
    "k.count(\"c\")"
   ]
  },
  {
   "cell_type": "code",
   "execution_count": 51,
   "id": "c2a9accc-7c94-4439-83af-3c802f4ebd1c",
   "metadata": {},
   "outputs": [
    {
     "data": {
      "text/plain": [
       "3"
      ]
     },
     "execution_count": 51,
     "metadata": {},
     "output_type": "execute_result"
    }
   ],
   "source": [
    "k.count(\"a\")"
   ]
  },
  {
   "cell_type": "markdown",
   "id": "4ec57b49-3176-433b-8a0e-4908c1d5635f",
   "metadata": {},
   "source": [
    "$$ sort()$$\n",
    "\n",
    "- sort items in a list asceding order\n",
    "- to sorder in descending order use reverse = **True**"
   ]
  },
  {
   "cell_type": "code",
   "execution_count": 53,
   "id": "e47206d4-7cf1-4ebc-9568-76f2095271d1",
   "metadata": {},
   "outputs": [
    {
     "data": {
      "text/plain": [
       "['aditya', 'ajinkya', 'prasad', 'sudarshan']"
      ]
     },
     "execution_count": 53,
     "metadata": {},
     "output_type": "execute_result"
    }
   ],
   "source": [
    "stu=[\"sudarshan\",\"aditya\",\"prasad\",\"ajinkya\"]\n",
    "stu.sort()\n",
    "stu"
   ]
  },
  {
   "cell_type": "code",
   "execution_count": 55,
   "id": "c127c882-6c5f-4308-9f4b-0b51b67ef959",
   "metadata": {},
   "outputs": [
    {
     "data": {
      "text/plain": [
       "['sudarshan', 'prasad', 'ajinkya', 'aditya']"
      ]
     },
     "execution_count": 55,
     "metadata": {},
     "output_type": "execute_result"
    }
   ],
   "source": [
    "stu.sort(reverse=True)\n",
    "stu"
   ]
  },
  {
   "cell_type": "markdown",
   "id": "ce4c6125-f2dd-4b9e-80b3-d6bf2e0bda83",
   "metadata": {},
   "source": [
    "$$reverse()$$\n",
    "- reverse the order of items in a list"
   ]
  },
  {
   "cell_type": "code",
   "execution_count": 57,
   "id": "80ed5d76-f1b1-4abe-aabb-ec8c96f48c2c",
   "metadata": {},
   "outputs": [
    {
     "data": {
      "text/plain": [
       "['sun', 'sat', 'fri', 'thu', 'wed', 'tue', 'mon']"
      ]
     },
     "execution_count": 57,
     "metadata": {},
     "output_type": "execute_result"
    }
   ],
   "source": [
    "day=[\"mon\",\"tue\",\"wed\",\"thu\",\"fri\",\"sat\",\"sun\"]\n",
    "day.reverse()\n",
    "day"
   ]
  },
  {
   "cell_type": "markdown",
   "id": "e7ce1af0-c8d4-4146-8986-40c8ec07855c",
   "metadata": {},
   "source": [
    "- withought using inbuild function we use **[ : : -1]**"
   ]
  },
  {
   "cell_type": "code",
   "execution_count": 58,
   "id": "96ba0c32-d075-45ef-bbcd-dec0ca726aad",
   "metadata": {},
   "outputs": [
    {
     "data": {
      "text/plain": [
       "['sun', 'sat', 'fri', 'thu', 'wed', 'tue', 'mon']"
      ]
     },
     "execution_count": 58,
     "metadata": {},
     "output_type": "execute_result"
    }
   ],
   "source": [
    "day[::-1]\n",
    "day"
   ]
  },
  {
   "cell_type": "markdown",
   "id": "9464f170-8864-4a87-9854-5ca87909f20f",
   "metadata": {},
   "source": [
    "$$clear()$$\n",
    "- Remove all items and empty the list"
   ]
  },
  {
   "cell_type": "code",
   "execution_count": 62,
   "id": "9d753e84-2a6c-4a0f-bdac-dcfb1a27d709",
   "metadata": {},
   "outputs": [
    {
     "data": {
      "text/plain": [
       "[]"
      ]
     },
     "execution_count": 62,
     "metadata": {},
     "output_type": "execute_result"
    }
   ],
   "source": [
    "day.clear()\n",
    "day # we are getting empty list here"
   ]
  },
  {
   "cell_type": "markdown",
   "id": "c5d1b334-d864-4fce-84c2-2515a72cd8f2",
   "metadata": {},
   "source": [
    "$$Deleting - a - List $$\n",
    "- Use del"
   ]
  },
  {
   "cell_type": "code",
   "execution_count": 64,
   "id": "7c65c2c1-38df-45d5-978b-f737c581a806",
   "metadata": {},
   "outputs": [
    {
     "data": {
      "text/plain": [
       "['mumbai', 'bang', 'delhi']"
      ]
     },
     "execution_count": 64,
     "metadata": {},
     "output_type": "execute_result"
    }
   ],
   "source": [
    "city"
   ]
  },
  {
   "cell_type": "code",
   "execution_count": 65,
   "id": "75379a2a-b026-4e92-9a5e-990bd46d36da",
   "metadata": {},
   "outputs": [],
   "source": [
    "del city"
   ]
  },
  {
   "cell_type": "code",
   "execution_count": 66,
   "id": "10c3b4c2-dffc-4c05-88c0-947fbe3417d7",
   "metadata": {},
   "outputs": [
    {
     "ename": "NameError",
     "evalue": "name 'city' is not defined",
     "output_type": "error",
     "traceback": [
      "\u001b[1;31m---------------------------------------------------------------------------\u001b[0m",
      "\u001b[1;31mNameError\u001b[0m                                 Traceback (most recent call last)",
      "Cell \u001b[1;32mIn [66], line 1\u001b[0m\n\u001b[1;32m----> 1\u001b[0m \u001b[43mcity\u001b[49m\n",
      "\u001b[1;31mNameError\u001b[0m: name 'city' is not defined"
     ]
    }
   ],
   "source": [
    "city"
   ]
  },
  {
   "cell_type": "markdown",
   "id": "d7976a1e-5dcd-43b4-9ed8-0b6b38f78c86",
   "metadata": {},
   "source": [
    "$$operators -  on -  list$$"
   ]
  },
  {
   "cell_type": "markdown",
   "id": "3dda1b83-e572-429f-8f6f-fbd8c37d213b",
   "metadata": {},
   "source": [
    "- 1) Membership\n",
    "- 2) Arithmetic"
   ]
  },
  {
   "cell_type": "markdown",
   "id": "bf5a94d6-f189-4a84-be10-7602969cca1f",
   "metadata": {},
   "source": [
    "$$Membership$$\n",
    "- in\n",
    "- not in"
   ]
  },
  {
   "cell_type": "code",
   "execution_count": 67,
   "id": "0dc51ca9-9d10-466c-baa8-98185e419d6b",
   "metadata": {},
   "outputs": [
    {
     "data": {
      "text/plain": [
       "True"
      ]
     },
     "execution_count": 67,
     "metadata": {},
     "output_type": "execute_result"
    }
   ],
   "source": [
    "lang=[\"python\",\"java\",\"c\",\"c++\"]\n",
    "\"python\" in lang"
   ]
  },
  {
   "cell_type": "code",
   "execution_count": 68,
   "id": "802f0102-8191-4d6f-bde5-10cc699f0d41",
   "metadata": {},
   "outputs": [
    {
     "data": {
      "text/plain": [
       "False"
      ]
     },
     "execution_count": 68,
     "metadata": {},
     "output_type": "execute_result"
    }
   ],
   "source": [
    "\"javascript\" in lang"
   ]
  },
  {
   "cell_type": "markdown",
   "id": "da911b9c-560b-49df-94c7-11869095689b",
   "metadata": {},
   "source": [
    "$$Arithmetic$$\n",
    "- • +\n",
    "- • *"
   ]
  },
  {
   "cell_type": "code",
   "execution_count": 70,
   "id": "a6694166-09e4-4f17-b833-8760569621e6",
   "metadata": {},
   "outputs": [],
   "source": [
    "p=[1,2,3]\n",
    "q=[4,5,6]"
   ]
  },
  {
   "cell_type": "code",
   "execution_count": 71,
   "id": "4d03dae1-c12e-42d1-9a96-6e1908a12dfb",
   "metadata": {},
   "outputs": [
    {
     "data": {
      "text/plain": [
       "[1, 2, 3, 4, 5, 6]"
      ]
     },
     "execution_count": 71,
     "metadata": {},
     "output_type": "execute_result"
    }
   ],
   "source": [
    "p+q"
   ]
  },
  {
   "cell_type": "code",
   "execution_count": 76,
   "id": "57ca3d11-6cda-46b7-a998-245ab9976392",
   "metadata": {},
   "outputs": [
    {
     "data": {
      "text/plain": [
       "[1, 2, 3, 1, 2, 3, 1, 2, 3]"
      ]
     },
     "execution_count": 76,
     "metadata": {},
     "output_type": "execute_result"
    }
   ],
   "source": [
    "p*3"
   ]
  },
  {
   "cell_type": "markdown",
   "id": "8369b1d3-2f84-4b9c-b12c-d33a3533ac16",
   "metadata": {},
   "source": [
    "$$Nested - list$$"
   ]
  },
  {
   "cell_type": "markdown",
   "id": "f412a4d2-4610-4feb-801a-8aba24eb63c4",
   "metadata": {},
   "source": [
    "- List as a List element or we can say list inside a list\n",
    "-  Nested lists are accessed using nested indexing."
   ]
  },
  {
   "cell_type": "code",
   "execution_count": 81,
   "id": "a1b70726-26c3-4460-ac60-dadaa90b9789",
   "metadata": {},
   "outputs": [],
   "source": [
    "nest1=[\"monday\",\"today\",[1,2,3]]"
   ]
  },
  {
   "cell_type": "code",
   "execution_count": 82,
   "id": "2dbef93c-6dbb-4be0-aa25-5b425a1ba11e",
   "metadata": {},
   "outputs": [
    {
     "data": {
      "text/plain": [
       "'monday'"
      ]
     },
     "execution_count": 82,
     "metadata": {},
     "output_type": "execute_result"
    }
   ],
   "source": [
    "nest1[0]"
   ]
  },
  {
   "cell_type": "code",
   "execution_count": 84,
   "id": "49457974-25f1-4212-be2b-51d880473495",
   "metadata": {},
   "outputs": [
    {
     "data": {
      "text/plain": [
       "[1, 2, 3]"
      ]
     },
     "execution_count": 84,
     "metadata": {},
     "output_type": "execute_result"
    }
   ],
   "source": [
    "nest1[2]"
   ]
  },
  {
   "cell_type": "code",
   "execution_count": 85,
   "id": "f2a9fa46-ca25-4595-848d-570dc9e3a50a",
   "metadata": {},
   "outputs": [
    {
     "data": {
      "text/plain": [
       "1"
      ]
     },
     "execution_count": 85,
     "metadata": {},
     "output_type": "execute_result"
    }
   ],
   "source": [
    "nest1[2][0]"
   ]
  },
  {
   "cell_type": "code",
   "execution_count": 86,
   "id": "8ac044fc-1118-43f0-ae79-4204bedc1010",
   "metadata": {},
   "outputs": [
    {
     "data": {
      "text/plain": [
       "2"
      ]
     },
     "execution_count": 86,
     "metadata": {},
     "output_type": "execute_result"
    }
   ],
   "source": [
    "nest1[2][1]"
   ]
  },
  {
   "cell_type": "code",
   "execution_count": 87,
   "id": "ad75ace1-8e11-418d-8fdf-46264871830c",
   "metadata": {},
   "outputs": [
    {
     "data": {
      "text/plain": [
       "3"
      ]
     },
     "execution_count": 87,
     "metadata": {},
     "output_type": "execute_result"
    }
   ],
   "source": [
    "nest1[2][2]"
   ]
  },
  {
   "cell_type": "code",
   "execution_count": 88,
   "id": "7cee325c-c332-4d66-9713-a5badc33980d",
   "metadata": {},
   "outputs": [
    {
     "ename": "IndexError",
     "evalue": "list index out of range",
     "output_type": "error",
     "traceback": [
      "\u001b[1;31m---------------------------------------------------------------------------\u001b[0m",
      "\u001b[1;31mIndexError\u001b[0m                                Traceback (most recent call last)",
      "Cell \u001b[1;32mIn [88], line 1\u001b[0m\n\u001b[1;32m----> 1\u001b[0m \u001b[43mnest1\u001b[49m\u001b[43m[\u001b[49m\u001b[38;5;241;43m2\u001b[39;49m\u001b[43m]\u001b[49m\u001b[43m[\u001b[49m\u001b[38;5;241;43m3\u001b[39;49m\u001b[43m]\u001b[49m\n",
      "\u001b[1;31mIndexError\u001b[0m: list index out of range"
     ]
    }
   ],
   "source": [
    "nest1[2][3]"
   ]
  },
  {
   "cell_type": "markdown",
   "id": "0f8da65b-f120-4115-b57b-157506bf2ed7",
   "metadata": {},
   "source": [
    "**A matrix can be represented using a nested list**"
   ]
  },
  {
   "cell_type": "code",
   "execution_count": 90,
   "id": "d941dbdf-42e5-4dc3-b47b-463a7096a2ce",
   "metadata": {},
   "outputs": [],
   "source": [
    "mx=[[1,2,3],[4,5,6],[7,8,9]]"
   ]
  },
  {
   "cell_type": "code",
   "execution_count": 91,
   "id": "f82411e6-37a7-4266-89b6-36c3e347b61f",
   "metadata": {},
   "outputs": [
    {
     "data": {
      "text/plain": [
       "[[1, 2, 3], [4, 5, 6], [7, 8, 9]]"
      ]
     },
     "execution_count": 91,
     "metadata": {},
     "output_type": "execute_result"
    }
   ],
   "source": [
    "mx\n"
   ]
  },
  {
   "cell_type": "code",
   "execution_count": 93,
   "id": "3f4a8f60-0e58-4bdc-827b-7bd24ba92f96",
   "metadata": {},
   "outputs": [
    {
     "data": {
      "text/plain": [
       "3"
      ]
     },
     "execution_count": 93,
     "metadata": {},
     "output_type": "execute_result"
    }
   ],
   "source": [
    "mx[0][2] # 0 th positon and from that we want element 3 i.e index[2]"
   ]
  },
  {
   "cell_type": "markdown",
   "id": "7f8d8404-4864-4f86-8b20-485fd9e44c90",
   "metadata": {},
   "source": [
    "$$split - and - join - methods - of - String$$"
   ]
  },
  {
   "cell_type": "markdown",
   "id": "2a299eba-cb31-442f-b9a7-22c3e3a2b95a",
   "metadata": {},
   "source": [
    "- split()\n",
    "- The **split()** method split a string into a **list**\n",
    "- You can specify the spector with **sep** , default separator is any whitespace.\n",
    "- maximum number of split to do can the specified with **maxsplit**"
   ]
  },
  {
   "cell_type": "code",
   "execution_count": 97,
   "id": "588f212f-3615-4e7e-ae2b-abab71f6292a",
   "metadata": {},
   "outputs": [],
   "source": [
    "sentence=\" When the winter come, the lone wolf dies but the pack survives\"\n"
   ]
  },
  {
   "cell_type": "code",
   "execution_count": 98,
   "id": "eb7c752c-e39c-4161-95c1-776e14d61f6c",
   "metadata": {},
   "outputs": [],
   "source": [
    "words=sentence.split()"
   ]
  },
  {
   "cell_type": "code",
   "execution_count": 99,
   "id": "06fe71e6-0690-47af-8364-2c9233fd481a",
   "metadata": {},
   "outputs": [
    {
     "data": {
      "text/plain": [
       "['When',\n",
       " 'the',\n",
       " 'winter',\n",
       " 'come,',\n",
       " 'the',\n",
       " 'lone',\n",
       " 'volf',\n",
       " 'dies',\n",
       " 'but',\n",
       " 'the',\n",
       " 'pack',\n",
       " 'survives']"
      ]
     },
     "execution_count": 99,
     "metadata": {},
     "output_type": "execute_result"
    }
   ],
   "source": [
    "words"
   ]
  },
  {
   "cell_type": "code",
   "execution_count": 100,
   "id": "1ac86a85-3576-4b88-b411-6fe559c6a92b",
   "metadata": {},
   "outputs": [
    {
     "data": {
      "text/plain": [
       "' When the winter come, the lone volf dies but the pack survives'"
      ]
     },
     "execution_count": 100,
     "metadata": {},
     "output_type": "execute_result"
    }
   ],
   "source": [
    "sentence"
   ]
  },
  {
   "cell_type": "code",
   "execution_count": 101,
   "id": "a7168453-7038-4609-a7a2-82e1e0d02ca0",
   "metadata": {},
   "outputs": [
    {
     "data": {
      "text/plain": [
       "[' When the winter come', ' the lone volf dies but the pack survives']"
      ]
     },
     "execution_count": 101,
     "metadata": {},
     "output_type": "execute_result"
    }
   ],
   "source": [
    "sentence.split(\",\")"
   ]
  },
  {
   "cell_type": "markdown",
   "id": "41a7bb57-bee1-4391-afc0-7761c99a6464",
   "metadata": {},
   "source": [
    "$$join$$"
   ]
  },
  {
   "cell_type": "markdown",
   "id": "05094640-407a-43a0-b456-1588e69fa17b",
   "metadata": {},
   "source": [
    "- The join method takes all items in an iterable and joins them into one stirng\n",
    "- A string must be specified as the separator\n",
    "- **SYNTAX-: string.join(iterable)**"
   ]
  },
  {
   "cell_type": "code",
   "execution_count": 104,
   "id": "05d39f25-9907-450c-826f-8ef554c32249",
   "metadata": {},
   "outputs": [],
   "source": [
    "sentence_list = ['When','the','winter',\n",
    "'comes,',\n",
    "'the',\n",
    "'lone',\n",
    "'wolf',\n",
    "'dies',\n",
    "'but',\n",
    "'the',\n",
    "'pack',\n",
    "'survives.']"
   ]
  },
  {
   "cell_type": "code",
   "execution_count": 105,
   "id": "d18e0816-22d8-4fe9-a544-1de759c0372c",
   "metadata": {},
   "outputs": [
    {
     "data": {
      "text/plain": [
       "'When the winter comes, the lone wolf dies but the pack survives.'"
      ]
     },
     "execution_count": 105,
     "metadata": {},
     "output_type": "execute_result"
    }
   ],
   "source": [
    "\" \".join(sentence_list)"
   ]
  },
  {
   "cell_type": "code",
   "execution_count": 106,
   "id": "12b8ce67-420b-4e81-b747-ed5e11d643f4",
   "metadata": {},
   "outputs": [],
   "source": [
    "separator=\" \""
   ]
  },
  {
   "cell_type": "code",
   "execution_count": 107,
   "id": "19ad3f04-7c5f-4465-ad47-2584518357dd",
   "metadata": {},
   "outputs": [
    {
     "data": {
      "text/plain": [
       "'When the winter comes, the lone wolf dies but the pack survives.'"
      ]
     },
     "execution_count": 107,
     "metadata": {},
     "output_type": "execute_result"
    }
   ],
   "source": [
    "separator.join(sentence_list)"
   ]
  },
  {
   "cell_type": "markdown",
   "id": "ab01f35a-a4f6-47bd-915d-8a403d7ce51a",
   "metadata": {},
   "source": [
    "$$For - Loop - on - List$$"
   ]
  },
  {
   "cell_type": "code",
   "execution_count": 109,
   "id": "6f262ca8-cd8f-4dda-84a8-4d175175fdbf",
   "metadata": {},
   "outputs": [
    {
     "data": {
      "text/plain": [
       "['When',\n",
       " 'the',\n",
       " 'winter',\n",
       " 'comes,',\n",
       " 'the',\n",
       " 'lone',\n",
       " 'wolf',\n",
       " 'dies',\n",
       " 'but',\n",
       " 'the',\n",
       " 'pack',\n",
       " 'survives.']"
      ]
     },
     "execution_count": 109,
     "metadata": {},
     "output_type": "execute_result"
    }
   ],
   "source": [
    "sentence_list"
   ]
  },
  {
   "cell_type": "code",
   "execution_count": 110,
   "id": "5d41db09-bd1a-4a31-8ba0-96adc3b253bf",
   "metadata": {},
   "outputs": [
    {
     "name": "stdout",
     "output_type": "stream",
     "text": [
      "When\n",
      ".-.-.-.-\n",
      "the\n",
      ".-.-.-.-\n",
      "winter\n",
      ".-.-.-.-\n",
      "comes,\n",
      ".-.-.-.-\n",
      "the\n",
      ".-.-.-.-\n",
      "lone\n",
      ".-.-.-.-\n",
      "wolf\n",
      ".-.-.-.-\n",
      "dies\n",
      ".-.-.-.-\n",
      "but\n",
      ".-.-.-.-\n",
      "the\n",
      ".-.-.-.-\n",
      "pack\n",
      ".-.-.-.-\n",
      "survives.\n",
      ".-.-.-.-\n"
     ]
    }
   ],
   "source": [
    "for i in sentence_list:\n",
    "    print(i)\n",
    "    print('.-'*4)"
   ]
  },
  {
   "cell_type": "markdown",
   "id": "866a921f-11ea-4e15-8aee-55036d3b0c1e",
   "metadata": {},
   "source": [
    "$$For - Loop - on - List$$"
   ]
  },
  {
   "cell_type": "code",
   "execution_count": 111,
   "id": "c70dec7e-c852-4e78-bd50-c45778fbc7db",
   "metadata": {},
   "outputs": [],
   "source": [
    "matrix=[[1,2,3],[4,5,6],[7,8,9]]\n"
   ]
  },
  {
   "cell_type": "code",
   "execution_count": 115,
   "id": "772241ba-2741-419d-a272-7fdc7df88475",
   "metadata": {},
   "outputs": [
    {
     "name": "stdout",
     "output_type": "stream",
     "text": [
      "[1, 2, 3]\n",
      "\t 3\n",
      "\\/\\/\\/\\/\\/\\/\\/\\/\\/\\/\n",
      "\t 4\n",
      "\\/\\/\\/\\/\\/\\/\\/\\/\\/\\/\n",
      "\t 5\n",
      "\\/\\/\\/\\/\\/\\/\\/\\/\\/\\/\n",
      "[4, 5, 6]\n",
      "\t 6\n",
      "\\/\\/\\/\\/\\/\\/\\/\\/\\/\\/\n",
      "\t 7\n",
      "\\/\\/\\/\\/\\/\\/\\/\\/\\/\\/\n",
      "\t 8\n",
      "\\/\\/\\/\\/\\/\\/\\/\\/\\/\\/\n",
      "[7, 8, 9]\n",
      "\t 9\n",
      "\\/\\/\\/\\/\\/\\/\\/\\/\\/\\/\n",
      "\t 10\n",
      "\\/\\/\\/\\/\\/\\/\\/\\/\\/\\/\n",
      "\t 11\n",
      "\\/\\/\\/\\/\\/\\/\\/\\/\\/\\/\n"
     ]
    }
   ],
   "source": [
    "for i in matrix:\n",
    "    print(i)\n",
    "    for j in i:\n",
    "        print('\\t',j+2)\n",
    "        print('\\/'*10)"
   ]
  },
  {
   "cell_type": "code",
   "execution_count": null,
   "id": "962c80e1-f1fb-42c1-93bc-3e4ecd780ced",
   "metadata": {},
   "outputs": [],
   "source": []
  }
 ],
 "metadata": {
  "kernelspec": {
   "display_name": "Python 3 (ipykernel)",
   "language": "python",
   "name": "python3"
  },
  "language_info": {
   "codemirror_mode": {
    "name": "ipython",
    "version": 3
   },
   "file_extension": ".py",
   "mimetype": "text/x-python",
   "name": "python",
   "nbconvert_exporter": "python",
   "pygments_lexer": "ipython3",
   "version": "3.9.12"
  }
 },
 "nbformat": 4,
 "nbformat_minor": 5
}
