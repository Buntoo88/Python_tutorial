{
 "cells": [
  {
   "cell_type": "markdown",
   "id": "7071c113-437d-438b-9e2f-9119d6c25a0a",
   "metadata": {},
   "source": [
    "$$input$$\n",
    "- for taking input from user we have to use **input function**\n",
    "- while we are taking input from user by default it is in the **string format**\n",
    "- when we want to take input from user at the runtime we use this input function"
   ]
  },
  {
   "cell_type": "code",
   "execution_count": 15,
   "id": "99ca646d-4a19-405d-b313-e0d3b83a0ffa",
   "metadata": {},
   "outputs": [
    {
     "name": "stdin",
     "output_type": "stream",
     "text": [
      "Enter you number 10\n",
      "Enter you number 20\n"
     ]
    },
    {
     "name": "stdout",
     "output_type": "stream",
     "text": [
      "value of a is  : 10\n",
      "value of b is : 20\n",
      "will get this result because by default input is in the string format :==> 1020\n"
     ]
    }
   ],
   "source": [
    "a=input(\"Enter you number\")\n",
    "b=input(\"Enter you number\")\n",
    "print(\"value of a is  :\",a)\n",
    "print(\"value of b is :\",b)\n",
    "print(\"will get this result because by default input is in the string format :==>\",a+b)"
   ]
  },
  {
   "cell_type": "markdown",
   "id": "8357fc06-fae5-488a-8a3b-fa015516e3a7",
   "metadata": {},
   "source": [
    "$$__type casting__$$ "
   ]
  },
  {
   "cell_type": "markdown",
   "id": "242322fd-f58d-4d26-a913-4859a9222a22",
   "metadata": {},
   "source": [
    "- now type casting means if we want write integer as input we need to mentioned the data type infront of that input.\n",
    "- for e.g ==> a= int(input(\"enter you number\"))\n",
    "- here we are converting our default data type into a integer because by default input is in the string format \n",
    "\n",
    "- **so here the type casting terms come in the picture**\n",
    "- we can type cast each data type "
   ]
  },
  {
   "cell_type": "markdown",
   "id": "17870fda-a7b5-4731-b074-fc4557994c6f",
   "metadata": {},
   "source": [
    "$$__Type casting with int__$$"
   ]
  },
  {
   "cell_type": "code",
   "execution_count": 8,
   "id": "07f3c139-bebf-460c-91a6-405bf2d57808",
   "metadata": {},
   "outputs": [
    {
     "name": "stdin",
     "output_type": "stream",
     "text": [
      "Enter your number-1 10\n",
      "Enter you number-2 20\n"
     ]
    },
    {
     "name": "stdout",
     "output_type": "stream",
     "text": [
      "value of a is :==> 10\n",
      "value of b is :==> 20\n",
      "addition of the given a+b is  30\n"
     ]
    }
   ],
   "source": [
    "a= int(input(\"Enter your number-1\"))\n",
    "b=int(input(\"Enter you number-2\"))\n",
    "print(\"value of a is :==>\",a)\n",
    "print(\"value of b is :==>\",b)\n",
    "print(\"addition of the given a+b is \",a+b)"
   ]
  },
  {
   "cell_type": "markdown",
   "id": "2fc66a59-ec08-40ac-8937-b91d182acfbc",
   "metadata": {},
   "source": [
    "$$__Type cast with float__ $$\n",
    "- here we are converting string data type into the float using **float** data type"
   ]
  },
  {
   "cell_type": "code",
   "execution_count": 10,
   "id": "dad60980-f64f-4c7e-853c-4b7cfff7598e",
   "metadata": {},
   "outputs": [
    {
     "name": "stdin",
     "output_type": "stream",
     "text": [
      "Enter your number-1 1.11\n",
      "Enter you number-2 2.22\n"
     ]
    },
    {
     "name": "stdout",
     "output_type": "stream",
     "text": [
      "value of a is :==> 1.11\n",
      "value of b is :==> 2.22\n",
      "addition of the given a+b is  3.33\n"
     ]
    }
   ],
   "source": [
    "a= float(input(\"Enter your number-1\"))\n",
    "b=float(input(\"Enter you number-2\"))\n",
    "print(\"value of a is :==>\",a)\n",
    "print(\"value of b is :==>\",b)\n",
    "print(\"addition of the given a+b is \",a+b)"
   ]
  },
  {
   "cell_type": "markdown",
   "id": "d048badd-b8fd-4651-b195-31459e6228c6",
   "metadata": {},
   "source": [
    "$$__Type cast with evale__$$\n",
    "- eval()--> it can handle bothe data type like integer +float\n",
    "- while we have integer as well as float then we can use eval \n",
    "- **While we are using eval if we provide binary number in input it will convert that binary number into the  integer and set it and gives output**"
   ]
  },
  {
   "cell_type": "code",
   "execution_count": 14,
   "id": "a622a6ae-3392-4c60-b30e-45d8f12e4c69",
   "metadata": {
    "tags": []
   },
   "outputs": [
    {
     "name": "stdin",
     "output_type": "stream",
     "text": [
      "Enter your number-1 10\n",
      "Enter you number-2 20.22\n"
     ]
    },
    {
     "name": "stdout",
     "output_type": "stream",
     "text": [
      "value of a is :==> 10\n",
      "value of b is :==> 20.22\n",
      "addition of the given a+b is  30.22\n"
     ]
    }
   ],
   "source": [
    "a= eval(input(\"Enter your number-1\"))\n",
    "b=eval(input(\"Enter you number-2\"))\n",
    "print(\"value of a is :==>\",a)\n",
    "print(\"value of b is :==>\",b)\n",
    "print(\"addition of the given a+b is \",a+b)"
   ]
  },
  {
   "cell_type": "code",
   "execution_count": null,
   "id": "ad13e902-0cef-42d4-9129-ac0b3fe219c7",
   "metadata": {},
   "outputs": [],
   "source": []
  }
 ],
 "metadata": {
  "kernelspec": {
   "display_name": "Python 3 (ipykernel)",
   "language": "python",
   "name": "python3"
  },
  "language_info": {
   "codemirror_mode": {
    "name": "ipython",
    "version": 3
   },
   "file_extension": ".py",
   "mimetype": "text/x-python",
   "name": "python",
   "nbconvert_exporter": "python",
   "pygments_lexer": "ipython3",
   "version": "3.9.12"
  }
 },
 "nbformat": 4,
 "nbformat_minor": 5
}
