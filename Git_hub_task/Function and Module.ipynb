{
 "cells": [
  {
   "cell_type": "markdown",
   "id": "8abe76dc-84cf-4168-89fb-4f19771b2d83",
   "metadata": {},
   "source": [
    "$$Function$$"
   ]
  },
  {
   "cell_type": "markdown",
   "id": "36cab3bf-8d9c-4a87-b140-aa8fb83a5233",
   "metadata": {},
   "source": [
    "- there will be a two types of functions 1)user defined function 2) inbuild function (len ,count[list function -->insert append]) \n",
    "- user define function -->user define funciton in python that allows users to write custom logic that the user defines\n",
    "- i)simple function\n",
    "- ii)function with arguments\n",
    "- iii)return type function\n",
    "- in python a function is define using the **def** keyword\n",
    "- function helps break our program into smaller and modular chunks"
   ]
  },
  {
   "cell_type": "markdown",
   "id": "baae3d54-3da0-4ecf-b2bb-e12af9f2c5a0",
   "metadata": {},
   "source": [
    "\n",
    "$$__A function is a block of code which only runs when it called and carries out some specific,well defined task__$$"
   ]
  },
  {
   "cell_type": "code",
   "execution_count": 4,
   "id": "4865dc7d-ebec-4cbc-96d8-d2c862e78da7",
   "metadata": {},
   "outputs": [],
   "source": [
    "#Simple function\n",
    "#while giving name to function special_char and space are not allowed in-between \n",
    "def simplefunction():\n",
    "    print(\"welcome to grexter\")"
   ]
  },
  {
   "cell_type": "code",
   "execution_count": 5,
   "id": "005ed4ff-88ed-466d-a85c-0df97e973279",
   "metadata": {},
   "outputs": [
    {
     "name": "stdout",
     "output_type": "stream",
     "text": [
      "welcome to grexter\n"
     ]
    }
   ],
   "source": [
    "simplefunction()"
   ]
  },
  {
   "cell_type": "markdown",
   "id": "7bfaac4d-2cbd-4e22-ba2a-62e9f7044a17",
   "metadata": {},
   "source": [
    "$$__Function With argument__$$"
   ]
  },
  {
   "cell_type": "code",
   "execution_count": 8,
   "id": "f21f5bb6-69f0-4357-baec-8e7dd60753ef",
   "metadata": {},
   "outputs": [
    {
     "name": "stdout",
     "output_type": "stream",
     "text": [
      "40\n"
     ]
    }
   ],
   "source": [
    "def sumdata(a,b):\n",
    "    print(a+b)\n",
    "n1=10\n",
    "n2=30\n",
    "sumdata(n1,n2)\n",
    "    \n",
    "\n",
    "    "
   ]
  },
  {
   "cell_type": "markdown",
   "id": "06243543-327d-471c-95e6-bb1f7fe82845",
   "metadata": {},
   "source": [
    "$$__Calling function__$$"
   ]
  },
  {
   "cell_type": "code",
   "execution_count": 13,
   "id": "404e290a-a390-422f-a0bb-a9e2f15afec8",
   "metadata": {},
   "outputs": [
    {
     "name": "stdout",
     "output_type": "stream",
     "text": [
      "110\n"
     ]
    }
   ],
   "source": [
    "s1=50\n",
    "s2=60\n",
    "sumdata(s1,s2)"
   ]
  },
  {
   "cell_type": "markdown",
   "id": "42163fa0-82ec-4044-bb53-8691c065981e",
   "metadata": {},
   "source": [
    "$$__Set default value__$$"
   ]
  },
  {
   "cell_type": "code",
   "execution_count": 16,
   "id": "f22d234a-9fd0-414f-837d-a83f6f5f1bd2",
   "metadata": {},
   "outputs": [
    {
     "name": "stdout",
     "output_type": "stream",
     "text": [
      "100\n"
     ]
    }
   ],
   "source": [
    "def sumdata(a,b=50):\n",
    "    print(a+b)\n",
    "sumdata(50)"
   ]
  },
  {
   "cell_type": "code",
   "execution_count": 17,
   "id": "4f32012d-4741-4423-8b80-54cd98dfb908",
   "metadata": {},
   "outputs": [
    {
     "name": "stdout",
     "output_type": "stream",
     "text": [
      "80\n"
     ]
    }
   ],
   "source": [
    "#return statement means it will store the value but not print that value until we write print(statement)\n",
    "\n",
    "def sumdata(a,b=90):\n",
    "    c=a+b\n",
    "    return c # menas we are storing the value of using return statement but not finally print\n",
    "# for printing statement we have to use print keyword\n",
    "\n",
    "\n",
    "output=sumdata(20,60)\n",
    "print(output)"
   ]
  },
  {
   "cell_type": "markdown",
   "id": "0f1268ee-fd47-4155-b08d-8a7c4c64f2bc",
   "metadata": {},
   "source": [
    "$$__Return->statement we alwyas use when we want to  print value according to ourself or we have to use condition__$$"
   ]
  },
  {
   "cell_type": "markdown",
   "id": "601d8c9d-a229-4193-90ec-e7bf1df1f067",
   "metadata": {},
   "source": [
    "$$User - Defined - Function$$"
   ]
  },
  {
   "cell_type": "markdown",
   "id": "77e47aa0-0afd-48ad-b04a-93516f399e9d",
   "metadata": {},
   "source": [
    "- 1) A funcntion is a block of statements which can be used repetitively in a  program .\n",
    "- 2)ut save the time of a developer .in python concept of function is same as other languages\n",
    "\n"
   ]
  },
  {
   "cell_type": "markdown",
   "id": "29e75ee3-cf96-4a34-87d2-509f79d10b5c",
   "metadata": {},
   "source": [
    "$$Creating - A - Function$$"
   ]
  },
  {
   "cell_type": "markdown",
   "id": "d509a617-ca2a-45b3-ae90-a1f2f6adad05",
   "metadata": {},
   "source": [
    "- in python a function is defined using the def keyword"
   ]
  },
  {
   "cell_type": "code",
   "execution_count": 18,
   "id": "834e255f-b4d0-4451-800a-011788d265cb",
   "metadata": {},
   "outputs": [],
   "source": [
    "def showdata():\n",
    "    print(\"welcome to wscubtect\")\n"
   ]
  },
  {
   "cell_type": "markdown",
   "id": "8e038c5e-dc49-4e17-ae27-21c403b546ff",
   "metadata": {},
   "source": [
    "$$Calling - Function$$"
   ]
  },
  {
   "cell_type": "code",
   "execution_count": 19,
   "id": "e55c6132-9074-4ef0-8b65-51aa6c5508e6",
   "metadata": {},
   "outputs": [
    {
     "name": "stdout",
     "output_type": "stream",
     "text": [
      "welcome to wscubtect\n"
     ]
    }
   ],
   "source": [
    "showdata()"
   ]
  },
  {
   "cell_type": "code",
   "execution_count": 20,
   "id": "f4717c7c-ee18-4e1a-860d-1e07634ac0d2",
   "metadata": {},
   "outputs": [
    {
     "name": "stdout",
     "output_type": "stream",
     "text": [
      "welcome to wscubtect\n"
     ]
    }
   ],
   "source": [
    "showdata()"
   ]
  },
  {
   "cell_type": "markdown",
   "id": "c40fe48d-f8a2-46da-a7b5-7b4dc0d593d3",
   "metadata": {},
   "source": [
    "- here we can see we can call the function as  many time as we want int ht program(Repetations of code)\n",
    "- it is  time consuming"
   ]
  },
  {
   "cell_type": "code",
   "execution_count": 21,
   "id": "e59217e7-7342-42fd-8884-dc1e1c329d29",
   "metadata": {},
   "outputs": [
    {
     "name": "stdout",
     "output_type": "stream",
     "text": [
      "welcome to wscubtect\n"
     ]
    }
   ],
   "source": [
    "showdata()"
   ]
  },
  {
   "cell_type": "markdown",
   "id": "9025fe4d-8f29-41ff-acd5-1b0e177a6ea3",
   "metadata": {},
   "source": [
    "$$__Return values__$$"
   ]
  },
  {
   "cell_type": "markdown",
   "id": "553f37e8-65f8-4fe8-978d-871c2c2b63ca",
   "metadata": {},
   "source": [
    "- Return_values\n",
    "\n",
    "to let a  function return a value ,use the return statement\n"
   ]
  },
  {
   "cell_type": "code",
   "execution_count": 29,
   "id": "30a99787-7c4d-4703-ae84-e5bdf9a7193c",
   "metadata": {},
   "outputs": [],
   "source": [
    "\n",
    "def square(x):\n",
    "    return x*x,x*2 #-->(pass the multiple value using (,))\n",
    "    \n",
    "s=square(5)"
   ]
  },
  {
   "cell_type": "code",
   "execution_count": 30,
   "id": "dae42c60-307c-4cfa-9253-90f2be2d1ecb",
   "metadata": {},
   "outputs": [
    {
     "data": {
      "text/plain": [
       "(25, 10)"
      ]
     },
     "execution_count": 30,
     "metadata": {},
     "output_type": "execute_result"
    }
   ],
   "source": [
    "s #if anything we return we need print that statement because return only store the output not print"
   ]
  },
  {
   "cell_type": "code",
   "execution_count": 31,
   "id": "e26f31c4-48d9-4849-856e-7207a68b003a",
   "metadata": {},
   "outputs": [
    {
     "name": "stdout",
     "output_type": "stream",
     "text": [
      "36\n"
     ]
    }
   ],
   "source": [
    "def square(f):\n",
    "    print(f*f)\n",
    "square(6)"
   ]
  },
  {
   "cell_type": "markdown",
   "id": "e68a37a3-4b20-4814-9dc8-e901caeebc20",
   "metadata": {},
   "source": [
    "****"
   ]
  },
  {
   "cell_type": "markdown",
   "id": "8b9b70ca-7bb1-4a44-8347-2f51612bf9d1",
   "metadata": {},
   "source": [
    "$$__Module__$$\n",
    "- module is a file containing code written by somebody else (usually) which can be imported and use in our program \n",
    "-$$__PIP__$$\n",
    "- **Python package manager** for python you can use **pip install __(package_Name)__**"
   ]
  },
  {
   "cell_type": "markdown",
   "id": "4496251c-515a-4495-a4e7-02e6cf5134ca",
   "metadata": {},
   "source": [
    "- there are two types of module in python \n",
    "- 1)**Built in module** -->preinstall in python while we are installing python(random,math,datetime)\n",
    "- 2)**external module**-->need to install using pip install....(numpy,pandas,tensorflow,matplot)\n",
    "- we use **import** keyword we use for importing module \n",
    "- 3)**user define module** -> we can define module according to out needs and call it whenever we need using import keyword\n",
    "- advantage- reusability  \n",
    "\n",
    "alias--> means we are giving name to that module as nick_name \n",
    "\n",
    "- another way to calling particular operation from that module is ==> from ...MODULE NAME ... import ...operation you want..."
   ]
  },
  {
   "cell_type": "code",
   "execution_count": 45,
   "id": "b46c8b94-0d26-4272-a516-0fd94548f82a",
   "metadata": {},
   "outputs": [],
   "source": [
    "import datetime\n",
    "import math #-->inbuilt module\n",
    "import random\n",
    "import numpy as np #-->\n",
    "import pandas as pd # as --> alias--> like nick_name --> for calling function using shortkey-word"
   ]
  },
  {
   "cell_type": "code",
   "execution_count": null,
   "id": "7414b549-bc25-4f4c-8aaa-febce704e791",
   "metadata": {},
   "outputs": [],
   "source": []
  },
  {
   "cell_type": "code",
   "execution_count": null,
   "id": "f3ba1a0a-3a05-4d93-b070-5205387121fe",
   "metadata": {},
   "outputs": [],
   "source": [
    "\n"
   ]
  },
  {
   "cell_type": "code",
   "execution_count": null,
   "id": "c2c38e66-1e8d-4f3c-9edb-28239dd6a25c",
   "metadata": {},
   "outputs": [],
   "source": []
  }
 ],
 "metadata": {
  "kernelspec": {
   "display_name": "Python 3 (ipykernel)",
   "language": "python",
   "name": "python3"
  },
  "language_info": {
   "codemirror_mode": {
    "name": "ipython",
    "version": 3
   },
   "file_extension": ".py",
   "mimetype": "text/x-python",
   "name": "python",
   "nbconvert_exporter": "python",
   "pygments_lexer": "ipython3",
   "version": "3.9.12"
  }
 },
 "nbformat": 4,
 "nbformat_minor": 5
}
