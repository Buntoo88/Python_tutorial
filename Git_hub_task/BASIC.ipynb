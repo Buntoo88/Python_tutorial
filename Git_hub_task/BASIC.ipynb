{
 "cells": [
  {
   "cell_type": "code",
   "execution_count": 1,
   "id": "89d8e322-cff6-4c7b-9c2a-46e0b3f1160c",
   "metadata": {
    "collapsed": true,
    "jupyter": {
     "outputs_hidden": true
    },
    "tags": []
   },
   "outputs": [
    {
     "name": "stdout",
     "output_type": "stream",
     "text": [
      "Hello World\n"
     ]
    }
   ],
   "source": [
    "print(\"Hello World\")"
   ]
  },
  {
   "cell_type": "code",
   "execution_count": 2,
   "id": "099a5fea-2c8b-4f44-88b7-2dae03e362a2",
   "metadata": {},
   "outputs": [],
   "source": [
    "a=5"
   ]
  },
  {
   "cell_type": "code",
   "execution_count": 3,
   "id": "b240dfaa-e0c4-41d3-b9f1-3e80e306aa74",
   "metadata": {
    "tags": []
   },
   "outputs": [],
   "source": [
    "b=\"HELLO\""
   ]
  },
  {
   "cell_type": "code",
   "execution_count": 4,
   "id": "2de95c16-1e5e-461a-8c25-231178337be2",
   "metadata": {
    "collapsed": true,
    "jupyter": {
     "outputs_hidden": true
    },
    "tags": []
   },
   "outputs": [
    {
     "data": {
      "text/plain": [
       "int"
      ]
     },
     "execution_count": 4,
     "metadata": {},
     "output_type": "execute_result"
    }
   ],
   "source": [
    "type(a)"
   ]
  },
  {
   "cell_type": "code",
   "execution_count": 6,
   "id": "b7a24d14-6b4b-4ef5-a7dc-3c96e964035f",
   "metadata": {
    "collapsed": true,
    "jupyter": {
     "outputs_hidden": true
    },
    "tags": []
   },
   "outputs": [
    {
     "data": {
      "text/plain": [
       "str"
      ]
     },
     "execution_count": 6,
     "metadata": {},
     "output_type": "execute_result"
    }
   ],
   "source": [
    "type(b)"
   ]
  },
  {
   "cell_type": "code",
   "execution_count": 7,
   "id": "3040d16a-174b-47fd-9de2-0c1e8d35d522",
   "metadata": {},
   "outputs": [],
   "source": [
    "OUTPUT_PATH=\"/home/user1/output_dir\"\n",
    "PI=3.14"
   ]
  },
  {
   "cell_type": "code",
   "execution_count": 8,
   "id": "5ad46b22-2de9-484c-bd2f-401ea20d8d48",
   "metadata": {
    "collapsed": true,
    "jupyter": {
     "outputs_hidden": true
    },
    "tags": []
   },
   "outputs": [
    {
     "name": "stdin",
     "output_type": "stream",
     "text": [
      "Enter name of your city: pune\n"
     ]
    }
   ],
   "source": [
    "a= input(\"Enter name of your city:\")"
   ]
  },
  {
   "cell_type": "code",
   "execution_count": 9,
   "id": "c6b282f6-fc13-4a95-abb6-ce2fa0b88a7d",
   "metadata": {
    "collapsed": true,
    "jupyter": {
     "outputs_hidden": true
    },
    "tags": []
   },
   "outputs": [
    {
     "name": "stdout",
     "output_type": "stream",
     "text": [
      "pune\n"
     ]
    }
   ],
   "source": [
    "print(a)"
   ]
  },
  {
   "cell_type": "code",
   "execution_count": 10,
   "id": "5a97f668-8366-479d-ba2b-d9126d04356d",
   "metadata": {
    "collapsed": true,
    "jupyter": {
     "outputs_hidden": true
    },
    "tags": []
   },
   "outputs": [
    {
     "data": {
      "text/plain": [
       "'pune'"
      ]
     },
     "execution_count": 10,
     "metadata": {},
     "output_type": "execute_result"
    }
   ],
   "source": [
    "a"
   ]
  },
  {
   "cell_type": "markdown",
   "id": "2af19610-641c-4de6-af08-3249abb9daf6",
   "metadata": {},
   "source": [
    "**Commments\n",
    "there are two types of comments \n",
    "1)--> single line comment --> written using # \n",
    "2)--> multiline comments --> written using \"\"\"    xyz  \"\"\"**"
   ]
  },
  {
   "cell_type": "code",
   "execution_count": 12,
   "id": "86e1ded0-bc1f-4d18-8722-50e7c79366c0",
   "metadata": {},
   "outputs": [
    {
     "name": "stdout",
     "output_type": "stream",
     "text": [
      "How you doin?\n"
     ]
    }
   ],
   "source": [
    "#This i a coomment\n",
    "print(\"How you doin?\")"
   ]
  },
  {
   "cell_type": "markdown",
   "id": "f9ed3451-424b-43c7-9a00-4b62b8fcf049",
   "metadata": {},
   "source": [
    "*inline comments*"
   ]
  },
  {
   "cell_type": "code",
   "execution_count": 13,
   "id": "485227d9-119a-4a1e-8895-bfb5aa5d9c2c",
   "metadata": {},
   "outputs": [
    {
     "name": "stdout",
     "output_type": "stream",
     "text": [
      "28\n"
     ]
    }
   ],
   "source": [
    "a=28\n",
    "print(a)#this is inline comment"
   ]
  },
  {
   "cell_type": "code",
   "execution_count": 14,
   "id": "c32ef793-4ab7-472f-ac3d-8af687830338",
   "metadata": {},
   "outputs": [],
   "source": [
    "# python has no special syntax fro multiline comments.\n",
    "#to use multiline comments just begin each line with #\n",
    "#keyboard shortcut in jupyter to comment or uncomment is Ctrl + /\n",
    "#these four line are an example of an multiline comments"
   ]
  },
  {
   "cell_type": "markdown",
   "id": "88166ac2-8979-4c65-b45f-e9d75e4ce297",
   "metadata": {},
   "source": [
    "**DATA TYPES**\n",
    "\n",
    "**basic data types--> 1.integer 2.float 3.boolean 4.none**\n",
    "\n",
    "**compound datatypes --> 1.String 2.List 3.tuple 4.dictionary**"
   ]
  },
  {
   "cell_type": "markdown",
   "id": "652fc9db-630d-484a-9fb5-0aade79a80f4",
   "metadata": {},
   "source": [
    "**Integer** "
   ]
  },
  {
   "cell_type": "code",
   "execution_count": 16,
   "id": "e9b331c8-43ef-40d0-96ce-4936237d4009",
   "metadata": {},
   "outputs": [
    {
     "name": "stdout",
     "output_type": "stream",
     "text": [
      "10\n"
     ]
    },
    {
     "data": {
      "text/plain": [
       "int"
      ]
     },
     "execution_count": 16,
     "metadata": {},
     "output_type": "execute_result"
    }
   ],
   "source": [
    "a= 10\n",
    "print(a)\n",
    "type(a)"
   ]
  },
  {
   "cell_type": "markdown",
   "id": "016685de-87d9-44e0-b3a4-ff732f461f0b",
   "metadata": {},
   "source": [
    "**Float**"
   ]
  },
  {
   "cell_type": "code",
   "execution_count": 17,
   "id": "4ccb5b65-72f5-41d7-982a-c777245893c5",
   "metadata": {
    "collapsed": true,
    "jupyter": {
     "outputs_hidden": true
    },
    "tags": []
   },
   "outputs": [
    {
     "name": "stdout",
     "output_type": "stream",
     "text": [
      "3.14\n",
      "type of b is  <class 'float'>\n"
     ]
    }
   ],
   "source": [
    "b=3.14\n",
    "print(b)\n",
    "print(\"type of b is \",type(b))"
   ]
  },
  {
   "cell_type": "markdown",
   "id": "ddb41120-59c1-4f28-b4cf-a306ee84aac4",
   "metadata": {},
   "source": [
    "**Boolean**\n",
    "\n",
    "\n",
    "**boolean t=represent t=one of two values True or false**\n",
    "\n",
    "**in programming you often need know if an expression is True or False**\n",
    "\n",
    "**WWhen two values are compared,the expression is evaluated and python returns the boolean answer**"
   ]
  },
  {
   "cell_type": "code",
   "execution_count": 18,
   "id": "772bfdf4-84ee-40f8-8f95-296b171ddeef",
   "metadata": {},
   "outputs": [],
   "source": [
    "p=True\n",
    "q=False"
   ]
  },
  {
   "cell_type": "code",
   "execution_count": 19,
   "id": "f86f95fa-d879-47cc-8eee-d96791b5ca01",
   "metadata": {},
   "outputs": [
    {
     "data": {
      "text/plain": [
       "bool"
      ]
     },
     "execution_count": 19,
     "metadata": {},
     "output_type": "execute_result"
    }
   ],
   "source": [
    "type(p)"
   ]
  },
  {
   "cell_type": "code",
   "execution_count": 20,
   "id": "132cecd5-3563-4af1-9c0b-fad345cf8561",
   "metadata": {},
   "outputs": [
    {
     "data": {
      "text/plain": [
       "bool"
      ]
     },
     "execution_count": 20,
     "metadata": {},
     "output_type": "execute_result"
    }
   ],
   "source": [
    "type(q)"
   ]
  },
  {
   "cell_type": "markdown",
   "id": "73cde48a-f532-4be4-af1b-d1d8911a9eb2",
   "metadata": {},
   "source": [
    "**Operators**"
   ]
  },
  {
   "cell_type": "markdown",
   "id": "17ee9c6c-a85a-4ae3-bbe1-9cd6e8fc0991",
   "metadata": {},
   "source": [
    "$ 1)Arithmetic operator --> + , - , * , / ,//(florr division), % modulus  ,**(Exponential) $\n",
    "\n",
    "$2)assignment operator --> =, +=,-= $\n",
    "\n",
    "\n",
    "\n",
    "$ 3)Comparison operator -->$  \n",
    "$equal == $\n",
    "\n",
    "$not equal  !=$\n",
    "\n",
    "$less  than < $\n",
    "\n",
    "$less than equal to <=$\n",
    "\n",
    "\n",
    "$greater than >$\n",
    "\n",
    "\n",
    "$greater than equal to >=$\n",
    "\n",
    "$4)logical operator --> and ,or,not $\n",
    "\n",
    "\n",
    "$5) membership operators-->  in ,not in $"
   ]
  },
  {
   "cell_type": "code",
   "execution_count": 21,
   "id": "c4bf51ff-b3b8-42c5-9977-c7e7a5b6193b",
   "metadata": {},
   "outputs": [],
   "source": [
    "s= \"happy\""
   ]
  },
  {
   "cell_type": "code",
   "execution_count": 22,
   "id": "67264e30-1eb2-44ac-91c0-62aa5ec42016",
   "metadata": {},
   "outputs": [
    {
     "data": {
      "text/plain": [
       "True"
      ]
     },
     "execution_count": 22,
     "metadata": {},
     "output_type": "execute_result"
    }
   ],
   "source": [
    "\"py\" in s"
   ]
  },
  {
   "cell_type": "code",
   "execution_count": 23,
   "id": "03b78ccf-07e0-41ba-90cc-119e2426cb71",
   "metadata": {},
   "outputs": [
    {
     "data": {
      "text/plain": [
       "False"
      ]
     },
     "execution_count": 23,
     "metadata": {},
     "output_type": "execute_result"
    }
   ],
   "source": [
    "\"py\" not in s"
   ]
  },
  {
   "cell_type": "markdown",
   "id": "e7a72dd2-5484-44a3-998a-f87922b1d317",
   "metadata": {},
   "source": [
    "**Type casting**\n",
    "\n",
    "**converting data types of the variables**"
   ]
  },
  {
   "cell_type": "code",
   "execution_count": 24,
   "id": "63407a64-8436-4747-b4e5-84479b4f4b96",
   "metadata": {},
   "outputs": [],
   "source": [
    "d=10"
   ]
  },
  {
   "cell_type": "code",
   "execution_count": 25,
   "id": "903e0ea3-419f-44f2-82f3-1f16876bfb50",
   "metadata": {},
   "outputs": [
    {
     "data": {
      "text/plain": [
       "int"
      ]
     },
     "execution_count": 25,
     "metadata": {},
     "output_type": "execute_result"
    }
   ],
   "source": [
    "type(d)"
   ]
  },
  {
   "cell_type": "markdown",
   "id": "1e47366e-a39b-4b4d-8229-77efedd6ac71",
   "metadata": {},
   "source": [
    "**INT TO FLOAT**"
   ]
  },
  {
   "cell_type": "code",
   "execution_count": 26,
   "id": "e42bae58-f66f-40af-9d23-3a51016d78f2",
   "metadata": {},
   "outputs": [],
   "source": [
    "E=float(d)"
   ]
  },
  {
   "cell_type": "code",
   "execution_count": 27,
   "id": "a041f9b9-cfca-4fd4-80ca-fd7775938a0d",
   "metadata": {},
   "outputs": [
    {
     "data": {
      "text/plain": [
       "10.0"
      ]
     },
     "execution_count": 27,
     "metadata": {},
     "output_type": "execute_result"
    }
   ],
   "source": [
    "E"
   ]
  },
  {
   "cell_type": "code",
   "execution_count": 29,
   "id": "38b49d9b-f08c-4046-8d92-b6e0354d2f80",
   "metadata": {},
   "outputs": [
    {
     "data": {
      "text/plain": [
       "float"
      ]
     },
     "execution_count": 29,
     "metadata": {},
     "output_type": "execute_result"
    }
   ],
   "source": [
    "type(E)"
   ]
  },
  {
   "cell_type": "markdown",
   "id": "819d4aa0-7108-4240-96ed-6ec7ee775521",
   "metadata": {},
   "source": [
    "**input gives string, typecast to int or float as per the requirement**\n",
    "\n",
    "**FLOAT TO INT**"
   ]
  },
  {
   "cell_type": "code",
   "execution_count": 31,
   "id": "02530eb2-7075-4bd8-aa21-f837ee95a20d",
   "metadata": {},
   "outputs": [
    {
     "name": "stdin",
     "output_type": "stream",
     "text": [
      "enter radius 3.15\n"
     ]
    }
   ],
   "source": [
    "radius=float(input(\"enter radius\"))"
   ]
  },
  {
   "cell_type": "code",
   "execution_count": 32,
   "id": "bf7d1f5e-6ce1-46fe-b635-cdab65f94f8c",
   "metadata": {},
   "outputs": [
    {
     "data": {
      "text/plain": [
       "3.15"
      ]
     },
     "execution_count": 32,
     "metadata": {},
     "output_type": "execute_result"
    }
   ],
   "source": [
    "radius"
   ]
  },
  {
   "cell_type": "code",
   "execution_count": 33,
   "id": "53da5ba6-3cff-49f3-a6f2-7e80224d7ada",
   "metadata": {},
   "outputs": [
    {
     "data": {
      "text/plain": [
       "float"
      ]
     },
     "execution_count": 33,
     "metadata": {},
     "output_type": "execute_result"
    }
   ],
   "source": [
    "type(radius)"
   ]
  },
  {
   "cell_type": "code",
   "execution_count": null,
   "id": "ae40ae40-3d09-44ff-a917-42e29995b10c",
   "metadata": {},
   "outputs": [],
   "source": []
  }
 ],
 "metadata": {
  "kernelspec": {
   "display_name": "Python 3 (ipykernel)",
   "language": "python",
   "name": "python3"
  },
  "language_info": {
   "codemirror_mode": {
    "name": "ipython",
    "version": 3
   },
   "file_extension": ".py",
   "mimetype": "text/x-python",
   "name": "python",
   "nbconvert_exporter": "python",
   "pygments_lexer": "ipython3",
   "version": "3.9.12"
  }
 },
 "nbformat": 4,
 "nbformat_minor": 5
}
